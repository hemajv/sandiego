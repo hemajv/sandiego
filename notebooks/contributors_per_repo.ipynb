{
 "cells": [
  {
   "cell_type": "markdown",
   "metadata": {},
   "source": [
    "# GitHub Ecosystem Mapping\n",
    "\n",
    "In this notebook we will explore the Augur GitHub data to generate an ecosystem mapping of open source projects and communities by studying graphs based on relations such as common contributors and project activities between different GitHub repositories."
   ]
  },
  {
   "cell_type": "markdown",
   "metadata": {},
   "source": [
    "## Connect to Augur database"
   ]
  },
  {
   "cell_type": "markdown",
   "metadata": {},
   "source": [
    "Until the Operate First enviroment can connect to the DB, use config file to access. Do not push config file to Github repo"
   ]
  },
  {
   "cell_type": "code",
   "execution_count": 1,
   "metadata": {},
   "outputs": [],
   "source": [
    "import psycopg2\n",
    "import pandas as pd \n",
    "import sqlalchemy as salc\n",
    "import json\n",
    "import os\n",
    "import networkx as nx\n",
    "import matplotlib.pyplot as plt\n",
    "\n",
    "with open(\"../comm_cage.json\") as config_file:\n",
    "    config = json.load(config_file)"
   ]
  },
  {
   "cell_type": "code",
   "execution_count": 2,
   "metadata": {},
   "outputs": [],
   "source": [
    "database_connection_string = 'postgresql+psycopg2://{}:{}@{}:{}/{}'.format(config['user'], config['password'], config['host'], config['port'], config['database'])\n",
    "\n",
    "dbschema='augur_data'\n",
    "engine = salc.create_engine(\n",
    "    database_connection_string,\n",
    "    connect_args={'options': '-csearch_path={}'.format(dbschema)})"
   ]
  },
  {
   "cell_type": "markdown",
   "metadata": {},
   "source": [
    "## Retrieve Available Respositories"
   ]
  },
  {
   "cell_type": "code",
   "execution_count": 3,
   "metadata": {},
   "outputs": [
    {
     "data": {
      "text/html": [
       "<div>\n",
       "<style scoped>\n",
       "    .dataframe tbody tr th:only-of-type {\n",
       "        vertical-align: middle;\n",
       "    }\n",
       "\n",
       "    .dataframe tbody tr th {\n",
       "        vertical-align: top;\n",
       "    }\n",
       "\n",
       "    .dataframe thead th {\n",
       "        text-align: right;\n",
       "    }\n",
       "</style>\n",
       "<table border=\"1\" class=\"dataframe\">\n",
       "  <thead>\n",
       "    <tr style=\"text-align: right;\">\n",
       "      <th></th>\n",
       "      <th>rg_name</th>\n",
       "      <th>repo_group_id</th>\n",
       "      <th>repo_name</th>\n",
       "      <th>repo_id</th>\n",
       "      <th>forked_from</th>\n",
       "      <th>repo_archived</th>\n",
       "      <th>repo_git</th>\n",
       "    </tr>\n",
       "  </thead>\n",
       "  <tbody>\n",
       "    <tr>\n",
       "      <th>0</th>\n",
       "      <td>3scale</td>\n",
       "      <td>25556</td>\n",
       "      <td>3scale</td>\n",
       "      <td>33134</td>\n",
       "      <td>Parent not available</td>\n",
       "      <td>0.0</td>\n",
       "      <td>https://github.com/3scale/3scale.github.io</td>\n",
       "    </tr>\n",
       "    <tr>\n",
       "      <th>1</th>\n",
       "      <td>3scale</td>\n",
       "      <td>25556</td>\n",
       "      <td>3scale-amp-openshift-templates</td>\n",
       "      <td>33126</td>\n",
       "      <td>Parent not available</td>\n",
       "      <td>0.0</td>\n",
       "      <td>https://github.com/3scale/3scale-amp-openshift...</td>\n",
       "    </tr>\n",
       "    <tr>\n",
       "      <th>2</th>\n",
       "      <td>3scale</td>\n",
       "      <td>25556</td>\n",
       "      <td>3scale-api-python</td>\n",
       "      <td>33130</td>\n",
       "      <td>3scale-qe/3scale-api-python</td>\n",
       "      <td>0.0</td>\n",
       "      <td>https://github.com/3scale/3scale-api-python</td>\n",
       "    </tr>\n",
       "    <tr>\n",
       "      <th>3</th>\n",
       "      <td>3scale</td>\n",
       "      <td>25556</td>\n",
       "      <td>3scale-api-ruby</td>\n",
       "      <td>33158</td>\n",
       "      <td>Parent not available</td>\n",
       "      <td>0.0</td>\n",
       "      <td>https://github.com/3scale/3scale-api-ruby</td>\n",
       "    </tr>\n",
       "    <tr>\n",
       "      <th>4</th>\n",
       "      <td>3scale</td>\n",
       "      <td>25556</td>\n",
       "      <td>3scale-go-client</td>\n",
       "      <td>33169</td>\n",
       "      <td>Parent not available</td>\n",
       "      <td>0.0</td>\n",
       "      <td>https://github.com/3scale/3scale-go-client</td>\n",
       "    </tr>\n",
       "    <tr>\n",
       "      <th>...</th>\n",
       "      <td>...</td>\n",
       "      <td>...</td>\n",
       "      <td>...</td>\n",
       "      <td>...</td>\n",
       "      <td>...</td>\n",
       "      <td>...</td>\n",
       "      <td>...</td>\n",
       "    </tr>\n",
       "    <tr>\n",
       "      <th>10956</th>\n",
       "      <td>zerodayz</td>\n",
       "      <td>25482</td>\n",
       "      <td>sosreport-operator</td>\n",
       "      <td>30872</td>\n",
       "      <td>andreaskaris/sosreport-operator</td>\n",
       "      <td>0.0</td>\n",
       "      <td>https://github.com/zerodayz/sosreport-operator</td>\n",
       "    </tr>\n",
       "    <tr>\n",
       "      <th>10957</th>\n",
       "      <td>zerodayz</td>\n",
       "      <td>25482</td>\n",
       "      <td>talos</td>\n",
       "      <td>30863</td>\n",
       "      <td>siderolabs/talos</td>\n",
       "      <td>0.0</td>\n",
       "      <td>https://github.com/zerodayz/talos</td>\n",
       "    </tr>\n",
       "    <tr>\n",
       "      <th>10958</th>\n",
       "      <td>zerodayz</td>\n",
       "      <td>25482</td>\n",
       "      <td>tests</td>\n",
       "      <td>30838</td>\n",
       "      <td>kata-containers/tests</td>\n",
       "      <td>0.0</td>\n",
       "      <td>https://github.com/zerodayz/tests</td>\n",
       "    </tr>\n",
       "    <tr>\n",
       "      <th>10959</th>\n",
       "      <td>zerodayz</td>\n",
       "      <td>25482</td>\n",
       "      <td>web</td>\n",
       "      <td>30839</td>\n",
       "      <td>openshifttips/web</td>\n",
       "      <td>0.0</td>\n",
       "      <td>https://github.com/zerodayz/web</td>\n",
       "    </tr>\n",
       "    <tr>\n",
       "      <th>10960</th>\n",
       "      <td>zerodayz</td>\n",
       "      <td>25482</td>\n",
       "      <td>zerodayz</td>\n",
       "      <td>30816</td>\n",
       "      <td>Parent not available</td>\n",
       "      <td>0.0</td>\n",
       "      <td>https://github.com/zerodayz/zerodayz.gitlab.io</td>\n",
       "    </tr>\n",
       "  </tbody>\n",
       "</table>\n",
       "<p>10961 rows × 7 columns</p>\n",
       "</div>"
      ],
      "text/plain": [
       "        rg_name  repo_group_id                       repo_name  repo_id  \\\n",
       "0        3scale          25556                          3scale    33134   \n",
       "1        3scale          25556  3scale-amp-openshift-templates    33126   \n",
       "2        3scale          25556               3scale-api-python    33130   \n",
       "3        3scale          25556                 3scale-api-ruby    33158   \n",
       "4        3scale          25556                3scale-go-client    33169   \n",
       "...         ...            ...                             ...      ...   \n",
       "10956  zerodayz          25482              sosreport-operator    30872   \n",
       "10957  zerodayz          25482                           talos    30863   \n",
       "10958  zerodayz          25482                           tests    30838   \n",
       "10959  zerodayz          25482                             web    30839   \n",
       "10960  zerodayz          25482                        zerodayz    30816   \n",
       "\n",
       "                           forked_from  repo_archived  \\\n",
       "0                 Parent not available            0.0   \n",
       "1                 Parent not available            0.0   \n",
       "2          3scale-qe/3scale-api-python            0.0   \n",
       "3                 Parent not available            0.0   \n",
       "4                 Parent not available            0.0   \n",
       "...                                ...            ...   \n",
       "10956  andreaskaris/sosreport-operator            0.0   \n",
       "10957                 siderolabs/talos            0.0   \n",
       "10958            kata-containers/tests            0.0   \n",
       "10959                openshifttips/web            0.0   \n",
       "10960             Parent not available            0.0   \n",
       "\n",
       "                                                repo_git  \n",
       "0             https://github.com/3scale/3scale.github.io  \n",
       "1      https://github.com/3scale/3scale-amp-openshift...  \n",
       "2            https://github.com/3scale/3scale-api-python  \n",
       "3              https://github.com/3scale/3scale-api-ruby  \n",
       "4             https://github.com/3scale/3scale-go-client  \n",
       "...                                                  ...  \n",
       "10956     https://github.com/zerodayz/sosreport-operator  \n",
       "10957                  https://github.com/zerodayz/talos  \n",
       "10958                  https://github.com/zerodayz/tests  \n",
       "10959                    https://github.com/zerodayz/web  \n",
       "10960     https://github.com/zerodayz/zerodayz.gitlab.io  \n",
       "\n",
       "[10961 rows x 7 columns]"
      ]
     },
     "metadata": {},
     "output_type": "display_data"
    },
    {
     "data": {
      "text/plain": [
       "rg_name           object\n",
       "repo_group_id      int64\n",
       "repo_name         object\n",
       "repo_id            int64\n",
       "forked_from       object\n",
       "repo_archived    float64\n",
       "repo_git          object\n",
       "dtype: object"
      ]
     },
     "execution_count": 3,
     "metadata": {},
     "output_type": "execute_result"
    }
   ],
   "source": [
    "aval_repos = pd.DataFrame()\n",
    "repo_query = salc.sql.text(f\"\"\"\n",
    "             SET SCHEMA 'augur_data';\n",
    "             SELECT a.rg_name,\n",
    "                a.repo_group_id,\n",
    "                b.repo_name,\n",
    "                b.repo_id,\n",
    "                b.forked_from,\n",
    "                b.repo_archived,\n",
    "                b.repo_git\n",
    "            FROM\n",
    "                repo_groups a,\n",
    "                repo b\n",
    "            WHERE\n",
    "                a.repo_group_id = b.repo_group_id\n",
    "            ORDER BY\n",
    "                rg_name,\n",
    "                repo_name;\n",
    "    \"\"\")\n",
    "aval_repos = pd.read_sql(repo_query, con=engine)\n",
    "display(aval_repos)\n",
    "aval_repos.dtypes"
   ]
  },
  {
   "cell_type": "markdown",
   "metadata": {},
   "source": [
    "## Retrieve Issue Contributors\n",
    "\n",
    "We will now fetch all Issue contributors for various repositories."
   ]
  },
  {
   "cell_type": "code",
   "execution_count": 4,
   "metadata": {},
   "outputs": [
    {
     "data": {
      "text/html": [
       "<div>\n",
       "<style scoped>\n",
       "    .dataframe tbody tr th:only-of-type {\n",
       "        vertical-align: middle;\n",
       "    }\n",
       "\n",
       "    .dataframe tbody tr th {\n",
       "        vertical-align: top;\n",
       "    }\n",
       "\n",
       "    .dataframe thead th {\n",
       "        text-align: right;\n",
       "    }\n",
       "</style>\n",
       "<table border=\"1\" class=\"dataframe\">\n",
       "  <thead>\n",
       "    <tr style=\"text-align: right;\">\n",
       "      <th></th>\n",
       "      <th>Repo ID</th>\n",
       "      <th>Git</th>\n",
       "      <th>Issue Authors</th>\n",
       "    </tr>\n",
       "  </thead>\n",
       "  <tbody>\n",
       "    <tr>\n",
       "      <th>0</th>\n",
       "      <td>24441</td>\n",
       "      <td>https://github.com/operate-first/operate-first...</td>\n",
       "      <td>25438.0</td>\n",
       "    </tr>\n",
       "    <tr>\n",
       "      <th>1</th>\n",
       "      <td>24441</td>\n",
       "      <td>https://github.com/operate-first/operate-first...</td>\n",
       "      <td>25438.0</td>\n",
       "    </tr>\n",
       "    <tr>\n",
       "      <th>2</th>\n",
       "      <td>24441</td>\n",
       "      <td>https://github.com/operate-first/operate-first...</td>\n",
       "      <td>25438.0</td>\n",
       "    </tr>\n",
       "    <tr>\n",
       "      <th>3</th>\n",
       "      <td>24441</td>\n",
       "      <td>https://github.com/operate-first/operate-first...</td>\n",
       "      <td>25438.0</td>\n",
       "    </tr>\n",
       "    <tr>\n",
       "      <th>4</th>\n",
       "      <td>24441</td>\n",
       "      <td>https://github.com/operate-first/operate-first...</td>\n",
       "      <td>25449.0</td>\n",
       "    </tr>\n",
       "    <tr>\n",
       "      <th>...</th>\n",
       "      <td>...</td>\n",
       "      <td>...</td>\n",
       "      <td>...</td>\n",
       "    </tr>\n",
       "    <tr>\n",
       "      <th>49995</th>\n",
       "      <td>25759</td>\n",
       "      <td>https://github.com/eclipse/lemminx</td>\n",
       "      <td>NaN</td>\n",
       "    </tr>\n",
       "    <tr>\n",
       "      <th>49996</th>\n",
       "      <td>25759</td>\n",
       "      <td>https://github.com/eclipse/lemminx</td>\n",
       "      <td>NaN</td>\n",
       "    </tr>\n",
       "    <tr>\n",
       "      <th>49997</th>\n",
       "      <td>25759</td>\n",
       "      <td>https://github.com/eclipse/lemminx</td>\n",
       "      <td>NaN</td>\n",
       "    </tr>\n",
       "    <tr>\n",
       "      <th>49998</th>\n",
       "      <td>25759</td>\n",
       "      <td>https://github.com/eclipse/lemminx</td>\n",
       "      <td>NaN</td>\n",
       "    </tr>\n",
       "    <tr>\n",
       "      <th>49999</th>\n",
       "      <td>25759</td>\n",
       "      <td>https://github.com/eclipse/lemminx</td>\n",
       "      <td>NaN</td>\n",
       "    </tr>\n",
       "  </tbody>\n",
       "</table>\n",
       "<p>50000 rows × 3 columns</p>\n",
       "</div>"
      ],
      "text/plain": [
       "       Repo ID                                                Git  \\\n",
       "0        24441  https://github.com/operate-first/operate-first...   \n",
       "1        24441  https://github.com/operate-first/operate-first...   \n",
       "2        24441  https://github.com/operate-first/operate-first...   \n",
       "3        24441  https://github.com/operate-first/operate-first...   \n",
       "4        24441  https://github.com/operate-first/operate-first...   \n",
       "...        ...                                                ...   \n",
       "49995    25759                 https://github.com/eclipse/lemminx   \n",
       "49996    25759                 https://github.com/eclipse/lemminx   \n",
       "49997    25759                 https://github.com/eclipse/lemminx   \n",
       "49998    25759                 https://github.com/eclipse/lemminx   \n",
       "49999    25759                 https://github.com/eclipse/lemminx   \n",
       "\n",
       "       Issue Authors  \n",
       "0            25438.0  \n",
       "1            25438.0  \n",
       "2            25438.0  \n",
       "3            25438.0  \n",
       "4            25449.0  \n",
       "...              ...  \n",
       "49995            NaN  \n",
       "49996            NaN  \n",
       "49997            NaN  \n",
       "49998            NaN  \n",
       "49999            NaN  \n",
       "\n",
       "[50000 rows x 3 columns]"
      ]
     },
     "metadata": {},
     "output_type": "display_data"
    },
    {
     "data": {
      "text/plain": [
       "Repo ID            int64\n",
       "Git               object\n",
       "Issue Authors    float64\n",
       "dtype: object"
      ]
     },
     "execution_count": 4,
     "metadata": {},
     "output_type": "execute_result"
    }
   ],
   "source": [
    "issue_contrib = pd.DataFrame()\n",
    "repo_query = salc.sql.text(f\"\"\"\n",
    "            SET SCHEMA 'augur_data';\n",
    "            SELECT r.repo_id,\n",
    "            r.repo_git,\n",
    "            i.cntrb_id\n",
    "            FROM\n",
    "            repo r, issues i\n",
    "             WHERE\n",
    "            i.repo_id = r.repo_id\n",
    "            limit 50000\n",
    "    \"\"\")\n",
    "issue_contrib = pd.read_sql(repo_query, con=engine)\n",
    "issue_contrib.columns =['Repo ID', 'Git', 'Issue Authors']\n",
    "\n",
    "display(issue_contrib)\n",
    "issue_contrib.dtypes"
   ]
  },
  {
   "cell_type": "code",
   "execution_count": 5,
   "metadata": {},
   "outputs": [
    {
     "data": {
      "text/plain": [
       "Repo ID          216\n",
       "Git              216\n",
       "Issue Authors    918\n",
       "dtype: int64"
      ]
     },
     "execution_count": 5,
     "metadata": {},
     "output_type": "execute_result"
    }
   ],
   "source": [
    "issue_contrib.nunique()"
   ]
  },
  {
   "cell_type": "markdown",
   "metadata": {},
   "source": [
    "## Retrieve PR Contributors\n",
    "\n",
    "We will now fetch all the PR contributors for various repositories."
   ]
  },
  {
   "cell_type": "code",
   "execution_count": 6,
   "metadata": {},
   "outputs": [
    {
     "data": {
      "text/html": [
       "<div>\n",
       "<style scoped>\n",
       "    .dataframe tbody tr th:only-of-type {\n",
       "        vertical-align: middle;\n",
       "    }\n",
       "\n",
       "    .dataframe tbody tr th {\n",
       "        vertical-align: top;\n",
       "    }\n",
       "\n",
       "    .dataframe thead th {\n",
       "        text-align: right;\n",
       "    }\n",
       "</style>\n",
       "<table border=\"1\" class=\"dataframe\">\n",
       "  <thead>\n",
       "    <tr style=\"text-align: right;\">\n",
       "      <th></th>\n",
       "      <th>Repo ID</th>\n",
       "      <th>Git</th>\n",
       "      <th>PR Creators</th>\n",
       "    </tr>\n",
       "  </thead>\n",
       "  <tbody>\n",
       "    <tr>\n",
       "      <th>0</th>\n",
       "      <td>27458</td>\n",
       "      <td>https://github.com/operate-first/continuous-de...</td>\n",
       "      <td>25443</td>\n",
       "    </tr>\n",
       "    <tr>\n",
       "      <th>1</th>\n",
       "      <td>27458</td>\n",
       "      <td>https://github.com/operate-first/continuous-de...</td>\n",
       "      <td>25465</td>\n",
       "    </tr>\n",
       "    <tr>\n",
       "      <th>2</th>\n",
       "      <td>27458</td>\n",
       "      <td>https://github.com/operate-first/continuous-de...</td>\n",
       "      <td>25444</td>\n",
       "    </tr>\n",
       "    <tr>\n",
       "      <th>3</th>\n",
       "      <td>27458</td>\n",
       "      <td>https://github.com/operate-first/continuous-de...</td>\n",
       "      <td>25465</td>\n",
       "    </tr>\n",
       "    <tr>\n",
       "      <th>4</th>\n",
       "      <td>27458</td>\n",
       "      <td>https://github.com/operate-first/continuous-de...</td>\n",
       "      <td>25433</td>\n",
       "    </tr>\n",
       "    <tr>\n",
       "      <th>...</th>\n",
       "      <td>...</td>\n",
       "      <td>...</td>\n",
       "      <td>...</td>\n",
       "    </tr>\n",
       "    <tr>\n",
       "      <th>49995</th>\n",
       "      <td>28335</td>\n",
       "      <td>https://github.com/ansible/ansible-modules-core</td>\n",
       "      <td>91339</td>\n",
       "    </tr>\n",
       "    <tr>\n",
       "      <th>49996</th>\n",
       "      <td>28335</td>\n",
       "      <td>https://github.com/ansible/ansible-modules-core</td>\n",
       "      <td>58062</td>\n",
       "    </tr>\n",
       "    <tr>\n",
       "      <th>49997</th>\n",
       "      <td>32524</td>\n",
       "      <td>https://github.com/openshift/test-pull-requests</td>\n",
       "      <td>2204263</td>\n",
       "    </tr>\n",
       "    <tr>\n",
       "      <th>49998</th>\n",
       "      <td>32524</td>\n",
       "      <td>https://github.com/openshift/test-pull-requests</td>\n",
       "      <td>2204295</td>\n",
       "    </tr>\n",
       "    <tr>\n",
       "      <th>49999</th>\n",
       "      <td>35092</td>\n",
       "      <td>https://github.com/debezium/postgres-decoderbufs</td>\n",
       "      <td>2204275</td>\n",
       "    </tr>\n",
       "  </tbody>\n",
       "</table>\n",
       "<p>50000 rows × 3 columns</p>\n",
       "</div>"
      ],
      "text/plain": [
       "       Repo ID                                                Git  PR Creators\n",
       "0        27458  https://github.com/operate-first/continuous-de...        25443\n",
       "1        27458  https://github.com/operate-first/continuous-de...        25465\n",
       "2        27458  https://github.com/operate-first/continuous-de...        25444\n",
       "3        27458  https://github.com/operate-first/continuous-de...        25465\n",
       "4        27458  https://github.com/operate-first/continuous-de...        25433\n",
       "...        ...                                                ...          ...\n",
       "49995    28335    https://github.com/ansible/ansible-modules-core        91339\n",
       "49996    28335    https://github.com/ansible/ansible-modules-core        58062\n",
       "49997    32524    https://github.com/openshift/test-pull-requests      2204263\n",
       "49998    32524    https://github.com/openshift/test-pull-requests      2204295\n",
       "49999    35092   https://github.com/debezium/postgres-decoderbufs      2204275\n",
       "\n",
       "[50000 rows x 3 columns]"
      ]
     },
     "metadata": {},
     "output_type": "display_data"
    },
    {
     "data": {
      "text/plain": [
       "Repo ID         int64\n",
       "Git            object\n",
       "PR Creators     int64\n",
       "dtype: object"
      ]
     },
     "execution_count": 6,
     "metadata": {},
     "output_type": "execute_result"
    }
   ],
   "source": [
    "pr_contrib = pd.DataFrame()\n",
    "repo_query = salc.sql.text(f\"\"\"\n",
    "            SET SCHEMA 'augur_data';\n",
    "            SELECT r.repo_id,\n",
    "            r.repo_git,\n",
    "            prm.cntrb_id\n",
    "            FROM\n",
    "            repo r, pull_request_meta prm \n",
    "             WHERE\n",
    "            prm.repo_id = r.repo_id\n",
    "            limit 50000\n",
    "    \"\"\")\n",
    "pr_contrib = pd.read_sql(repo_query, con=engine)\n",
    "pr_contrib.columns =['Repo ID', 'Git', 'PR Creators']\n",
    "\n",
    "display(pr_contrib)\n",
    "pr_contrib.dtypes"
   ]
  },
  {
   "cell_type": "code",
   "execution_count": 7,
   "metadata": {},
   "outputs": [
    {
     "data": {
      "text/plain": [
       "Repo ID         284\n",
       "Git             284\n",
       "PR Creators    2054\n",
       "dtype: int64"
      ]
     },
     "execution_count": 7,
     "metadata": {},
     "output_type": "execute_result"
    }
   ],
   "source": [
    "pr_contrib.nunique()"
   ]
  },
  {
   "cell_type": "markdown",
   "metadata": {},
   "source": [
    "## Retrieve PR Reviewers\n",
    "\n",
    "We will now fetch all the PR Reviewers for various repositories.\n",
    "\n",
    "Note:\n",
    "- fetch PR id"
   ]
  },
  {
   "cell_type": "code",
   "execution_count": 8,
   "metadata": {},
   "outputs": [
    {
     "data": {
      "text/html": [
       "<div>\n",
       "<style scoped>\n",
       "    .dataframe tbody tr th:only-of-type {\n",
       "        vertical-align: middle;\n",
       "    }\n",
       "\n",
       "    .dataframe tbody tr th {\n",
       "        vertical-align: top;\n",
       "    }\n",
       "\n",
       "    .dataframe thead th {\n",
       "        text-align: right;\n",
       "    }\n",
       "</style>\n",
       "<table border=\"1\" class=\"dataframe\">\n",
       "  <thead>\n",
       "    <tr style=\"text-align: right;\">\n",
       "      <th></th>\n",
       "      <th>Repo ID</th>\n",
       "      <th>Git</th>\n",
       "      <th>PR Reviewers</th>\n",
       "    </tr>\n",
       "  </thead>\n",
       "  <tbody>\n",
       "    <tr>\n",
       "      <th>0</th>\n",
       "      <td>27458</td>\n",
       "      <td>https://github.com/operate-first/continuous-de...</td>\n",
       "      <td>25443</td>\n",
       "    </tr>\n",
       "    <tr>\n",
       "      <th>1</th>\n",
       "      <td>27458</td>\n",
       "      <td>https://github.com/operate-first/continuous-de...</td>\n",
       "      <td>25443</td>\n",
       "    </tr>\n",
       "    <tr>\n",
       "      <th>2</th>\n",
       "      <td>27458</td>\n",
       "      <td>https://github.com/operate-first/continuous-de...</td>\n",
       "      <td>25444</td>\n",
       "    </tr>\n",
       "    <tr>\n",
       "      <th>3</th>\n",
       "      <td>27458</td>\n",
       "      <td>https://github.com/operate-first/continuous-de...</td>\n",
       "      <td>25444</td>\n",
       "    </tr>\n",
       "    <tr>\n",
       "      <th>4</th>\n",
       "      <td>27458</td>\n",
       "      <td>https://github.com/operate-first/continuous-de...</td>\n",
       "      <td>25446</td>\n",
       "    </tr>\n",
       "    <tr>\n",
       "      <th>...</th>\n",
       "      <td>...</td>\n",
       "      <td>...</td>\n",
       "      <td>...</td>\n",
       "    </tr>\n",
       "    <tr>\n",
       "      <th>26800</th>\n",
       "      <td>28308</td>\n",
       "      <td>https://github.com/ansible/lightbulb</td>\n",
       "      <td>58328</td>\n",
       "    </tr>\n",
       "    <tr>\n",
       "      <th>26801</th>\n",
       "      <td>28308</td>\n",
       "      <td>https://github.com/ansible/lightbulb</td>\n",
       "      <td>58179</td>\n",
       "    </tr>\n",
       "    <tr>\n",
       "      <th>26802</th>\n",
       "      <td>28308</td>\n",
       "      <td>https://github.com/ansible/lightbulb</td>\n",
       "      <td>58059</td>\n",
       "    </tr>\n",
       "    <tr>\n",
       "      <th>26803</th>\n",
       "      <td>28308</td>\n",
       "      <td>https://github.com/ansible/lightbulb</td>\n",
       "      <td>58232</td>\n",
       "    </tr>\n",
       "    <tr>\n",
       "      <th>26804</th>\n",
       "      <td>28308</td>\n",
       "      <td>https://github.com/ansible/lightbulb</td>\n",
       "      <td>58232</td>\n",
       "    </tr>\n",
       "  </tbody>\n",
       "</table>\n",
       "<p>26805 rows × 3 columns</p>\n",
       "</div>"
      ],
      "text/plain": [
       "       Repo ID                                                Git  \\\n",
       "0        27458  https://github.com/operate-first/continuous-de...   \n",
       "1        27458  https://github.com/operate-first/continuous-de...   \n",
       "2        27458  https://github.com/operate-first/continuous-de...   \n",
       "3        27458  https://github.com/operate-first/continuous-de...   \n",
       "4        27458  https://github.com/operate-first/continuous-de...   \n",
       "...        ...                                                ...   \n",
       "26800    28308               https://github.com/ansible/lightbulb   \n",
       "26801    28308               https://github.com/ansible/lightbulb   \n",
       "26802    28308               https://github.com/ansible/lightbulb   \n",
       "26803    28308               https://github.com/ansible/lightbulb   \n",
       "26804    28308               https://github.com/ansible/lightbulb   \n",
       "\n",
       "       PR Reviewers  \n",
       "0             25443  \n",
       "1             25443  \n",
       "2             25444  \n",
       "3             25444  \n",
       "4             25446  \n",
       "...             ...  \n",
       "26800         58328  \n",
       "26801         58179  \n",
       "26802         58059  \n",
       "26803         58232  \n",
       "26804         58232  \n",
       "\n",
       "[26805 rows x 3 columns]"
      ]
     },
     "metadata": {},
     "output_type": "display_data"
    },
    {
     "data": {
      "text/plain": [
       "Repo ID          int64\n",
       "Git             object\n",
       "PR Reviewers     int64\n",
       "dtype: object"
      ]
     },
     "execution_count": 8,
     "metadata": {},
     "output_type": "execute_result"
    }
   ],
   "source": [
    "prr_contrib = pd.DataFrame()\n",
    "repo_query = salc.sql.text(f\"\"\"\n",
    "            SET SCHEMA 'augur_data';\n",
    "            SELECT r.repo_id,\n",
    "            r.repo_git,\n",
    "            prr.cntrb_id\n",
    "            FROM\n",
    "            repo r, pull_request_reviews prr\n",
    "             WHERE\n",
    "            prr.repo_id = r.repo_id\n",
    "            limit 50000\n",
    "    \"\"\")\n",
    "prr_contrib = pd.read_sql(repo_query, con=engine)\n",
    "prr_contrib.columns =['Repo ID', 'Git', 'PR Reviewers']\n",
    "\n",
    "display(prr_contrib)\n",
    "prr_contrib.dtypes"
   ]
  },
  {
   "cell_type": "code",
   "execution_count": 9,
   "metadata": {},
   "outputs": [
    {
     "data": {
      "text/plain": [
       "Repo ID         191\n",
       "Git             191\n",
       "PR Reviewers    961\n",
       "dtype: int64"
      ]
     },
     "execution_count": 9,
     "metadata": {},
     "output_type": "execute_result"
    }
   ],
   "source": [
    "prr_contrib.nunique()"
   ]
  },
  {
   "cell_type": "markdown",
   "metadata": {},
   "source": [
    "## Retrieve Commit Contributors\n",
    "\n",
    "We will now fetch all the Commit contributors for various repositories."
   ]
  },
  {
   "cell_type": "code",
   "execution_count": 10,
   "metadata": {},
   "outputs": [
    {
     "data": {
      "text/html": [
       "<div>\n",
       "<style scoped>\n",
       "    .dataframe tbody tr th:only-of-type {\n",
       "        vertical-align: middle;\n",
       "    }\n",
       "\n",
       "    .dataframe tbody tr th {\n",
       "        vertical-align: top;\n",
       "    }\n",
       "\n",
       "    .dataframe thead th {\n",
       "        text-align: right;\n",
       "    }\n",
       "</style>\n",
       "<table border=\"1\" class=\"dataframe\">\n",
       "  <thead>\n",
       "    <tr style=\"text-align: right;\">\n",
       "      <th></th>\n",
       "      <th>Repo ID</th>\n",
       "      <th>Git</th>\n",
       "      <th>Commit Creators</th>\n",
       "    </tr>\n",
       "  </thead>\n",
       "  <tbody>\n",
       "    <tr>\n",
       "      <th>0</th>\n",
       "      <td>27572</td>\n",
       "      <td>https://github.com/SELinuxProject/selinux-kernel</td>\n",
       "      <td>32680</td>\n",
       "    </tr>\n",
       "    <tr>\n",
       "      <th>1</th>\n",
       "      <td>27572</td>\n",
       "      <td>https://github.com/SELinuxProject/selinux-kernel</td>\n",
       "      <td>32680</td>\n",
       "    </tr>\n",
       "    <tr>\n",
       "      <th>2</th>\n",
       "      <td>27572</td>\n",
       "      <td>https://github.com/SELinuxProject/selinux-kernel</td>\n",
       "      <td>32680</td>\n",
       "    </tr>\n",
       "    <tr>\n",
       "      <th>3</th>\n",
       "      <td>36109</td>\n",
       "      <td>https://github.com/torvalds/linux</td>\n",
       "      <td>32680</td>\n",
       "    </tr>\n",
       "    <tr>\n",
       "      <th>4</th>\n",
       "      <td>27572</td>\n",
       "      <td>https://github.com/SELinuxProject/selinux-kernel</td>\n",
       "      <td>32680</td>\n",
       "    </tr>\n",
       "    <tr>\n",
       "      <th>...</th>\n",
       "      <td>...</td>\n",
       "      <td>...</td>\n",
       "      <td>...</td>\n",
       "    </tr>\n",
       "    <tr>\n",
       "      <th>49995</th>\n",
       "      <td>36109</td>\n",
       "      <td>https://github.com/torvalds/linux</td>\n",
       "      <td>30918</td>\n",
       "    </tr>\n",
       "    <tr>\n",
       "      <th>49996</th>\n",
       "      <td>36109</td>\n",
       "      <td>https://github.com/torvalds/linux</td>\n",
       "      <td>29297</td>\n",
       "    </tr>\n",
       "    <tr>\n",
       "      <th>49997</th>\n",
       "      <td>36109</td>\n",
       "      <td>https://github.com/torvalds/linux</td>\n",
       "      <td>30918</td>\n",
       "    </tr>\n",
       "    <tr>\n",
       "      <th>49998</th>\n",
       "      <td>36109</td>\n",
       "      <td>https://github.com/torvalds/linux</td>\n",
       "      <td>30918</td>\n",
       "    </tr>\n",
       "    <tr>\n",
       "      <th>49999</th>\n",
       "      <td>36109</td>\n",
       "      <td>https://github.com/torvalds/linux</td>\n",
       "      <td>30918</td>\n",
       "    </tr>\n",
       "  </tbody>\n",
       "</table>\n",
       "<p>50000 rows × 3 columns</p>\n",
       "</div>"
      ],
      "text/plain": [
       "       Repo ID                                               Git  \\\n",
       "0        27572  https://github.com/SELinuxProject/selinux-kernel   \n",
       "1        27572  https://github.com/SELinuxProject/selinux-kernel   \n",
       "2        27572  https://github.com/SELinuxProject/selinux-kernel   \n",
       "3        36109                 https://github.com/torvalds/linux   \n",
       "4        27572  https://github.com/SELinuxProject/selinux-kernel   \n",
       "...        ...                                               ...   \n",
       "49995    36109                 https://github.com/torvalds/linux   \n",
       "49996    36109                 https://github.com/torvalds/linux   \n",
       "49997    36109                 https://github.com/torvalds/linux   \n",
       "49998    36109                 https://github.com/torvalds/linux   \n",
       "49999    36109                 https://github.com/torvalds/linux   \n",
       "\n",
       "       Commit Creators  \n",
       "0                32680  \n",
       "1                32680  \n",
       "2                32680  \n",
       "3                32680  \n",
       "4                32680  \n",
       "...                ...  \n",
       "49995            30918  \n",
       "49996            29297  \n",
       "49997            30918  \n",
       "49998            30918  \n",
       "49999            30918  \n",
       "\n",
       "[50000 rows x 3 columns]"
      ]
     },
     "metadata": {},
     "output_type": "display_data"
    },
    {
     "data": {
      "text/plain": [
       "Repo ID             int64\n",
       "Git                object\n",
       "Commit Creators     int64\n",
       "dtype: object"
      ]
     },
     "execution_count": 10,
     "metadata": {},
     "output_type": "execute_result"
    }
   ],
   "source": [
    "commit_contrib = pd.DataFrame()\n",
    "repo_query = salc.sql.text(f\"\"\"\n",
    "            SET SCHEMA 'augur_data';\n",
    "            SELECT r.repo_id,\n",
    "            r.repo_git,\n",
    "            ca.cntrb_id\n",
    "            FROM\n",
    "            repo r, commits c, contributors_aliases ca\n",
    "             WHERE\n",
    "            c.repo_id = r.repo_id and\n",
    "            c.cmt_committer_email = ca.alias_email\n",
    "            limit 50000\n",
    "    \"\"\")\n",
    "commit_contrib = pd.read_sql(repo_query, con=engine)\n",
    "commit_contrib.columns =['Repo ID', 'Git', 'Commit Creators']\n",
    "\n",
    "display(commit_contrib)\n",
    "commit_contrib.dtypes"
   ]
  },
  {
   "cell_type": "code",
   "execution_count": 11,
   "metadata": {},
   "outputs": [
    {
     "data": {
      "text/plain": [
       "Repo ID            77\n",
       "Git                77\n",
       "Commit Creators    42\n",
       "dtype: int64"
      ]
     },
     "execution_count": 11,
     "metadata": {},
     "output_type": "execute_result"
    }
   ],
   "source": [
    "commit_contrib.nunique()"
   ]
  },
  {
   "cell_type": "markdown",
   "metadata": {},
   "source": [
    "## Merge Data Sets\n",
    "\n",
    "We will now merge all the data sets into a single data frame."
   ]
  },
  {
   "cell_type": "code",
   "execution_count": 12,
   "metadata": {},
   "outputs": [],
   "source": [
    "df_all_new = pd.merge(commit_contrib, issue_contrib, on=['Repo ID','Git'], how='outer')"
   ]
  },
  {
   "cell_type": "code",
   "execution_count": 13,
   "metadata": {},
   "outputs": [
    {
     "data": {
      "text/plain": [
       "Repo ID            293\n",
       "Git                293\n",
       "Commit Creators     42\n",
       "Issue Authors      918\n",
       "dtype: int64"
      ]
     },
     "execution_count": 13,
     "metadata": {},
     "output_type": "execute_result"
    }
   ],
   "source": [
    "df_all_new.nunique()"
   ]
  },
  {
   "cell_type": "code",
   "execution_count": 14,
   "metadata": {},
   "outputs": [],
   "source": [
    "df_all_new = pd.merge(df_all_new, pr_contrib, on=['Repo ID', 'Git'], how='outer')"
   ]
  },
  {
   "cell_type": "code",
   "execution_count": 15,
   "metadata": {},
   "outputs": [
    {
     "data": {
      "text/plain": [
       "Repo ID             570\n",
       "Git                 570\n",
       "Commit Creators      42\n",
       "Issue Authors       918\n",
       "PR Creators        2054\n",
       "dtype: int64"
      ]
     },
     "execution_count": 15,
     "metadata": {},
     "output_type": "execute_result"
    }
   ],
   "source": [
    "df_all_new.nunique()"
   ]
  },
  {
   "cell_type": "code",
   "execution_count": 16,
   "metadata": {},
   "outputs": [],
   "source": [
    "df_all_new = pd.merge(df_all_new, prr_contrib, on=['Repo ID', 'Git'], how='outer')"
   ]
  },
  {
   "cell_type": "code",
   "execution_count": 17,
   "metadata": {},
   "outputs": [
    {
     "data": {
      "text/plain": [
       "Repo ID             570\n",
       "Git                 570\n",
       "Commit Creators      42\n",
       "Issue Authors       918\n",
       "PR Creators        2054\n",
       "PR Reviewers        961\n",
       "dtype: int64"
      ]
     },
     "execution_count": 17,
     "metadata": {},
     "output_type": "execute_result"
    }
   ],
   "source": [
    "df_all_new.nunique()"
   ]
  },
  {
   "cell_type": "code",
   "execution_count": 18,
   "metadata": {},
   "outputs": [
    {
     "data": {
      "text/html": [
       "<div>\n",
       "<style scoped>\n",
       "    .dataframe tbody tr th:only-of-type {\n",
       "        vertical-align: middle;\n",
       "    }\n",
       "\n",
       "    .dataframe tbody tr th {\n",
       "        vertical-align: top;\n",
       "    }\n",
       "\n",
       "    .dataframe thead th {\n",
       "        text-align: right;\n",
       "    }\n",
       "</style>\n",
       "<table border=\"1\" class=\"dataframe\">\n",
       "  <thead>\n",
       "    <tr style=\"text-align: right;\">\n",
       "      <th></th>\n",
       "      <th>Repo ID</th>\n",
       "      <th>Git</th>\n",
       "      <th>Commit Creators</th>\n",
       "      <th>Issue Authors</th>\n",
       "      <th>PR Creators</th>\n",
       "      <th>PR Reviewers</th>\n",
       "    </tr>\n",
       "  </thead>\n",
       "  <tbody>\n",
       "    <tr>\n",
       "      <th>0</th>\n",
       "      <td>27572</td>\n",
       "      <td>https://github.com/SELinuxProject/selinux-kernel</td>\n",
       "      <td>32680.0</td>\n",
       "      <td>NaN</td>\n",
       "      <td>NaN</td>\n",
       "      <td>NaN</td>\n",
       "    </tr>\n",
       "    <tr>\n",
       "      <th>1</th>\n",
       "      <td>27572</td>\n",
       "      <td>https://github.com/SELinuxProject/selinux-kernel</td>\n",
       "      <td>32680.0</td>\n",
       "      <td>NaN</td>\n",
       "      <td>NaN</td>\n",
       "      <td>NaN</td>\n",
       "    </tr>\n",
       "    <tr>\n",
       "      <th>2</th>\n",
       "      <td>27572</td>\n",
       "      <td>https://github.com/SELinuxProject/selinux-kernel</td>\n",
       "      <td>32680.0</td>\n",
       "      <td>NaN</td>\n",
       "      <td>NaN</td>\n",
       "      <td>NaN</td>\n",
       "    </tr>\n",
       "    <tr>\n",
       "      <th>3</th>\n",
       "      <td>27572</td>\n",
       "      <td>https://github.com/SELinuxProject/selinux-kernel</td>\n",
       "      <td>32680.0</td>\n",
       "      <td>NaN</td>\n",
       "      <td>NaN</td>\n",
       "      <td>NaN</td>\n",
       "    </tr>\n",
       "    <tr>\n",
       "      <th>4</th>\n",
       "      <td>27572</td>\n",
       "      <td>https://github.com/SELinuxProject/selinux-kernel</td>\n",
       "      <td>32680.0</td>\n",
       "      <td>NaN</td>\n",
       "      <td>NaN</td>\n",
       "      <td>NaN</td>\n",
       "    </tr>\n",
       "  </tbody>\n",
       "</table>\n",
       "</div>"
      ],
      "text/plain": [
       "   Repo ID                                               Git  Commit Creators  \\\n",
       "0    27572  https://github.com/SELinuxProject/selinux-kernel          32680.0   \n",
       "1    27572  https://github.com/SELinuxProject/selinux-kernel          32680.0   \n",
       "2    27572  https://github.com/SELinuxProject/selinux-kernel          32680.0   \n",
       "3    27572  https://github.com/SELinuxProject/selinux-kernel          32680.0   \n",
       "4    27572  https://github.com/SELinuxProject/selinux-kernel          32680.0   \n",
       "\n",
       "   Issue Authors  PR Creators  PR Reviewers  \n",
       "0            NaN          NaN           NaN  \n",
       "1            NaN          NaN           NaN  \n",
       "2            NaN          NaN           NaN  \n",
       "3            NaN          NaN           NaN  \n",
       "4            NaN          NaN           NaN  "
      ]
     },
     "execution_count": 18,
     "metadata": {},
     "output_type": "execute_result"
    }
   ],
   "source": [
    "df_all_new.head()"
   ]
  },
  {
   "cell_type": "code",
   "execution_count": 19,
   "metadata": {},
   "outputs": [
    {
     "data": {
      "text/plain": [
       "100690528"
      ]
     },
     "execution_count": 19,
     "metadata": {},
     "output_type": "execute_result"
    }
   ],
   "source": [
    "len(df_all_new)"
   ]
  },
  {
   "cell_type": "code",
   "execution_count": 20,
   "metadata": {},
   "outputs": [],
   "source": [
    "# Lets subset the first 50000 rows\n",
    "df_all = df_all_new[0:50000]"
   ]
  },
  {
   "cell_type": "markdown",
   "metadata": {},
   "source": [
    "### Commit Contributor Graph"
   ]
  },
  {
   "cell_type": "code",
   "execution_count": 58,
   "metadata": {},
   "outputs": [],
   "source": [
    "df_test = df_all.groupby(['Repo ID', 'Commit Creators', 'Issue Authors', 'PR Creators', 'PR Reviewers']).size().unstack(fill_value=0)"
   ]
  },
  {
   "cell_type": "code",
   "execution_count": 59,
   "metadata": {},
   "outputs": [
    {
     "data": {
      "text/html": [
       "<div>\n",
       "<style scoped>\n",
       "    .dataframe tbody tr th:only-of-type {\n",
       "        vertical-align: middle;\n",
       "    }\n",
       "\n",
       "    .dataframe tbody tr th {\n",
       "        vertical-align: top;\n",
       "    }\n",
       "\n",
       "    .dataframe thead th {\n",
       "        text-align: right;\n",
       "    }\n",
       "</style>\n",
       "<table border=\"1\" class=\"dataframe\">\n",
       "  <thead>\n",
       "    <tr style=\"text-align: right;\">\n",
       "      <th></th>\n",
       "      <th></th>\n",
       "      <th></th>\n",
       "      <th>PR Reviewers</th>\n",
       "    </tr>\n",
       "    <tr>\n",
       "      <th>Repo ID</th>\n",
       "      <th>Commit Creators</th>\n",
       "      <th>Issue Authors</th>\n",
       "      <th>PR Creators</th>\n",
       "    </tr>\n",
       "  </thead>\n",
       "  <tbody>\n",
       "  </tbody>\n",
       "</table>\n",
       "</div>"
      ],
      "text/plain": [
       "Empty DataFrame\n",
       "Columns: []\n",
       "Index: []"
      ]
     },
     "execution_count": 59,
     "metadata": {},
     "output_type": "execute_result"
    }
   ],
   "source": [
    "df_test.head()"
   ]
  },
  {
   "cell_type": "code",
   "execution_count": 23,
   "metadata": {},
   "outputs": [
    {
     "data": {
      "text/html": [
       "<div>\n",
       "<style scoped>\n",
       "    .dataframe tbody tr th:only-of-type {\n",
       "        vertical-align: middle;\n",
       "    }\n",
       "\n",
       "    .dataframe tbody tr th {\n",
       "        vertical-align: top;\n",
       "    }\n",
       "\n",
       "    .dataframe thead th {\n",
       "        text-align: right;\n",
       "    }\n",
       "</style>\n",
       "<table border=\"1\" class=\"dataframe\">\n",
       "  <thead>\n",
       "    <tr style=\"text-align: right;\">\n",
       "      <th>Commit Creators</th>\n",
       "      <th>29297.0</th>\n",
       "      <th>30918.0</th>\n",
       "      <th>32680.0</th>\n",
       "    </tr>\n",
       "    <tr>\n",
       "      <th>Repo ID</th>\n",
       "      <th></th>\n",
       "      <th></th>\n",
       "      <th></th>\n",
       "    </tr>\n",
       "  </thead>\n",
       "  <tbody>\n",
       "    <tr>\n",
       "      <th>27572</th>\n",
       "      <td>36</td>\n",
       "      <td>3909</td>\n",
       "      <td>3906</td>\n",
       "    </tr>\n",
       "    <tr>\n",
       "      <th>36109</th>\n",
       "      <td>0</td>\n",
       "      <td>0</td>\n",
       "      <td>42149</td>\n",
       "    </tr>\n",
       "  </tbody>\n",
       "</table>\n",
       "</div>"
      ],
      "text/plain": [
       "Commit Creators  29297.0  30918.0  32680.0\n",
       "Repo ID                                   \n",
       "27572                 36     3909     3906\n",
       "36109                  0        0    42149"
      ]
     },
     "execution_count": 23,
     "metadata": {},
     "output_type": "execute_result"
    }
   ],
   "source": [
    "df_commit = df_all.groupby(['Repo ID', 'Commit Creators']).size().unstack(fill_value=0)\n",
    "df_commit.head()"
   ]
  },
  {
   "cell_type": "code",
   "execution_count": 24,
   "metadata": {},
   "outputs": [
    {
     "data": {
      "text/plain": [
       "Float64Index([29297.0, 30918.0, 32680.0], dtype='float64', name='Commit Creators')"
      ]
     },
     "execution_count": 24,
     "metadata": {},
     "output_type": "execute_result"
    }
   ],
   "source": [
    "df_commit.columns"
   ]
  },
  {
   "cell_type": "code",
   "execution_count": 25,
   "metadata": {},
   "outputs": [],
   "source": [
    "df_commit = df_commit.reset_index()"
   ]
  },
  {
   "cell_type": "code",
   "execution_count": 26,
   "metadata": {},
   "outputs": [
    {
     "data": {
      "text/html": [
       "<div>\n",
       "<style scoped>\n",
       "    .dataframe tbody tr th:only-of-type {\n",
       "        vertical-align: middle;\n",
       "    }\n",
       "\n",
       "    .dataframe tbody tr th {\n",
       "        vertical-align: top;\n",
       "    }\n",
       "\n",
       "    .dataframe thead th {\n",
       "        text-align: right;\n",
       "    }\n",
       "</style>\n",
       "<table border=\"1\" class=\"dataframe\">\n",
       "  <thead>\n",
       "    <tr style=\"text-align: right;\">\n",
       "      <th>Commit Creators</th>\n",
       "      <th>Repo ID</th>\n",
       "      <th>29297.0</th>\n",
       "      <th>30918.0</th>\n",
       "      <th>32680.0</th>\n",
       "    </tr>\n",
       "  </thead>\n",
       "  <tbody>\n",
       "    <tr>\n",
       "      <th>0</th>\n",
       "      <td>27572</td>\n",
       "      <td>36</td>\n",
       "      <td>3909</td>\n",
       "      <td>3906</td>\n",
       "    </tr>\n",
       "    <tr>\n",
       "      <th>1</th>\n",
       "      <td>36109</td>\n",
       "      <td>0</td>\n",
       "      <td>0</td>\n",
       "      <td>42149</td>\n",
       "    </tr>\n",
       "  </tbody>\n",
       "</table>\n",
       "</div>"
      ],
      "text/plain": [
       "Commit Creators  Repo ID  29297.0  30918.0  32680.0\n",
       "0                  27572       36     3909     3906\n",
       "1                  36109        0        0    42149"
      ]
     },
     "execution_count": 26,
     "metadata": {},
     "output_type": "execute_result"
    }
   ],
   "source": [
    "df_commit.head()"
   ]
  },
  {
   "cell_type": "code",
   "execution_count": 27,
   "metadata": {},
   "outputs": [],
   "source": [
    "df_melted_commit = df_commit.melt(\n",
    "    ['Repo ID'],\n",
    "    var_name = 'Contributor',value_name='number')"
   ]
  },
  {
   "cell_type": "code",
   "execution_count": 28,
   "metadata": {},
   "outputs": [
    {
     "data": {
      "text/html": [
       "<div>\n",
       "<style scoped>\n",
       "    .dataframe tbody tr th:only-of-type {\n",
       "        vertical-align: middle;\n",
       "    }\n",
       "\n",
       "    .dataframe tbody tr th {\n",
       "        vertical-align: top;\n",
       "    }\n",
       "\n",
       "    .dataframe thead th {\n",
       "        text-align: right;\n",
       "    }\n",
       "</style>\n",
       "<table border=\"1\" class=\"dataframe\">\n",
       "  <thead>\n",
       "    <tr style=\"text-align: right;\">\n",
       "      <th></th>\n",
       "      <th>Repo ID</th>\n",
       "      <th>Contributor</th>\n",
       "      <th>number</th>\n",
       "    </tr>\n",
       "  </thead>\n",
       "  <tbody>\n",
       "    <tr>\n",
       "      <th>0</th>\n",
       "      <td>27572</td>\n",
       "      <td>29297.0</td>\n",
       "      <td>36</td>\n",
       "    </tr>\n",
       "    <tr>\n",
       "      <th>1</th>\n",
       "      <td>36109</td>\n",
       "      <td>29297.0</td>\n",
       "      <td>0</td>\n",
       "    </tr>\n",
       "    <tr>\n",
       "      <th>2</th>\n",
       "      <td>27572</td>\n",
       "      <td>30918.0</td>\n",
       "      <td>3909</td>\n",
       "    </tr>\n",
       "    <tr>\n",
       "      <th>3</th>\n",
       "      <td>36109</td>\n",
       "      <td>30918.0</td>\n",
       "      <td>0</td>\n",
       "    </tr>\n",
       "    <tr>\n",
       "      <th>4</th>\n",
       "      <td>27572</td>\n",
       "      <td>32680.0</td>\n",
       "      <td>3906</td>\n",
       "    </tr>\n",
       "  </tbody>\n",
       "</table>\n",
       "</div>"
      ],
      "text/plain": [
       "   Repo ID Contributor  number\n",
       "0    27572     29297.0      36\n",
       "1    36109     29297.0       0\n",
       "2    27572     30918.0    3909\n",
       "3    36109     30918.0       0\n",
       "4    27572     32680.0    3906"
      ]
     },
     "execution_count": 28,
     "metadata": {},
     "output_type": "execute_result"
    }
   ],
   "source": [
    "df_melted_commit.head()"
   ]
  },
  {
   "cell_type": "code",
   "execution_count": 29,
   "metadata": {},
   "outputs": [
    {
     "data": {
      "text/plain": [
       "6"
      ]
     },
     "execution_count": 29,
     "metadata": {},
     "output_type": "execute_result"
    }
   ],
   "source": [
    "Repo_id = df_melted_commit['Repo ID'].to_list()\n",
    "len(Repo_id)"
   ]
  },
  {
   "cell_type": "code",
   "execution_count": 30,
   "metadata": {},
   "outputs": [
    {
     "data": {
      "text/plain": [
       "6"
      ]
     },
     "execution_count": 30,
     "metadata": {},
     "output_type": "execute_result"
    }
   ],
   "source": [
    "contributor_id = df_melted_commit['Contributor'].to_list()\n",
    "len(contributor_id)"
   ]
  },
  {
   "cell_type": "code",
   "execution_count": 31,
   "metadata": {},
   "outputs": [],
   "source": [
    "G = nx.from_pandas_edgelist(df_melted_commit, \n",
    "                            source='Repo ID',\n",
    "                            target='Contributor',\n",
    "                            edge_attr='number',\n",
    "                            create_using=nx.MultiGraph())"
   ]
  },
  {
   "cell_type": "code",
   "execution_count": 32,
   "metadata": {},
   "outputs": [
    {
     "data": {
      "text/plain": [
       "NodeView((27572, 29297.0, 36109, 30918.0, 32680.0))"
      ]
     },
     "execution_count": 32,
     "metadata": {},
     "output_type": "execute_result"
    }
   ],
   "source": [
    "nodes = G.nodes()\n",
    "nodes"
   ]
  },
  {
   "cell_type": "code",
   "execution_count": 33,
   "metadata": {},
   "outputs": [
    {
     "data": {
      "text/plain": [
       "5"
      ]
     },
     "execution_count": 33,
     "metadata": {},
     "output_type": "execute_result"
    }
   ],
   "source": [
    "nodes = list(nodes)\n",
    "len(nodes)"
   ]
  },
  {
   "cell_type": "code",
   "execution_count": 34,
   "metadata": {},
   "outputs": [],
   "source": [
    "colors = ['blue' if n in Repo_id else 'yellow' for n in nodes]"
   ]
  },
  {
   "cell_type": "code",
   "execution_count": 37,
   "metadata": {},
   "outputs": [
    {
     "data": {
      "image/png": "[encoded data removed]",
      "text/plain": [
       "<Figure size 432x288 with 1 Axes>"
      ]
     },
     "metadata": {},
     "output_type": "display_data"
    }
   ],
   "source": [
    "#fig = plt.figure(3, figsize=(500,500))\n",
    "nx.draw_networkx(G, node_color=colors, font_size=8)"
   ]
  },
  {
   "cell_type": "code",
   "execution_count": 36,
   "metadata": {},
   "outputs": [
    {
     "name": "stdout",
     "output_type": "stream",
     "text": [
      "Name: \n",
      "Type: MultiGraph\n",
      "Number of nodes: 5\n",
      "Number of edges: 6\n",
      "Average degree:   2.4000\n"
     ]
    }
   ],
   "source": [
    "print(nx.info(G))"
   ]
  },
  {
   "cell_type": "markdown",
   "metadata": {},
   "source": [
    "### Issue Contributor Graph"
   ]
  },
  {
   "cell_type": "code",
   "execution_count": 60,
   "metadata": {},
   "outputs": [
    {
     "data": {
      "text/html": [
       "<div>\n",
       "<style scoped>\n",
       "    .dataframe tbody tr th:only-of-type {\n",
       "        vertical-align: middle;\n",
       "    }\n",
       "\n",
       "    .dataframe tbody tr th {\n",
       "        vertical-align: top;\n",
       "    }\n",
       "\n",
       "    .dataframe thead th {\n",
       "        text-align: right;\n",
       "    }\n",
       "</style>\n",
       "<table border=\"1\" class=\"dataframe\">\n",
       "  <thead>\n",
       "    <tr style=\"text-align: right;\">\n",
       "      <th>Issue Authors</th>\n",
       "    </tr>\n",
       "    <tr>\n",
       "      <th>Repo ID</th>\n",
       "    </tr>\n",
       "  </thead>\n",
       "  <tbody>\n",
       "  </tbody>\n",
       "</table>\n",
       "</div>"
      ],
      "text/plain": [
       "Empty DataFrame\n",
       "Columns: []\n",
       "Index: []"
      ]
     },
     "execution_count": 60,
     "metadata": {},
     "output_type": "execute_result"
    }
   ],
   "source": [
    "df_issue = df_all.groupby(['Repo ID', 'Issue Authors']).size().unstack(fill_value=0)\n",
    "df_issue.head()"
   ]
  },
  {
   "cell_type": "code",
   "execution_count": 39,
   "metadata": {},
   "outputs": [
    {
     "data": {
      "text/plain": [
       "Float64Index([], dtype='float64', name='Issue Authors')"
      ]
     },
     "execution_count": 39,
     "metadata": {},
     "output_type": "execute_result"
    }
   ],
   "source": [
    "df_issue.columns"
   ]
  },
  {
   "cell_type": "code",
   "execution_count": 56,
   "metadata": {},
   "outputs": [],
   "source": [
    "df_issue = df_issue.reset_index()"
   ]
  },
  {
   "cell_type": "code",
   "execution_count": 57,
   "metadata": {},
   "outputs": [
    {
     "data": {
      "text/html": [
       "<div>\n",
       "<style scoped>\n",
       "    .dataframe tbody tr th:only-of-type {\n",
       "        vertical-align: middle;\n",
       "    }\n",
       "\n",
       "    .dataframe tbody tr th {\n",
       "        vertical-align: top;\n",
       "    }\n",
       "\n",
       "    .dataframe thead th {\n",
       "        text-align: right;\n",
       "    }\n",
       "</style>\n",
       "<table border=\"1\" class=\"dataframe\">\n",
       "  <thead>\n",
       "    <tr style=\"text-align: right;\">\n",
       "      <th>Issue Authors</th>\n",
       "      <th>Repo ID</th>\n",
       "    </tr>\n",
       "  </thead>\n",
       "  <tbody>\n",
       "  </tbody>\n",
       "</table>\n",
       "</div>"
      ],
      "text/plain": [
       "Empty DataFrame\n",
       "Columns: [Repo ID]\n",
       "Index: []"
      ]
     },
     "execution_count": 57,
     "metadata": {},
     "output_type": "execute_result"
    }
   ],
   "source": [
    "df_issue.head()"
   ]
  },
  {
   "cell_type": "code",
   "execution_count": null,
   "metadata": {},
   "outputs": [],
   "source": [
    "df_melted_issue = df_issue.melt(\n",
    "    ['Repo ID'],\n",
    "    var_name = 'Contributor',value_name='number')"
   ]
  },
  {
   "cell_type": "code",
   "execution_count": null,
   "metadata": {},
   "outputs": [],
   "source": [
    "df_melted_issue.head()"
   ]
  },
  {
   "cell_type": "code",
   "execution_count": null,
   "metadata": {},
   "outputs": [],
   "source": [
    "Repo_id = df_melted_issue['Repo ID'].to_list()\n",
    "len(Repo_id)"
   ]
  },
  {
   "cell_type": "code",
   "execution_count": null,
   "metadata": {},
   "outputs": [],
   "source": [
    "contributor_id = df_melted_issue['Contributor'].to_list()\n",
    "len(contributor_id)"
   ]
  },
  {
   "cell_type": "code",
   "execution_count": null,
   "metadata": {},
   "outputs": [],
   "source": [
    "G = nx.from_pandas_edgelist(df_melted_issue, \n",
    "                            source='Repo ID',\n",
    "                            target='Contributor',\n",
    "                            edge_attr='number',\n",
    "                            create_using=nx.MultiGraph())"
   ]
  },
  {
   "cell_type": "code",
   "execution_count": null,
   "metadata": {},
   "outputs": [],
   "source": [
    "nodes = G.nodes()\n",
    "nodes"
   ]
  },
  {
   "cell_type": "code",
   "execution_count": null,
   "metadata": {},
   "outputs": [],
   "source": [
    "nodes = list(nodes)\n",
    "len(nodes)"
   ]
  },
  {
   "cell_type": "code",
   "execution_count": null,
   "metadata": {},
   "outputs": [],
   "source": [
    "colors = ['blue' if n in Repo_id else 'yellow' for n in nodes]"
   ]
  },
  {
   "cell_type": "code",
   "execution_count": null,
   "metadata": {},
   "outputs": [],
   "source": [
    "fig = plt.figure(3, figsize=(500,500))\n",
    "nx.draw_networkx(G, node_color=colors, font_size=8)"
   ]
  },
  {
   "cell_type": "code",
   "execution_count": null,
   "metadata": {},
   "outputs": [],
   "source": [
    "print(nx.info(G))"
   ]
  },
  {
   "cell_type": "markdown",
   "metadata": {},
   "source": [
    "### PR Contributor Graph"
   ]
  },
  {
   "cell_type": "code",
   "execution_count": 40,
   "metadata": {},
   "outputs": [
    {
     "data": {
      "text/html": [
       "<div>\n",
       "<style scoped>\n",
       "    .dataframe tbody tr th:only-of-type {\n",
       "        vertical-align: middle;\n",
       "    }\n",
       "\n",
       "    .dataframe tbody tr th {\n",
       "        vertical-align: top;\n",
       "    }\n",
       "\n",
       "    .dataframe thead th {\n",
       "        text-align: right;\n",
       "    }\n",
       "</style>\n",
       "<table border=\"1\" class=\"dataframe\">\n",
       "  <thead>\n",
       "    <tr style=\"text-align: right;\">\n",
       "      <th>PR Creators</th>\n",
       "      <th>25650.0</th>\n",
       "      <th>27010.0</th>\n",
       "      <th>30165.0</th>\n",
       "      <th>40325.0</th>\n",
       "      <th>40326.0</th>\n",
       "      <th>40327.0</th>\n",
       "      <th>40328.0</th>\n",
       "      <th>40329.0</th>\n",
       "      <th>40330.0</th>\n",
       "      <th>40331.0</th>\n",
       "    </tr>\n",
       "    <tr>\n",
       "      <th>Repo ID</th>\n",
       "      <th></th>\n",
       "      <th></th>\n",
       "      <th></th>\n",
       "      <th></th>\n",
       "      <th></th>\n",
       "      <th></th>\n",
       "      <th></th>\n",
       "      <th></th>\n",
       "      <th></th>\n",
       "      <th></th>\n",
       "    </tr>\n",
       "  </thead>\n",
       "  <tbody>\n",
       "    <tr>\n",
       "      <th>36109</th>\n",
       "      <td>20862</td>\n",
       "      <td>1647</td>\n",
       "      <td>2196</td>\n",
       "      <td>4268</td>\n",
       "      <td>2196</td>\n",
       "      <td>2196</td>\n",
       "      <td>2196</td>\n",
       "      <td>2196</td>\n",
       "      <td>2196</td>\n",
       "      <td>2196</td>\n",
       "    </tr>\n",
       "  </tbody>\n",
       "</table>\n",
       "</div>"
      ],
      "text/plain": [
       "PR Creators  25650.0  27010.0  30165.0  40325.0  40326.0  40327.0  40328.0  \\\n",
       "Repo ID                                                                      \n",
       "36109          20862     1647     2196     4268     2196     2196     2196   \n",
       "\n",
       "PR Creators  40329.0  40330.0  40331.0  \n",
       "Repo ID                                 \n",
       "36109           2196     2196     2196  "
      ]
     },
     "execution_count": 40,
     "metadata": {},
     "output_type": "execute_result"
    }
   ],
   "source": [
    "df_pr = df_all.groupby(['Repo ID', 'PR Creators']).size().unstack(fill_value=0)\n",
    "df_pr.head()"
   ]
  },
  {
   "cell_type": "code",
   "execution_count": 41,
   "metadata": {},
   "outputs": [],
   "source": [
    "df_pr = df_pr.reset_index()"
   ]
  },
  {
   "cell_type": "code",
   "execution_count": 42,
   "metadata": {},
   "outputs": [],
   "source": [
    "df_melted_pr = df_pr.melt(\n",
    "    ['Repo ID'],\n",
    "    var_name = 'Contributor',value_name='number')"
   ]
  },
  {
   "cell_type": "code",
   "execution_count": 43,
   "metadata": {},
   "outputs": [],
   "source": [
    "G = nx.from_pandas_edgelist(df_melted_pr, \n",
    "                            source='Repo ID',\n",
    "                            target='Contributor',\n",
    "                            edge_attr='number',\n",
    "                            create_using=nx.MultiGraph())"
   ]
  },
  {
   "cell_type": "code",
   "execution_count": 46,
   "metadata": {},
   "outputs": [],
   "source": [
    "nodes = G.nodes()"
   ]
  },
  {
   "cell_type": "code",
   "execution_count": 47,
   "metadata": {},
   "outputs": [],
   "source": [
    "colors = ['blue' if n in Repo_id else 'yellow' for n in nodes]"
   ]
  },
  {
   "cell_type": "code",
   "execution_count": 48,
   "metadata": {},
   "outputs": [
    {
     "data": {
      "image/png": "[encoded data removed]",
      "text/plain": [
       "<Figure size 432x288 with 1 Axes>"
      ]
     },
     "metadata": {},
     "output_type": "display_data"
    }
   ],
   "source": [
    "nx.draw_networkx(G, node_color=colors, font_size=8)"
   ]
  },
  {
   "cell_type": "markdown",
   "metadata": {},
   "source": [
    "### PR Reviewers Graph"
   ]
  },
  {
   "cell_type": "code",
   "execution_count": 49,
   "metadata": {},
   "outputs": [
    {
     "data": {
      "text/html": [
       "<div>\n",
       "<style scoped>\n",
       "    .dataframe tbody tr th:only-of-type {\n",
       "        vertical-align: middle;\n",
       "    }\n",
       "\n",
       "    .dataframe tbody tr th {\n",
       "        vertical-align: top;\n",
       "    }\n",
       "\n",
       "    .dataframe thead th {\n",
       "        text-align: right;\n",
       "    }\n",
       "</style>\n",
       "<table border=\"1\" class=\"dataframe\">\n",
       "  <thead>\n",
       "    <tr style=\"text-align: right;\">\n",
       "      <th>PR Reviewers</th>\n",
       "      <th>27041.0</th>\n",
       "      <th>27211.0</th>\n",
       "      <th>27344.0</th>\n",
       "      <th>27821.0</th>\n",
       "      <th>29714.0</th>\n",
       "      <th>30475.0</th>\n",
       "      <th>31107.0</th>\n",
       "      <th>31197.0</th>\n",
       "      <th>36688.0</th>\n",
       "      <th>37958.0</th>\n",
       "      <th>...</th>\n",
       "      <th>43325.0</th>\n",
       "      <th>43326.0</th>\n",
       "      <th>43327.0</th>\n",
       "      <th>43328.0</th>\n",
       "      <th>43329.0</th>\n",
       "      <th>43330.0</th>\n",
       "      <th>43331.0</th>\n",
       "      <th>43332.0</th>\n",
       "      <th>43333.0</th>\n",
       "      <th>43335.0</th>\n",
       "    </tr>\n",
       "    <tr>\n",
       "      <th>Repo ID</th>\n",
       "      <th></th>\n",
       "      <th></th>\n",
       "      <th></th>\n",
       "      <th></th>\n",
       "      <th></th>\n",
       "      <th></th>\n",
       "      <th></th>\n",
       "      <th></th>\n",
       "      <th></th>\n",
       "      <th></th>\n",
       "      <th></th>\n",
       "      <th></th>\n",
       "      <th></th>\n",
       "      <th></th>\n",
       "      <th></th>\n",
       "      <th></th>\n",
       "      <th></th>\n",
       "      <th></th>\n",
       "      <th></th>\n",
       "      <th></th>\n",
       "      <th></th>\n",
       "    </tr>\n",
       "  </thead>\n",
       "  <tbody>\n",
       "    <tr>\n",
       "      <th>36109</th>\n",
       "      <td>77</td>\n",
       "      <td>154</td>\n",
       "      <td>77</td>\n",
       "      <td>77</td>\n",
       "      <td>77</td>\n",
       "      <td>154</td>\n",
       "      <td>308</td>\n",
       "      <td>77</td>\n",
       "      <td>77</td>\n",
       "      <td>77</td>\n",
       "      <td>...</td>\n",
       "      <td>76</td>\n",
       "      <td>76</td>\n",
       "      <td>76</td>\n",
       "      <td>152</td>\n",
       "      <td>76</td>\n",
       "      <td>76</td>\n",
       "      <td>76</td>\n",
       "      <td>76</td>\n",
       "      <td>76</td>\n",
       "      <td>76</td>\n",
       "    </tr>\n",
       "  </tbody>\n",
       "</table>\n",
       "<p>1 rows × 394 columns</p>\n",
       "</div>"
      ],
      "text/plain": [
       "PR Reviewers  27041.0  27211.0  27344.0  27821.0  29714.0  30475.0  31107.0  \\\n",
       "Repo ID                                                                       \n",
       "36109              77      154       77       77       77      154      308   \n",
       "\n",
       "PR Reviewers  31197.0  36688.0  37958.0  ...  43325.0  43326.0  43327.0  \\\n",
       "Repo ID                                  ...                              \n",
       "36109              77       77       77  ...       76       76       76   \n",
       "\n",
       "PR Reviewers  43328.0  43329.0  43330.0  43331.0  43332.0  43333.0  43335.0  \n",
       "Repo ID                                                                      \n",
       "36109             152       76       76       76       76       76       76  \n",
       "\n",
       "[1 rows x 394 columns]"
      ]
     },
     "execution_count": 49,
     "metadata": {},
     "output_type": "execute_result"
    }
   ],
   "source": [
    "df_prr = df_all.groupby(['Repo ID', 'PR Reviewers']).size().unstack(fill_value=0)\n",
    "df_prr.head()"
   ]
  },
  {
   "cell_type": "code",
   "execution_count": 50,
   "metadata": {},
   "outputs": [],
   "source": [
    "df_prr = df_prr.reset_index()"
   ]
  },
  {
   "cell_type": "code",
   "execution_count": 51,
   "metadata": {},
   "outputs": [],
   "source": [
    "df_melted_prr = df_prr.melt(\n",
    "    ['Repo ID'],\n",
    "    var_name = 'Contributor',value_name='number')"
   ]
  },
  {
   "cell_type": "code",
   "execution_count": 52,
   "metadata": {},
   "outputs": [],
   "source": [
    "G = nx.from_pandas_edgelist(df_melted_prr, \n",
    "                            source='Repo ID',\n",
    "                            target='Contributor',\n",
    "                            edge_attr='number',\n",
    "                            create_using=nx.MultiGraph())"
   ]
  },
  {
   "cell_type": "code",
   "execution_count": 53,
   "metadata": {},
   "outputs": [],
   "source": [
    "nodes = G.nodes()"
   ]
  },
  {
   "cell_type": "code",
   "execution_count": 54,
   "metadata": {},
   "outputs": [],
   "source": [
    "colors = ['blue' if n in Repo_id else 'yellow' for n in nodes]"
   ]
  },
  {
   "cell_type": "code",
   "execution_count": 55,
   "metadata": {},
   "outputs": [
    {
     "data": {
      "image/png": "[encoded data removed]",
      "text/plain": [
       "<Figure size 432x288 with 1 Axes>"
      ]
     },
     "metadata": {},
     "output_type": "display_data"
    }
   ],
   "source": [
    "nx.draw_networkx(G, node_color=colors, font_size=8)"
   ]
  },
  {
   "cell_type": "code",
   "execution_count": null,
   "metadata": {},
   "outputs": [],
   "source": []
  }
 ],
 "metadata": {
  "kernelspec": {
   "display_name": "Python 3",
   "language": "python",
   "name": "python3"
  },
  "language_info": {
   "codemirror_mode": {
    "name": "ipython",
    "version": 3
   },
   "file_extension": ".py",
   "mimetype": "text/x-python",
   "name": "python",
   "nbconvert_exporter": "python",
   "pygments_lexer": "ipython3",
   "version": "3.8.6"
  }
 },
 "nbformat": 4,
 "nbformat_minor": 4
}
