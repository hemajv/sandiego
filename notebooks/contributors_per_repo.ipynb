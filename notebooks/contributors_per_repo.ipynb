{
 "cells": [
  {
   "cell_type": "markdown",
   "metadata": {},
   "source": [
    "# Introduction to connecting and Querying the Augur DB"
   ]
  },
  {
   "cell_type": "markdown",
   "metadata": {},
   "source": [
    "## Connect to your database"
   ]
  },
  {
   "cell_type": "markdown",
   "metadata": {},
   "source": [
    "Until the Operate First enviroment can connect to the DB, use config file to access. Do not push config file to Github repo"
   ]
  },
  {
   "cell_type": "code",
   "execution_count": 1,
   "metadata": {},
   "outputs": [],
   "source": [
    "import psycopg2\n",
    "import pandas as pd \n",
    "import sqlalchemy as salc\n",
    "import json\n",
    "import os\n",
    "import networkx as nx\n",
    "\n",
    "with open(\"../comm_cage.json\") as config_file:\n",
    "    config = json.load(config_file)"
   ]
  },
  {
   "cell_type": "code",
   "execution_count": 2,
   "metadata": {},
   "outputs": [],
   "source": [
    "database_connection_string = 'postgresql+psycopg2://{}:{}@{}:{}/{}'.format(config['user'], config['password'], config['host'], config['port'], config['database'])\n",
    "\n",
    "dbschema='augur_data'\n",
    "engine = salc.create_engine(\n",
    "    database_connection_string,\n",
    "    connect_args={'options': '-csearch_path={}'.format(dbschema)})"
   ]
  },
  {
   "cell_type": "markdown",
   "metadata": {},
   "source": [
    "### Retrieve Available Respositories"
   ]
  },
  {
   "cell_type": "code",
   "execution_count": 3,
   "metadata": {},
   "outputs": [
    {
     "data": {
      "text/html": [
       "<div>\n",
       "<style scoped>\n",
       "    .dataframe tbody tr th:only-of-type {\n",
       "        vertical-align: middle;\n",
       "    }\n",
       "\n",
       "    .dataframe tbody tr th {\n",
       "        vertical-align: top;\n",
       "    }\n",
       "\n",
       "    .dataframe thead th {\n",
       "        text-align: right;\n",
       "    }\n",
       "</style>\n",
       "<table border=\"1\" class=\"dataframe\">\n",
       "  <thead>\n",
       "    <tr style=\"text-align: right;\">\n",
       "      <th></th>\n",
       "      <th>rg_name</th>\n",
       "      <th>repo_group_id</th>\n",
       "      <th>repo_name</th>\n",
       "      <th>repo_id</th>\n",
       "      <th>forked_from</th>\n",
       "      <th>repo_archived</th>\n",
       "      <th>repo_git</th>\n",
       "    </tr>\n",
       "  </thead>\n",
       "  <tbody>\n",
       "    <tr>\n",
       "      <th>0</th>\n",
       "      <td>3scale</td>\n",
       "      <td>25556</td>\n",
       "      <td>3scale</td>\n",
       "      <td>33134</td>\n",
       "      <td>Parent not available</td>\n",
       "      <td>0.0</td>\n",
       "      <td>https://github.com/3scale/3scale.github.io</td>\n",
       "    </tr>\n",
       "    <tr>\n",
       "      <th>1</th>\n",
       "      <td>3scale</td>\n",
       "      <td>25556</td>\n",
       "      <td>3scale-amp-openshift-templates</td>\n",
       "      <td>33126</td>\n",
       "      <td>Parent not available</td>\n",
       "      <td>0.0</td>\n",
       "      <td>https://github.com/3scale/3scale-amp-openshift...</td>\n",
       "    </tr>\n",
       "    <tr>\n",
       "      <th>2</th>\n",
       "      <td>3scale</td>\n",
       "      <td>25556</td>\n",
       "      <td>3scale-api-python</td>\n",
       "      <td>33130</td>\n",
       "      <td>3scale-qe/3scale-api-python</td>\n",
       "      <td>0.0</td>\n",
       "      <td>https://github.com/3scale/3scale-api-python</td>\n",
       "    </tr>\n",
       "    <tr>\n",
       "      <th>3</th>\n",
       "      <td>3scale</td>\n",
       "      <td>25556</td>\n",
       "      <td>3scale-api-ruby</td>\n",
       "      <td>33158</td>\n",
       "      <td>Parent not available</td>\n",
       "      <td>0.0</td>\n",
       "      <td>https://github.com/3scale/3scale-api-ruby</td>\n",
       "    </tr>\n",
       "    <tr>\n",
       "      <th>4</th>\n",
       "      <td>3scale</td>\n",
       "      <td>25556</td>\n",
       "      <td>3scale-go-client</td>\n",
       "      <td>33169</td>\n",
       "      <td>Parent not available</td>\n",
       "      <td>0.0</td>\n",
       "      <td>https://github.com/3scale/3scale-go-client</td>\n",
       "    </tr>\n",
       "    <tr>\n",
       "      <th>...</th>\n",
       "      <td>...</td>\n",
       "      <td>...</td>\n",
       "      <td>...</td>\n",
       "      <td>...</td>\n",
       "      <td>...</td>\n",
       "      <td>...</td>\n",
       "      <td>...</td>\n",
       "    </tr>\n",
       "    <tr>\n",
       "      <th>10956</th>\n",
       "      <td>zerodayz</td>\n",
       "      <td>25482</td>\n",
       "      <td>sosreport-operator</td>\n",
       "      <td>30872</td>\n",
       "      <td>andreaskaris/sosreport-operator</td>\n",
       "      <td>0.0</td>\n",
       "      <td>https://github.com/zerodayz/sosreport-operator</td>\n",
       "    </tr>\n",
       "    <tr>\n",
       "      <th>10957</th>\n",
       "      <td>zerodayz</td>\n",
       "      <td>25482</td>\n",
       "      <td>talos</td>\n",
       "      <td>30863</td>\n",
       "      <td>siderolabs/talos</td>\n",
       "      <td>0.0</td>\n",
       "      <td>https://github.com/zerodayz/talos</td>\n",
       "    </tr>\n",
       "    <tr>\n",
       "      <th>10958</th>\n",
       "      <td>zerodayz</td>\n",
       "      <td>25482</td>\n",
       "      <td>tests</td>\n",
       "      <td>30838</td>\n",
       "      <td>kata-containers/tests</td>\n",
       "      <td>0.0</td>\n",
       "      <td>https://github.com/zerodayz/tests</td>\n",
       "    </tr>\n",
       "    <tr>\n",
       "      <th>10959</th>\n",
       "      <td>zerodayz</td>\n",
       "      <td>25482</td>\n",
       "      <td>web</td>\n",
       "      <td>30839</td>\n",
       "      <td>openshifttips/web</td>\n",
       "      <td>0.0</td>\n",
       "      <td>https://github.com/zerodayz/web</td>\n",
       "    </tr>\n",
       "    <tr>\n",
       "      <th>10960</th>\n",
       "      <td>zerodayz</td>\n",
       "      <td>25482</td>\n",
       "      <td>zerodayz</td>\n",
       "      <td>30816</td>\n",
       "      <td>Parent not available</td>\n",
       "      <td>0.0</td>\n",
       "      <td>https://github.com/zerodayz/zerodayz.gitlab.io</td>\n",
       "    </tr>\n",
       "  </tbody>\n",
       "</table>\n",
       "<p>10961 rows × 7 columns</p>\n",
       "</div>"
      ],
      "text/plain": [
       "        rg_name  repo_group_id                       repo_name  repo_id  \\\n",
       "0        3scale          25556                          3scale    33134   \n",
       "1        3scale          25556  3scale-amp-openshift-templates    33126   \n",
       "2        3scale          25556               3scale-api-python    33130   \n",
       "3        3scale          25556                 3scale-api-ruby    33158   \n",
       "4        3scale          25556                3scale-go-client    33169   \n",
       "...         ...            ...                             ...      ...   \n",
       "10956  zerodayz          25482              sosreport-operator    30872   \n",
       "10957  zerodayz          25482                           talos    30863   \n",
       "10958  zerodayz          25482                           tests    30838   \n",
       "10959  zerodayz          25482                             web    30839   \n",
       "10960  zerodayz          25482                        zerodayz    30816   \n",
       "\n",
       "                           forked_from  repo_archived  \\\n",
       "0                 Parent not available            0.0   \n",
       "1                 Parent not available            0.0   \n",
       "2          3scale-qe/3scale-api-python            0.0   \n",
       "3                 Parent not available            0.0   \n",
       "4                 Parent not available            0.0   \n",
       "...                                ...            ...   \n",
       "10956  andreaskaris/sosreport-operator            0.0   \n",
       "10957                 siderolabs/talos            0.0   \n",
       "10958            kata-containers/tests            0.0   \n",
       "10959                openshifttips/web            0.0   \n",
       "10960             Parent not available            0.0   \n",
       "\n",
       "                                                repo_git  \n",
       "0             https://github.com/3scale/3scale.github.io  \n",
       "1      https://github.com/3scale/3scale-amp-openshift...  \n",
       "2            https://github.com/3scale/3scale-api-python  \n",
       "3              https://github.com/3scale/3scale-api-ruby  \n",
       "4             https://github.com/3scale/3scale-go-client  \n",
       "...                                                  ...  \n",
       "10956     https://github.com/zerodayz/sosreport-operator  \n",
       "10957                  https://github.com/zerodayz/talos  \n",
       "10958                  https://github.com/zerodayz/tests  \n",
       "10959                    https://github.com/zerodayz/web  \n",
       "10960     https://github.com/zerodayz/zerodayz.gitlab.io  \n",
       "\n",
       "[10961 rows x 7 columns]"
      ]
     },
     "metadata": {},
     "output_type": "display_data"
    },
    {
     "data": {
      "text/plain": [
       "rg_name           object\n",
       "repo_group_id      int64\n",
       "repo_name         object\n",
       "repo_id            int64\n",
       "forked_from       object\n",
       "repo_archived    float64\n",
       "repo_git          object\n",
       "dtype: object"
      ]
     },
     "execution_count": 3,
     "metadata": {},
     "output_type": "execute_result"
    }
   ],
   "source": [
    "aval_repos = pd.DataFrame()\n",
    "repo_query = salc.sql.text(f\"\"\"\n",
    "             SET SCHEMA 'augur_data';\n",
    "             SELECT a.rg_name,\n",
    "                a.repo_group_id,\n",
    "                b.repo_name,\n",
    "                b.repo_id,\n",
    "                b.forked_from,\n",
    "                b.repo_archived,\n",
    "                b.repo_git\n",
    "            FROM\n",
    "                repo_groups a,\n",
    "                repo b\n",
    "            WHERE\n",
    "                a.repo_group_id = b.repo_group_id\n",
    "            ORDER BY\n",
    "                rg_name,\n",
    "                repo_name;\n",
    "    \"\"\")\n",
    "aval_repos = pd.read_sql(repo_query, con=engine)\n",
    "display(aval_repos)\n",
    "aval_repos.dtypes"
   ]
  },
  {
   "cell_type": "code",
   "execution_count": 4,
   "metadata": {},
   "outputs": [
    {
     "data": {
      "text/html": [
       "<div>\n",
       "<style scoped>\n",
       "    .dataframe tbody tr th:only-of-type {\n",
       "        vertical-align: middle;\n",
       "    }\n",
       "\n",
       "    .dataframe tbody tr th {\n",
       "        vertical-align: top;\n",
       "    }\n",
       "\n",
       "    .dataframe thead th {\n",
       "        text-align: right;\n",
       "    }\n",
       "</style>\n",
       "<table border=\"1\" class=\"dataframe\">\n",
       "  <thead>\n",
       "    <tr style=\"text-align: right;\">\n",
       "      <th></th>\n",
       "      <th>Repo ID</th>\n",
       "      <th>Git</th>\n",
       "      <th>Issue Authors</th>\n",
       "    </tr>\n",
       "  </thead>\n",
       "  <tbody>\n",
       "    <tr>\n",
       "      <th>0</th>\n",
       "      <td>24441</td>\n",
       "      <td>https://github.com/operate-first/operate-first...</td>\n",
       "      <td>25438.0</td>\n",
       "    </tr>\n",
       "    <tr>\n",
       "      <th>1</th>\n",
       "      <td>24441</td>\n",
       "      <td>https://github.com/operate-first/operate-first...</td>\n",
       "      <td>25438.0</td>\n",
       "    </tr>\n",
       "    <tr>\n",
       "      <th>2</th>\n",
       "      <td>24441</td>\n",
       "      <td>https://github.com/operate-first/operate-first...</td>\n",
       "      <td>25438.0</td>\n",
       "    </tr>\n",
       "    <tr>\n",
       "      <th>3</th>\n",
       "      <td>24441</td>\n",
       "      <td>https://github.com/operate-first/operate-first...</td>\n",
       "      <td>25438.0</td>\n",
       "    </tr>\n",
       "    <tr>\n",
       "      <th>4</th>\n",
       "      <td>24441</td>\n",
       "      <td>https://github.com/operate-first/operate-first...</td>\n",
       "      <td>25449.0</td>\n",
       "    </tr>\n",
       "    <tr>\n",
       "      <th>...</th>\n",
       "      <td>...</td>\n",
       "      <td>...</td>\n",
       "      <td>...</td>\n",
       "    </tr>\n",
       "    <tr>\n",
       "      <th>499995</th>\n",
       "      <td>27812</td>\n",
       "      <td>https://github.com/kubernetes/test-infra</td>\n",
       "      <td>NaN</td>\n",
       "    </tr>\n",
       "    <tr>\n",
       "      <th>499996</th>\n",
       "      <td>27812</td>\n",
       "      <td>https://github.com/kubernetes/test-infra</td>\n",
       "      <td>NaN</td>\n",
       "    </tr>\n",
       "    <tr>\n",
       "      <th>499997</th>\n",
       "      <td>27812</td>\n",
       "      <td>https://github.com/kubernetes/test-infra</td>\n",
       "      <td>NaN</td>\n",
       "    </tr>\n",
       "    <tr>\n",
       "      <th>499998</th>\n",
       "      <td>27812</td>\n",
       "      <td>https://github.com/kubernetes/test-infra</td>\n",
       "      <td>NaN</td>\n",
       "    </tr>\n",
       "    <tr>\n",
       "      <th>499999</th>\n",
       "      <td>27812</td>\n",
       "      <td>https://github.com/kubernetes/test-infra</td>\n",
       "      <td>NaN</td>\n",
       "    </tr>\n",
       "  </tbody>\n",
       "</table>\n",
       "<p>500000 rows × 3 columns</p>\n",
       "</div>"
      ],
      "text/plain": [
       "        Repo ID                                                Git  \\\n",
       "0         24441  https://github.com/operate-first/operate-first...   \n",
       "1         24441  https://github.com/operate-first/operate-first...   \n",
       "2         24441  https://github.com/operate-first/operate-first...   \n",
       "3         24441  https://github.com/operate-first/operate-first...   \n",
       "4         24441  https://github.com/operate-first/operate-first...   \n",
       "...         ...                                                ...   \n",
       "499995    27812           https://github.com/kubernetes/test-infra   \n",
       "499996    27812           https://github.com/kubernetes/test-infra   \n",
       "499997    27812           https://github.com/kubernetes/test-infra   \n",
       "499998    27812           https://github.com/kubernetes/test-infra   \n",
       "499999    27812           https://github.com/kubernetes/test-infra   \n",
       "\n",
       "        Issue Authors  \n",
       "0             25438.0  \n",
       "1             25438.0  \n",
       "2             25438.0  \n",
       "3             25438.0  \n",
       "4             25449.0  \n",
       "...               ...  \n",
       "499995            NaN  \n",
       "499996            NaN  \n",
       "499997            NaN  \n",
       "499998            NaN  \n",
       "499999            NaN  \n",
       "\n",
       "[500000 rows x 3 columns]"
      ]
     },
     "metadata": {},
     "output_type": "display_data"
    },
    {
     "data": {
      "text/plain": [
       "Repo ID            int64\n",
       "Git               object\n",
       "Issue Authors    float64\n",
       "dtype: object"
      ]
     },
     "execution_count": 4,
     "metadata": {},
     "output_type": "execute_result"
    }
   ],
   "source": [
    "issue_contrib = pd.DataFrame()\n",
    "repo_query = salc.sql.text(f\"\"\"\n",
    "            SET SCHEMA 'augur_data';\n",
    "            SELECT r.repo_id,\n",
    "            r.repo_git,\n",
    "            i.cntrb_id\n",
    "            FROM\n",
    "            repo r, issues i\n",
    "             WHERE\n",
    "            i.repo_id = r.repo_id\n",
    "            limit 500000\n",
    "    \"\"\")\n",
    "issue_contrib = pd.read_sql(repo_query, con=engine)\n",
    "issue_contrib.columns =['Repo ID', 'Git', 'Issue Authors']\n",
    "\n",
    "display(issue_contrib)\n",
    "issue_contrib.dtypes"
   ]
  },
  {
   "cell_type": "code",
   "execution_count": 5,
   "metadata": {},
   "outputs": [
    {
     "data": {
      "text/plain": [
       "Repo ID          1188\n",
       "Git              1188\n",
       "Issue Authors    5456\n",
       "dtype: int64"
      ]
     },
     "execution_count": 5,
     "metadata": {},
     "output_type": "execute_result"
    }
   ],
   "source": [
    "issue_contrib.nunique()"
   ]
  },
  {
   "cell_type": "code",
   "execution_count": 6,
   "metadata": {},
   "outputs": [
    {
     "data": {
      "text/html": [
       "<div>\n",
       "<style scoped>\n",
       "    .dataframe tbody tr th:only-of-type {\n",
       "        vertical-align: middle;\n",
       "    }\n",
       "\n",
       "    .dataframe tbody tr th {\n",
       "        vertical-align: top;\n",
       "    }\n",
       "\n",
       "    .dataframe thead th {\n",
       "        text-align: right;\n",
       "    }\n",
       "</style>\n",
       "<table border=\"1\" class=\"dataframe\">\n",
       "  <thead>\n",
       "    <tr style=\"text-align: right;\">\n",
       "      <th></th>\n",
       "      <th>Repo ID</th>\n",
       "      <th>Git</th>\n",
       "      <th>PR Creators</th>\n",
       "    </tr>\n",
       "  </thead>\n",
       "  <tbody>\n",
       "    <tr>\n",
       "      <th>0</th>\n",
       "      <td>27458</td>\n",
       "      <td>https://github.com/operate-first/continuous-de...</td>\n",
       "      <td>25443</td>\n",
       "    </tr>\n",
       "    <tr>\n",
       "      <th>1</th>\n",
       "      <td>27458</td>\n",
       "      <td>https://github.com/operate-first/continuous-de...</td>\n",
       "      <td>25465</td>\n",
       "    </tr>\n",
       "    <tr>\n",
       "      <th>2</th>\n",
       "      <td>27458</td>\n",
       "      <td>https://github.com/operate-first/continuous-de...</td>\n",
       "      <td>25444</td>\n",
       "    </tr>\n",
       "    <tr>\n",
       "      <th>3</th>\n",
       "      <td>27458</td>\n",
       "      <td>https://github.com/operate-first/continuous-de...</td>\n",
       "      <td>25465</td>\n",
       "    </tr>\n",
       "    <tr>\n",
       "      <th>4</th>\n",
       "      <td>27458</td>\n",
       "      <td>https://github.com/operate-first/continuous-de...</td>\n",
       "      <td>25433</td>\n",
       "    </tr>\n",
       "    <tr>\n",
       "      <th>...</th>\n",
       "      <td>...</td>\n",
       "      <td>...</td>\n",
       "      <td>...</td>\n",
       "    </tr>\n",
       "    <tr>\n",
       "      <th>499995</th>\n",
       "      <td>34959</td>\n",
       "      <td>https://github.com/avocado-framework/avocado-vt</td>\n",
       "      <td>33044</td>\n",
       "    </tr>\n",
       "    <tr>\n",
       "      <th>499996</th>\n",
       "      <td>34959</td>\n",
       "      <td>https://github.com/avocado-framework/avocado-vt</td>\n",
       "      <td>2215471</td>\n",
       "    </tr>\n",
       "    <tr>\n",
       "      <th>499997</th>\n",
       "      <td>28857</td>\n",
       "      <td>https://github.com/apache/pulsar-helm-chart</td>\n",
       "      <td>2232632</td>\n",
       "    </tr>\n",
       "    <tr>\n",
       "      <th>499998</th>\n",
       "      <td>28857</td>\n",
       "      <td>https://github.com/apache/pulsar-helm-chart</td>\n",
       "      <td>2204176</td>\n",
       "    </tr>\n",
       "    <tr>\n",
       "      <th>499999</th>\n",
       "      <td>32712</td>\n",
       "      <td>https://github.com/osbuild/osbuild-composer</td>\n",
       "      <td>2219751</td>\n",
       "    </tr>\n",
       "  </tbody>\n",
       "</table>\n",
       "<p>500000 rows × 3 columns</p>\n",
       "</div>"
      ],
      "text/plain": [
       "        Repo ID                                                Git  \\\n",
       "0         27458  https://github.com/operate-first/continuous-de...   \n",
       "1         27458  https://github.com/operate-first/continuous-de...   \n",
       "2         27458  https://github.com/operate-first/continuous-de...   \n",
       "3         27458  https://github.com/operate-first/continuous-de...   \n",
       "4         27458  https://github.com/operate-first/continuous-de...   \n",
       "...         ...                                                ...   \n",
       "499995    34959    https://github.com/avocado-framework/avocado-vt   \n",
       "499996    34959    https://github.com/avocado-framework/avocado-vt   \n",
       "499997    28857        https://github.com/apache/pulsar-helm-chart   \n",
       "499998    28857        https://github.com/apache/pulsar-helm-chart   \n",
       "499999    32712        https://github.com/osbuild/osbuild-composer   \n",
       "\n",
       "        PR Creators  \n",
       "0             25443  \n",
       "1             25465  \n",
       "2             25444  \n",
       "3             25465  \n",
       "4             25433  \n",
       "...             ...  \n",
       "499995        33044  \n",
       "499996      2215471  \n",
       "499997      2232632  \n",
       "499998      2204176  \n",
       "499999      2219751  \n",
       "\n",
       "[500000 rows x 3 columns]"
      ]
     },
     "metadata": {},
     "output_type": "display_data"
    },
    {
     "data": {
      "text/plain": [
       "Repo ID         int64\n",
       "Git            object\n",
       "PR Creators     int64\n",
       "dtype: object"
      ]
     },
     "execution_count": 6,
     "metadata": {},
     "output_type": "execute_result"
    }
   ],
   "source": [
    "pr_contrib = pd.DataFrame()\n",
    "repo_query = salc.sql.text(f\"\"\"\n",
    "            SET SCHEMA 'augur_data';\n",
    "            SELECT r.repo_id,\n",
    "            r.repo_git,\n",
    "            prm.cntrb_id\n",
    "            FROM\n",
    "            repo r, pull_request_meta prm \n",
    "             WHERE\n",
    "            prm.repo_id = r.repo_id\n",
    "            limit 500000\n",
    "    \"\"\")\n",
    "pr_contrib = pd.read_sql(repo_query, con=engine)\n",
    "pr_contrib.columns =['Repo ID', 'Git', 'PR Creators']\n",
    "\n",
    "display(pr_contrib)\n",
    "pr_contrib.dtypes"
   ]
  },
  {
   "cell_type": "code",
   "execution_count": 7,
   "metadata": {},
   "outputs": [
    {
     "data": {
      "text/plain": [
       "Repo ID         3033\n",
       "Git             3033\n",
       "PR Creators    20365\n",
       "dtype: int64"
      ]
     },
     "execution_count": 7,
     "metadata": {},
     "output_type": "execute_result"
    }
   ],
   "source": [
    "pr_contrib.nunique()"
   ]
  },
  {
   "cell_type": "code",
   "execution_count": 8,
   "metadata": {},
   "outputs": [
    {
     "data": {
      "text/html": [
       "<div>\n",
       "<style scoped>\n",
       "    .dataframe tbody tr th:only-of-type {\n",
       "        vertical-align: middle;\n",
       "    }\n",
       "\n",
       "    .dataframe tbody tr th {\n",
       "        vertical-align: top;\n",
       "    }\n",
       "\n",
       "    .dataframe thead th {\n",
       "        text-align: right;\n",
       "    }\n",
       "</style>\n",
       "<table border=\"1\" class=\"dataframe\">\n",
       "  <thead>\n",
       "    <tr style=\"text-align: right;\">\n",
       "      <th></th>\n",
       "      <th>Repo ID</th>\n",
       "      <th>Git</th>\n",
       "      <th>PR Reviewers</th>\n",
       "    </tr>\n",
       "  </thead>\n",
       "  <tbody>\n",
       "    <tr>\n",
       "      <th>0</th>\n",
       "      <td>27458</td>\n",
       "      <td>https://github.com/operate-first/continuous-de...</td>\n",
       "      <td>25443</td>\n",
       "    </tr>\n",
       "    <tr>\n",
       "      <th>1</th>\n",
       "      <td>27458</td>\n",
       "      <td>https://github.com/operate-first/continuous-de...</td>\n",
       "      <td>25443</td>\n",
       "    </tr>\n",
       "    <tr>\n",
       "      <th>2</th>\n",
       "      <td>27458</td>\n",
       "      <td>https://github.com/operate-first/continuous-de...</td>\n",
       "      <td>25444</td>\n",
       "    </tr>\n",
       "    <tr>\n",
       "      <th>3</th>\n",
       "      <td>27458</td>\n",
       "      <td>https://github.com/operate-first/continuous-de...</td>\n",
       "      <td>25444</td>\n",
       "    </tr>\n",
       "    <tr>\n",
       "      <th>4</th>\n",
       "      <td>27458</td>\n",
       "      <td>https://github.com/operate-first/continuous-de...</td>\n",
       "      <td>25446</td>\n",
       "    </tr>\n",
       "    <tr>\n",
       "      <th>...</th>\n",
       "      <td>...</td>\n",
       "      <td>...</td>\n",
       "      <td>...</td>\n",
       "    </tr>\n",
       "    <tr>\n",
       "      <th>26800</th>\n",
       "      <td>28308</td>\n",
       "      <td>https://github.com/ansible/lightbulb</td>\n",
       "      <td>58328</td>\n",
       "    </tr>\n",
       "    <tr>\n",
       "      <th>26801</th>\n",
       "      <td>28308</td>\n",
       "      <td>https://github.com/ansible/lightbulb</td>\n",
       "      <td>58179</td>\n",
       "    </tr>\n",
       "    <tr>\n",
       "      <th>26802</th>\n",
       "      <td>28308</td>\n",
       "      <td>https://github.com/ansible/lightbulb</td>\n",
       "      <td>58059</td>\n",
       "    </tr>\n",
       "    <tr>\n",
       "      <th>26803</th>\n",
       "      <td>28308</td>\n",
       "      <td>https://github.com/ansible/lightbulb</td>\n",
       "      <td>58232</td>\n",
       "    </tr>\n",
       "    <tr>\n",
       "      <th>26804</th>\n",
       "      <td>28308</td>\n",
       "      <td>https://github.com/ansible/lightbulb</td>\n",
       "      <td>58232</td>\n",
       "    </tr>\n",
       "  </tbody>\n",
       "</table>\n",
       "<p>26805 rows × 3 columns</p>\n",
       "</div>"
      ],
      "text/plain": [
       "       Repo ID                                                Git  \\\n",
       "0        27458  https://github.com/operate-first/continuous-de...   \n",
       "1        27458  https://github.com/operate-first/continuous-de...   \n",
       "2        27458  https://github.com/operate-first/continuous-de...   \n",
       "3        27458  https://github.com/operate-first/continuous-de...   \n",
       "4        27458  https://github.com/operate-first/continuous-de...   \n",
       "...        ...                                                ...   \n",
       "26800    28308               https://github.com/ansible/lightbulb   \n",
       "26801    28308               https://github.com/ansible/lightbulb   \n",
       "26802    28308               https://github.com/ansible/lightbulb   \n",
       "26803    28308               https://github.com/ansible/lightbulb   \n",
       "26804    28308               https://github.com/ansible/lightbulb   \n",
       "\n",
       "       PR Reviewers  \n",
       "0             25443  \n",
       "1             25443  \n",
       "2             25444  \n",
       "3             25444  \n",
       "4             25446  \n",
       "...             ...  \n",
       "26800         58328  \n",
       "26801         58179  \n",
       "26802         58059  \n",
       "26803         58232  \n",
       "26804         58232  \n",
       "\n",
       "[26805 rows x 3 columns]"
      ]
     },
     "metadata": {},
     "output_type": "display_data"
    },
    {
     "data": {
      "text/plain": [
       "Repo ID          int64\n",
       "Git             object\n",
       "PR Reviewers     int64\n",
       "dtype: object"
      ]
     },
     "execution_count": 8,
     "metadata": {},
     "output_type": "execute_result"
    }
   ],
   "source": [
    "prr_contrib = pd.DataFrame()\n",
    "repo_query = salc.sql.text(f\"\"\"\n",
    "            SET SCHEMA 'augur_data';\n",
    "            SELECT r.repo_id,\n",
    "            r.repo_git,\n",
    "            prr.cntrb_id\n",
    "            FROM\n",
    "            repo r, pull_request_reviews prr\n",
    "             WHERE\n",
    "            prr.repo_id = r.repo_id\n",
    "            limit 500000\n",
    "    \"\"\")\n",
    "prr_contrib = pd.read_sql(repo_query, con=engine)\n",
    "prr_contrib.columns =['Repo ID', 'Git', 'PR Reviewers']\n",
    "\n",
    "display(prr_contrib)\n",
    "prr_contrib.dtypes"
   ]
  },
  {
   "cell_type": "code",
   "execution_count": 9,
   "metadata": {},
   "outputs": [
    {
     "data": {
      "text/plain": [
       "Repo ID         191\n",
       "Git             191\n",
       "PR Reviewers    961\n",
       "dtype: int64"
      ]
     },
     "execution_count": 9,
     "metadata": {},
     "output_type": "execute_result"
    }
   ],
   "source": [
    "prr_contrib.nunique()"
   ]
  },
  {
   "cell_type": "code",
   "execution_count": 10,
   "metadata": {},
   "outputs": [
    {
     "data": {
      "text/html": [
       "<div>\n",
       "<style scoped>\n",
       "    .dataframe tbody tr th:only-of-type {\n",
       "        vertical-align: middle;\n",
       "    }\n",
       "\n",
       "    .dataframe tbody tr th {\n",
       "        vertical-align: top;\n",
       "    }\n",
       "\n",
       "    .dataframe thead th {\n",
       "        text-align: right;\n",
       "    }\n",
       "</style>\n",
       "<table border=\"1\" class=\"dataframe\">\n",
       "  <thead>\n",
       "    <tr style=\"text-align: right;\">\n",
       "      <th></th>\n",
       "      <th>Repo ID</th>\n",
       "      <th>Git</th>\n",
       "      <th>Commit Creators</th>\n",
       "    </tr>\n",
       "  </thead>\n",
       "  <tbody>\n",
       "    <tr>\n",
       "      <th>0</th>\n",
       "      <td>27857</td>\n",
       "      <td>https://github.com/kubernetes/autoscaler</td>\n",
       "      <td>2268734</td>\n",
       "    </tr>\n",
       "    <tr>\n",
       "      <th>1</th>\n",
       "      <td>27857</td>\n",
       "      <td>https://github.com/kubernetes/autoscaler</td>\n",
       "      <td>2268734</td>\n",
       "    </tr>\n",
       "    <tr>\n",
       "      <th>2</th>\n",
       "      <td>27857</td>\n",
       "      <td>https://github.com/kubernetes/autoscaler</td>\n",
       "      <td>2268734</td>\n",
       "    </tr>\n",
       "    <tr>\n",
       "      <th>3</th>\n",
       "      <td>27857</td>\n",
       "      <td>https://github.com/kubernetes/autoscaler</td>\n",
       "      <td>2268734</td>\n",
       "    </tr>\n",
       "    <tr>\n",
       "      <th>4</th>\n",
       "      <td>27857</td>\n",
       "      <td>https://github.com/kubernetes/autoscaler</td>\n",
       "      <td>2268734</td>\n",
       "    </tr>\n",
       "    <tr>\n",
       "      <th>...</th>\n",
       "      <td>...</td>\n",
       "      <td>...</td>\n",
       "      <td>...</td>\n",
       "    </tr>\n",
       "    <tr>\n",
       "      <th>499995</th>\n",
       "      <td>30352</td>\n",
       "      <td>https://github.com/apache/spark-website</td>\n",
       "      <td>2208553</td>\n",
       "    </tr>\n",
       "    <tr>\n",
       "      <th>499996</th>\n",
       "      <td>30352</td>\n",
       "      <td>https://github.com/apache/spark-website</td>\n",
       "      <td>2208553</td>\n",
       "    </tr>\n",
       "    <tr>\n",
       "      <th>499997</th>\n",
       "      <td>30352</td>\n",
       "      <td>https://github.com/apache/spark-website</td>\n",
       "      <td>2208553</td>\n",
       "    </tr>\n",
       "    <tr>\n",
       "      <th>499998</th>\n",
       "      <td>30352</td>\n",
       "      <td>https://github.com/apache/spark-website</td>\n",
       "      <td>2208553</td>\n",
       "    </tr>\n",
       "    <tr>\n",
       "      <th>499999</th>\n",
       "      <td>30352</td>\n",
       "      <td>https://github.com/apache/spark-website</td>\n",
       "      <td>2208553</td>\n",
       "    </tr>\n",
       "  </tbody>\n",
       "</table>\n",
       "<p>500000 rows × 3 columns</p>\n",
       "</div>"
      ],
      "text/plain": [
       "        Repo ID                                       Git  Commit Creators\n",
       "0         27857  https://github.com/kubernetes/autoscaler          2268734\n",
       "1         27857  https://github.com/kubernetes/autoscaler          2268734\n",
       "2         27857  https://github.com/kubernetes/autoscaler          2268734\n",
       "3         27857  https://github.com/kubernetes/autoscaler          2268734\n",
       "4         27857  https://github.com/kubernetes/autoscaler          2268734\n",
       "...         ...                                       ...              ...\n",
       "499995    30352   https://github.com/apache/spark-website          2208553\n",
       "499996    30352   https://github.com/apache/spark-website          2208553\n",
       "499997    30352   https://github.com/apache/spark-website          2208553\n",
       "499998    30352   https://github.com/apache/spark-website          2208553\n",
       "499999    30352   https://github.com/apache/spark-website          2208553\n",
       "\n",
       "[500000 rows x 3 columns]"
      ]
     },
     "metadata": {},
     "output_type": "display_data"
    },
    {
     "data": {
      "text/plain": [
       "Repo ID             int64\n",
       "Git                object\n",
       "Commit Creators     int64\n",
       "dtype: object"
      ]
     },
     "execution_count": 10,
     "metadata": {},
     "output_type": "execute_result"
    }
   ],
   "source": [
    "commit_contrib = pd.DataFrame()\n",
    "repo_query = salc.sql.text(f\"\"\"\n",
    "            SET SCHEMA 'augur_data';\n",
    "            SELECT r.repo_id,\n",
    "            r.repo_git,\n",
    "            ca.cntrb_id\n",
    "            FROM\n",
    "            repo r, commits c, contributors_aliases ca\n",
    "             WHERE\n",
    "            c.repo_id = r.repo_id and\n",
    "            c.cmt_committer_email = ca.alias_email\n",
    "            limit 500000\n",
    "    \"\"\")\n",
    "commit_contrib = pd.read_sql(repo_query, con=engine)\n",
    "commit_contrib.columns =['Repo ID', 'Git', 'Commit Creators']\n",
    "\n",
    "display(commit_contrib)\n",
    "commit_contrib.dtypes"
   ]
  },
  {
   "cell_type": "code",
   "execution_count": 11,
   "metadata": {},
   "outputs": [
    {
     "data": {
      "text/plain": [
       "Repo ID            316\n",
       "Git                316\n",
       "Commit Creators    115\n",
       "dtype: int64"
      ]
     },
     "execution_count": 11,
     "metadata": {},
     "output_type": "execute_result"
    }
   ],
   "source": [
    "commit_contrib.nunique()\n"
   ]
  },
  {
   "cell_type": "code",
   "execution_count": 12,
   "metadata": {},
   "outputs": [],
   "source": [
    "df_all_new = pd.DataFrame()\n"
   ]
  },
  {
   "cell_type": "code",
   "execution_count": 13,
   "metadata": {},
   "outputs": [],
   "source": [
    "df_all_new = pd.merge(commit_contrib, issue_contrib, on=['Repo ID','Git'], how='inner')"
   ]
  },
  {
   "cell_type": "code",
   "execution_count": 14,
   "metadata": {},
   "outputs": [
    {
     "data": {
      "text/plain": [
       "Repo ID              34\n",
       "Git                  34\n",
       "Commit Creators      82\n",
       "Issue Authors      1031\n",
       "dtype: int64"
      ]
     },
     "execution_count": 14,
     "metadata": {},
     "output_type": "execute_result"
    }
   ],
   "source": [
    "df_all_new.nunique()"
   ]
  },
  {
   "cell_type": "code",
   "execution_count": 15,
   "metadata": {},
   "outputs": [],
   "source": [
    "df_all_new = pd.merge(df_all_new, pr_contrib, on=['Repo ID', 'Git'], how='inner')"
   ]
  },
  {
   "cell_type": "code",
   "execution_count": 16,
   "metadata": {},
   "outputs": [
    {
     "data": {
      "text/plain": [
       "Repo ID             12\n",
       "Git                 12\n",
       "Commit Creators     11\n",
       "Issue Authors       87\n",
       "PR Creators        174\n",
       "dtype: int64"
      ]
     },
     "execution_count": 16,
     "metadata": {},
     "output_type": "execute_result"
    }
   ],
   "source": [
    "df_all_new.nunique()"
   ]
  },
  {
   "cell_type": "code",
   "execution_count": 17,
   "metadata": {},
   "outputs": [],
   "source": [
    "df_all_new = pd.merge(df_all_new, prr_contrib, on=['Repo ID', 'Git'], how='outer')\n"
   ]
  },
  {
   "cell_type": "code",
   "execution_count": 18,
   "metadata": {},
   "outputs": [
    {
     "data": {
      "text/plain": [
       "Repo ID            203\n",
       "Git                203\n",
       "Commit Creators     11\n",
       "Issue Authors       87\n",
       "PR Creators        174\n",
       "PR Reviewers       961\n",
       "dtype: int64"
      ]
     },
     "execution_count": 18,
     "metadata": {},
     "output_type": "execute_result"
    }
   ],
   "source": [
    "df_all_new.nunique()\n"
   ]
  },
  {
   "cell_type": "code",
   "execution_count": 19,
   "metadata": {},
   "outputs": [
    {
     "data": {
      "text/html": [
       "<div>\n",
       "<style scoped>\n",
       "    .dataframe tbody tr th:only-of-type {\n",
       "        vertical-align: middle;\n",
       "    }\n",
       "\n",
       "    .dataframe tbody tr th {\n",
       "        vertical-align: top;\n",
       "    }\n",
       "\n",
       "    .dataframe thead th {\n",
       "        text-align: right;\n",
       "    }\n",
       "</style>\n",
       "<table border=\"1\" class=\"dataframe\">\n",
       "  <thead>\n",
       "    <tr style=\"text-align: right;\">\n",
       "      <th></th>\n",
       "      <th>Repo ID</th>\n",
       "      <th>Git</th>\n",
       "      <th>Commit Creators</th>\n",
       "      <th>Issue Authors</th>\n",
       "      <th>PR Creators</th>\n",
       "      <th>PR Reviewers</th>\n",
       "    </tr>\n",
       "  </thead>\n",
       "  <tbody>\n",
       "    <tr>\n",
       "      <th>0</th>\n",
       "      <td>26919</td>\n",
       "      <td>https://github.com/redhat-developer/app-servic...</td>\n",
       "      <td>2204072.0</td>\n",
       "      <td>NaN</td>\n",
       "      <td>1707253.0</td>\n",
       "      <td>NaN</td>\n",
       "    </tr>\n",
       "    <tr>\n",
       "      <th>1</th>\n",
       "      <td>26919</td>\n",
       "      <td>https://github.com/redhat-developer/app-servic...</td>\n",
       "      <td>2204072.0</td>\n",
       "      <td>NaN</td>\n",
       "      <td>1707253.0</td>\n",
       "      <td>NaN</td>\n",
       "    </tr>\n",
       "    <tr>\n",
       "      <th>2</th>\n",
       "      <td>26919</td>\n",
       "      <td>https://github.com/redhat-developer/app-servic...</td>\n",
       "      <td>2204072.0</td>\n",
       "      <td>NaN</td>\n",
       "      <td>1707253.0</td>\n",
       "      <td>NaN</td>\n",
       "    </tr>\n",
       "    <tr>\n",
       "      <th>3</th>\n",
       "      <td>26919</td>\n",
       "      <td>https://github.com/redhat-developer/app-servic...</td>\n",
       "      <td>2204072.0</td>\n",
       "      <td>NaN</td>\n",
       "      <td>1707253.0</td>\n",
       "      <td>NaN</td>\n",
       "    </tr>\n",
       "    <tr>\n",
       "      <th>4</th>\n",
       "      <td>26919</td>\n",
       "      <td>https://github.com/redhat-developer/app-servic...</td>\n",
       "      <td>2204072.0</td>\n",
       "      <td>NaN</td>\n",
       "      <td>1707253.0</td>\n",
       "      <td>NaN</td>\n",
       "    </tr>\n",
       "  </tbody>\n",
       "</table>\n",
       "</div>"
      ],
      "text/plain": [
       "   Repo ID                                                Git  \\\n",
       "0    26919  https://github.com/redhat-developer/app-servic...   \n",
       "1    26919  https://github.com/redhat-developer/app-servic...   \n",
       "2    26919  https://github.com/redhat-developer/app-servic...   \n",
       "3    26919  https://github.com/redhat-developer/app-servic...   \n",
       "4    26919  https://github.com/redhat-developer/app-servic...   \n",
       "\n",
       "   Commit Creators  Issue Authors  PR Creators  PR Reviewers  \n",
       "0        2204072.0            NaN    1707253.0           NaN  \n",
       "1        2204072.0            NaN    1707253.0           NaN  \n",
       "2        2204072.0            NaN    1707253.0           NaN  \n",
       "3        2204072.0            NaN    1707253.0           NaN  \n",
       "4        2204072.0            NaN    1707253.0           NaN  "
      ]
     },
     "execution_count": 19,
     "metadata": {},
     "output_type": "execute_result"
    }
   ],
   "source": [
    "df_all_new.head()\n"
   ]
  },
  {
   "cell_type": "code",
   "execution_count": 20,
   "metadata": {},
   "outputs": [],
   "source": [
    "df_all_new.drop_duplicates(inplace=True)"
   ]
  },
  {
   "cell_type": "code",
   "execution_count": null,
   "metadata": {},
   "outputs": [],
   "source": [
    "df_all.nunique()"
   ]
  },
  {
   "cell_type": "code",
   "execution_count": 21,
   "metadata": {},
   "outputs": [
    {
     "name": "stderr",
     "output_type": "stream",
     "text": [
      "<ipython-input-21-7c282220a37e>:2: FutureWarning: Indexing with multiple keys (implicitly converted to a tuple of keys) will be deprecated, use a list instead.\n",
      "  df = df_all.groupby('Repo ID')['Commit Creators','Issue Authors','PR Creators','PR Reviewers'].count()\n"
     ]
    }
   ],
   "source": [
    "# Group by repo and count the number of issue authors, PR creators, PR reviewers and commit creators\n",
    "df = df_all.groupby('Repo ID')['Commit Creators','Issue Authors','PR Creators','PR Reviewers'].count()"
   ]
  },
  {
   "cell_type": "code",
   "execution_count": 22,
   "metadata": {},
   "outputs": [],
   "source": [
    "df = df.reset_index()"
   ]
  },
  {
   "cell_type": "code",
   "execution_count": 23,
   "metadata": {},
   "outputs": [
    {
     "data": {
      "text/html": [
       "<div>\n",
       "<style scoped>\n",
       "    .dataframe tbody tr th:only-of-type {\n",
       "        vertical-align: middle;\n",
       "    }\n",
       "\n",
       "    .dataframe tbody tr th {\n",
       "        vertical-align: top;\n",
       "    }\n",
       "\n",
       "    .dataframe thead th {\n",
       "        text-align: right;\n",
       "    }\n",
       "</style>\n",
       "<table border=\"1\" class=\"dataframe\">\n",
       "  <thead>\n",
       "    <tr style=\"text-align: right;\">\n",
       "      <th></th>\n",
       "      <th>Repo ID</th>\n",
       "      <th>Commit Creators</th>\n",
       "      <th>Issue Authors</th>\n",
       "      <th>PR Creators</th>\n",
       "      <th>PR Reviewers</th>\n",
       "    </tr>\n",
       "  </thead>\n",
       "  <tbody>\n",
       "    <tr>\n",
       "      <th>0</th>\n",
       "      <td>24441</td>\n",
       "      <td>0</td>\n",
       "      <td>0</td>\n",
       "      <td>0</td>\n",
       "      <td>10</td>\n",
       "    </tr>\n",
       "    <tr>\n",
       "      <th>1</th>\n",
       "      <td>24442</td>\n",
       "      <td>0</td>\n",
       "      <td>0</td>\n",
       "      <td>0</td>\n",
       "      <td>12</td>\n",
       "    </tr>\n",
       "    <tr>\n",
       "      <th>2</th>\n",
       "      <td>25445</td>\n",
       "      <td>0</td>\n",
       "      <td>0</td>\n",
       "      <td>0</td>\n",
       "      <td>5</td>\n",
       "    </tr>\n",
       "    <tr>\n",
       "      <th>3</th>\n",
       "      <td>25450</td>\n",
       "      <td>0</td>\n",
       "      <td>0</td>\n",
       "      <td>0</td>\n",
       "      <td>8</td>\n",
       "    </tr>\n",
       "    <tr>\n",
       "      <th>4</th>\n",
       "      <td>26894</td>\n",
       "      <td>128</td>\n",
       "      <td>112</td>\n",
       "      <td>128</td>\n",
       "      <td>0</td>\n",
       "    </tr>\n",
       "  </tbody>\n",
       "</table>\n",
       "</div>"
      ],
      "text/plain": [
       "   Repo ID  Commit Creators  Issue Authors  PR Creators  PR Reviewers\n",
       "0    24441                0              0            0            10\n",
       "1    24442                0              0            0            12\n",
       "2    25445                0              0            0             5\n",
       "3    25450                0              0            0             8\n",
       "4    26894              128            112          128             0"
      ]
     },
     "execution_count": 23,
     "metadata": {},
     "output_type": "execute_result"
    }
   ],
   "source": [
    "df.head()"
   ]
  },
  {
   "cell_type": "code",
   "execution_count": 24,
   "metadata": {},
   "outputs": [
    {
     "data": {
      "text/plain": [
       "Repo ID            203\n",
       "Commit Creators     10\n",
       "Issue Authors        9\n",
       "PR Creators         10\n",
       "PR Reviewers        27\n",
       "dtype: int64"
      ]
     },
     "execution_count": 24,
     "metadata": {},
     "output_type": "execute_result"
    }
   ],
   "source": [
    "df.nunique()"
   ]
  },
  {
   "cell_type": "markdown",
   "metadata": {},
   "source": [
    "### Contributor Graph"
   ]
  },
  {
   "cell_type": "code",
   "execution_count": 25,
   "metadata": {},
   "outputs": [
    {
     "data": {
      "image/png": "[encoded data removed]",
      "text/plain": [
       "<Figure size 432x288 with 1 Axes>"
      ]
     },
     "metadata": {},
     "output_type": "display_data"
    }
   ],
   "source": [
    "G = nx.from_pandas_edgelist(df,\n",
    "                            source='Repo ID',\n",
    "                            target='Repo ID',\n",
    "                            edge_attr=['Issue Authors', 'PR Creators', 'Commit Creators', 'PR Reviewers'],\n",
    "                            create_using=nx.MultiGraph())\n",
    "                            \n",
    "nx.draw_networkx(G)"
   ]
  },
  {
   "cell_type": "code",
   "execution_count": 26,
   "metadata": {},
   "outputs": [
    {
     "name": "stdout",
     "output_type": "stream",
     "text": [
      "Name: \n",
      "Type: MultiGraph\n",
      "Number of nodes: 203\n",
      "Number of edges: 203\n",
      "Average degree:   2.0000\n"
     ]
    }
   ],
   "source": [
    "print(nx.info(G))"
   ]
  },
  {
   "cell_type": "code",
   "execution_count": null,
   "metadata": {},
   "outputs": [],
   "source": []
  }
 ],
 "metadata": {
  "kernelspec": {
   "display_name": "Python 3",
   "language": "python",
   "name": "python3"
  },
  "language_info": {
   "codemirror_mode": {
    "name": "ipython",
    "version": 3
   },
   "file_extension": ".py",
   "mimetype": "text/x-python",
   "name": "python",
   "nbconvert_exporter": "python",
   "pygments_lexer": "ipython3",
   "version": "3.8.6"
  }
 },
 "nbformat": 4,
 "nbformat_minor": 4
}
