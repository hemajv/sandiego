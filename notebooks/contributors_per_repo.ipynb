{
 "cells": [
  {
   "cell_type": "markdown",
   "metadata": {},
   "source": [
    "# Introduction to connecting and Querying the Augur DB"
   ]
  },
  {
   "cell_type": "markdown",
   "metadata": {},
   "source": [
    "## Connect to your database"
   ]
  },
  {
   "cell_type": "markdown",
   "metadata": {},
   "source": [
    "Until the Operate First enviroment can connect to the DB, use config file to access. Do not push config file to Github repo"
   ]
  },
  {
   "cell_type": "code",
   "execution_count": 1,
   "metadata": {},
   "outputs": [],
   "source": [
    "import psycopg2\n",
    "import pandas as pd \n",
    "import sqlalchemy as salc\n",
    "import json\n",
    "import os\n",
    "import networkx as nx\n",
    "\n",
    "with open(\"../comm_cage.json\") as config_file:\n",
    "    config = json.load(config_file)"
   ]
  },
  {
   "cell_type": "code",
   "execution_count": 2,
   "metadata": {},
   "outputs": [],
   "source": [
    "database_connection_string = 'postgresql+psycopg2://{}:{}@{}:{}/{}'.format(config['user'], config['password'], config['host'], config['port'], config['database'])\n",
    "\n",
    "dbschema='augur_data'\n",
    "engine = salc.create_engine(\n",
    "    database_connection_string,\n",
    "    connect_args={'options': '-csearch_path={}'.format(dbschema)})"
   ]
  },
  {
   "cell_type": "markdown",
   "metadata": {},
   "source": [
    "### Retrieve Available Respositories"
   ]
  },
  {
   "cell_type": "code",
   "execution_count": 3,
   "metadata": {},
   "outputs": [
    {
     "data": {
      "text/html": [
       "<div>\n",
       "<style scoped>\n",
       "    .dataframe tbody tr th:only-of-type {\n",
       "        vertical-align: middle;\n",
       "    }\n",
       "\n",
       "    .dataframe tbody tr th {\n",
       "        vertical-align: top;\n",
       "    }\n",
       "\n",
       "    .dataframe thead th {\n",
       "        text-align: right;\n",
       "    }\n",
       "</style>\n",
       "<table border=\"1\" class=\"dataframe\">\n",
       "  <thead>\n",
       "    <tr style=\"text-align: right;\">\n",
       "      <th></th>\n",
       "      <th>rg_name</th>\n",
       "      <th>repo_group_id</th>\n",
       "      <th>repo_name</th>\n",
       "      <th>repo_id</th>\n",
       "      <th>forked_from</th>\n",
       "      <th>repo_archived</th>\n",
       "      <th>repo_git</th>\n",
       "    </tr>\n",
       "  </thead>\n",
       "  <tbody>\n",
       "    <tr>\n",
       "      <th>0</th>\n",
       "      <td>3scale</td>\n",
       "      <td>25556</td>\n",
       "      <td>3scale</td>\n",
       "      <td>33134</td>\n",
       "      <td>Parent not available</td>\n",
       "      <td>0.0</td>\n",
       "      <td>https://github.com/3scale/3scale.github.io</td>\n",
       "    </tr>\n",
       "    <tr>\n",
       "      <th>1</th>\n",
       "      <td>3scale</td>\n",
       "      <td>25556</td>\n",
       "      <td>3scale-amp-openshift-templates</td>\n",
       "      <td>33126</td>\n",
       "      <td>Parent not available</td>\n",
       "      <td>0.0</td>\n",
       "      <td>https://github.com/3scale/3scale-amp-openshift...</td>\n",
       "    </tr>\n",
       "    <tr>\n",
       "      <th>2</th>\n",
       "      <td>3scale</td>\n",
       "      <td>25556</td>\n",
       "      <td>3scale-api-python</td>\n",
       "      <td>33130</td>\n",
       "      <td>3scale-qe/3scale-api-python</td>\n",
       "      <td>0.0</td>\n",
       "      <td>https://github.com/3scale/3scale-api-python</td>\n",
       "    </tr>\n",
       "    <tr>\n",
       "      <th>3</th>\n",
       "      <td>3scale</td>\n",
       "      <td>25556</td>\n",
       "      <td>3scale-api-ruby</td>\n",
       "      <td>33158</td>\n",
       "      <td>Parent not available</td>\n",
       "      <td>0.0</td>\n",
       "      <td>https://github.com/3scale/3scale-api-ruby</td>\n",
       "    </tr>\n",
       "    <tr>\n",
       "      <th>4</th>\n",
       "      <td>3scale</td>\n",
       "      <td>25556</td>\n",
       "      <td>3scale-go-client</td>\n",
       "      <td>33169</td>\n",
       "      <td>Parent not available</td>\n",
       "      <td>0.0</td>\n",
       "      <td>https://github.com/3scale/3scale-go-client</td>\n",
       "    </tr>\n",
       "    <tr>\n",
       "      <th>...</th>\n",
       "      <td>...</td>\n",
       "      <td>...</td>\n",
       "      <td>...</td>\n",
       "      <td>...</td>\n",
       "      <td>...</td>\n",
       "      <td>...</td>\n",
       "      <td>...</td>\n",
       "    </tr>\n",
       "    <tr>\n",
       "      <th>10956</th>\n",
       "      <td>zerodayz</td>\n",
       "      <td>25482</td>\n",
       "      <td>sosreport-operator</td>\n",
       "      <td>30872</td>\n",
       "      <td>andreaskaris/sosreport-operator</td>\n",
       "      <td>0.0</td>\n",
       "      <td>https://github.com/zerodayz/sosreport-operator</td>\n",
       "    </tr>\n",
       "    <tr>\n",
       "      <th>10957</th>\n",
       "      <td>zerodayz</td>\n",
       "      <td>25482</td>\n",
       "      <td>talos</td>\n",
       "      <td>30863</td>\n",
       "      <td>siderolabs/talos</td>\n",
       "      <td>0.0</td>\n",
       "      <td>https://github.com/zerodayz/talos</td>\n",
       "    </tr>\n",
       "    <tr>\n",
       "      <th>10958</th>\n",
       "      <td>zerodayz</td>\n",
       "      <td>25482</td>\n",
       "      <td>tests</td>\n",
       "      <td>30838</td>\n",
       "      <td>kata-containers/tests</td>\n",
       "      <td>0.0</td>\n",
       "      <td>https://github.com/zerodayz/tests</td>\n",
       "    </tr>\n",
       "    <tr>\n",
       "      <th>10959</th>\n",
       "      <td>zerodayz</td>\n",
       "      <td>25482</td>\n",
       "      <td>web</td>\n",
       "      <td>30839</td>\n",
       "      <td>openshifttips/web</td>\n",
       "      <td>0.0</td>\n",
       "      <td>https://github.com/zerodayz/web</td>\n",
       "    </tr>\n",
       "    <tr>\n",
       "      <th>10960</th>\n",
       "      <td>zerodayz</td>\n",
       "      <td>25482</td>\n",
       "      <td>zerodayz</td>\n",
       "      <td>30816</td>\n",
       "      <td>Parent not available</td>\n",
       "      <td>0.0</td>\n",
       "      <td>https://github.com/zerodayz/zerodayz.gitlab.io</td>\n",
       "    </tr>\n",
       "  </tbody>\n",
       "</table>\n",
       "<p>10961 rows × 7 columns</p>\n",
       "</div>"
      ],
      "text/plain": [
       "        rg_name  repo_group_id                       repo_name  repo_id  \\\n",
       "0        3scale          25556                          3scale    33134   \n",
       "1        3scale          25556  3scale-amp-openshift-templates    33126   \n",
       "2        3scale          25556               3scale-api-python    33130   \n",
       "3        3scale          25556                 3scale-api-ruby    33158   \n",
       "4        3scale          25556                3scale-go-client    33169   \n",
       "...         ...            ...                             ...      ...   \n",
       "10956  zerodayz          25482              sosreport-operator    30872   \n",
       "10957  zerodayz          25482                           talos    30863   \n",
       "10958  zerodayz          25482                           tests    30838   \n",
       "10959  zerodayz          25482                             web    30839   \n",
       "10960  zerodayz          25482                        zerodayz    30816   \n",
       "\n",
       "                           forked_from  repo_archived  \\\n",
       "0                 Parent not available            0.0   \n",
       "1                 Parent not available            0.0   \n",
       "2          3scale-qe/3scale-api-python            0.0   \n",
       "3                 Parent not available            0.0   \n",
       "4                 Parent not available            0.0   \n",
       "...                                ...            ...   \n",
       "10956  andreaskaris/sosreport-operator            0.0   \n",
       "10957                 siderolabs/talos            0.0   \n",
       "10958            kata-containers/tests            0.0   \n",
       "10959                openshifttips/web            0.0   \n",
       "10960             Parent not available            0.0   \n",
       "\n",
       "                                                repo_git  \n",
       "0             https://github.com/3scale/3scale.github.io  \n",
       "1      https://github.com/3scale/3scale-amp-openshift...  \n",
       "2            https://github.com/3scale/3scale-api-python  \n",
       "3              https://github.com/3scale/3scale-api-ruby  \n",
       "4             https://github.com/3scale/3scale-go-client  \n",
       "...                                                  ...  \n",
       "10956     https://github.com/zerodayz/sosreport-operator  \n",
       "10957                  https://github.com/zerodayz/talos  \n",
       "10958                  https://github.com/zerodayz/tests  \n",
       "10959                    https://github.com/zerodayz/web  \n",
       "10960     https://github.com/zerodayz/zerodayz.gitlab.io  \n",
       "\n",
       "[10961 rows x 7 columns]"
      ]
     },
     "metadata": {},
     "output_type": "display_data"
    },
    {
     "data": {
      "text/plain": [
       "rg_name           object\n",
       "repo_group_id      int64\n",
       "repo_name         object\n",
       "repo_id            int64\n",
       "forked_from       object\n",
       "repo_archived    float64\n",
       "repo_git          object\n",
       "dtype: object"
      ]
     },
     "execution_count": 3,
     "metadata": {},
     "output_type": "execute_result"
    }
   ],
   "source": [
    "aval_repos = pd.DataFrame()\n",
    "repo_query = salc.sql.text(f\"\"\"\n",
    "             SET SCHEMA 'augur_data';\n",
    "             SELECT a.rg_name,\n",
    "                a.repo_group_id,\n",
    "                b.repo_name,\n",
    "                b.repo_id,\n",
    "                b.forked_from,\n",
    "                b.repo_archived,\n",
    "                b.repo_git\n",
    "            FROM\n",
    "                repo_groups a,\n",
    "                repo b\n",
    "            WHERE\n",
    "                a.repo_group_id = b.repo_group_id\n",
    "            ORDER BY\n",
    "                rg_name,\n",
    "                repo_name;\n",
    "    \"\"\")\n",
    "aval_repos = pd.read_sql(repo_query, con=engine)\n",
    "display(aval_repos)\n",
    "aval_repos.dtypes"
   ]
  },
  {
   "cell_type": "code",
   "execution_count": 4,
   "metadata": {},
   "outputs": [
    {
     "data": {
      "text/html": [
       "<div>\n",
       "<style scoped>\n",
       "    .dataframe tbody tr th:only-of-type {\n",
       "        vertical-align: middle;\n",
       "    }\n",
       "\n",
       "    .dataframe tbody tr th {\n",
       "        vertical-align: top;\n",
       "    }\n",
       "\n",
       "    .dataframe thead th {\n",
       "        text-align: right;\n",
       "    }\n",
       "</style>\n",
       "<table border=\"1\" class=\"dataframe\">\n",
       "  <thead>\n",
       "    <tr style=\"text-align: right;\">\n",
       "      <th></th>\n",
       "      <th>Repo ID</th>\n",
       "      <th>Git</th>\n",
       "      <th>Issue Authors</th>\n",
       "    </tr>\n",
       "  </thead>\n",
       "  <tbody>\n",
       "    <tr>\n",
       "      <th>0</th>\n",
       "      <td>24441</td>\n",
       "      <td>https://github.com/operate-first/operate-first...</td>\n",
       "      <td>25438.0</td>\n",
       "    </tr>\n",
       "    <tr>\n",
       "      <th>1</th>\n",
       "      <td>24441</td>\n",
       "      <td>https://github.com/operate-first/operate-first...</td>\n",
       "      <td>25438.0</td>\n",
       "    </tr>\n",
       "    <tr>\n",
       "      <th>2</th>\n",
       "      <td>24441</td>\n",
       "      <td>https://github.com/operate-first/operate-first...</td>\n",
       "      <td>25438.0</td>\n",
       "    </tr>\n",
       "    <tr>\n",
       "      <th>3</th>\n",
       "      <td>24441</td>\n",
       "      <td>https://github.com/operate-first/operate-first...</td>\n",
       "      <td>25438.0</td>\n",
       "    </tr>\n",
       "    <tr>\n",
       "      <th>4</th>\n",
       "      <td>24441</td>\n",
       "      <td>https://github.com/operate-first/operate-first...</td>\n",
       "      <td>25449.0</td>\n",
       "    </tr>\n",
       "    <tr>\n",
       "      <th>...</th>\n",
       "      <td>...</td>\n",
       "      <td>...</td>\n",
       "      <td>...</td>\n",
       "    </tr>\n",
       "    <tr>\n",
       "      <th>49995</th>\n",
       "      <td>25759</td>\n",
       "      <td>https://github.com/eclipse/lemminx</td>\n",
       "      <td>NaN</td>\n",
       "    </tr>\n",
       "    <tr>\n",
       "      <th>49996</th>\n",
       "      <td>25759</td>\n",
       "      <td>https://github.com/eclipse/lemminx</td>\n",
       "      <td>NaN</td>\n",
       "    </tr>\n",
       "    <tr>\n",
       "      <th>49997</th>\n",
       "      <td>25759</td>\n",
       "      <td>https://github.com/eclipse/lemminx</td>\n",
       "      <td>NaN</td>\n",
       "    </tr>\n",
       "    <tr>\n",
       "      <th>49998</th>\n",
       "      <td>25759</td>\n",
       "      <td>https://github.com/eclipse/lemminx</td>\n",
       "      <td>NaN</td>\n",
       "    </tr>\n",
       "    <tr>\n",
       "      <th>49999</th>\n",
       "      <td>25759</td>\n",
       "      <td>https://github.com/eclipse/lemminx</td>\n",
       "      <td>NaN</td>\n",
       "    </tr>\n",
       "  </tbody>\n",
       "</table>\n",
       "<p>50000 rows × 3 columns</p>\n",
       "</div>"
      ],
      "text/plain": [
       "       Repo ID                                                Git  \\\n",
       "0        24441  https://github.com/operate-first/operate-first...   \n",
       "1        24441  https://github.com/operate-first/operate-first...   \n",
       "2        24441  https://github.com/operate-first/operate-first...   \n",
       "3        24441  https://github.com/operate-first/operate-first...   \n",
       "4        24441  https://github.com/operate-first/operate-first...   \n",
       "...        ...                                                ...   \n",
       "49995    25759                 https://github.com/eclipse/lemminx   \n",
       "49996    25759                 https://github.com/eclipse/lemminx   \n",
       "49997    25759                 https://github.com/eclipse/lemminx   \n",
       "49998    25759                 https://github.com/eclipse/lemminx   \n",
       "49999    25759                 https://github.com/eclipse/lemminx   \n",
       "\n",
       "       Issue Authors  \n",
       "0            25438.0  \n",
       "1            25438.0  \n",
       "2            25438.0  \n",
       "3            25438.0  \n",
       "4            25449.0  \n",
       "...              ...  \n",
       "49995            NaN  \n",
       "49996            NaN  \n",
       "49997            NaN  \n",
       "49998            NaN  \n",
       "49999            NaN  \n",
       "\n",
       "[50000 rows x 3 columns]"
      ]
     },
     "metadata": {},
     "output_type": "display_data"
    },
    {
     "data": {
      "text/plain": [
       "Repo ID            int64\n",
       "Git               object\n",
       "Issue Authors    float64\n",
       "dtype: object"
      ]
     },
     "execution_count": 4,
     "metadata": {},
     "output_type": "execute_result"
    }
   ],
   "source": [
    "issue_contrib = pd.DataFrame()\n",
    "repo_query = salc.sql.text(f\"\"\"\n",
    "            SET SCHEMA 'augur_data';\n",
    "            SELECT r.repo_id,\n",
    "            r.repo_git,\n",
    "            i.cntrb_id\n",
    "            FROM\n",
    "            repo r, issues i\n",
    "             WHERE\n",
    "            i.repo_id = r.repo_id\n",
    "            limit 50000\n",
    "    \"\"\")\n",
    "issue_contrib = pd.read_sql(repo_query, con=engine)\n",
    "issue_contrib.columns =['Repo ID', 'Git', 'Issue Authors']\n",
    "\n",
    "display(issue_contrib)\n",
    "issue_contrib.dtypes"
   ]
  },
  {
   "cell_type": "code",
   "execution_count": 5,
   "metadata": {},
   "outputs": [
    {
     "data": {
      "text/plain": [
       "Repo ID          216\n",
       "Git              216\n",
       "Issue Authors    918\n",
       "dtype: int64"
      ]
     },
     "execution_count": 5,
     "metadata": {},
     "output_type": "execute_result"
    }
   ],
   "source": [
    "issue_contrib.nunique()"
   ]
  },
  {
   "cell_type": "code",
   "execution_count": 6,
   "metadata": {},
   "outputs": [
    {
     "data": {
      "text/html": [
       "<div>\n",
       "<style scoped>\n",
       "    .dataframe tbody tr th:only-of-type {\n",
       "        vertical-align: middle;\n",
       "    }\n",
       "\n",
       "    .dataframe tbody tr th {\n",
       "        vertical-align: top;\n",
       "    }\n",
       "\n",
       "    .dataframe thead th {\n",
       "        text-align: right;\n",
       "    }\n",
       "</style>\n",
       "<table border=\"1\" class=\"dataframe\">\n",
       "  <thead>\n",
       "    <tr style=\"text-align: right;\">\n",
       "      <th></th>\n",
       "      <th>Repo ID</th>\n",
       "      <th>Git</th>\n",
       "      <th>PR Creators</th>\n",
       "    </tr>\n",
       "  </thead>\n",
       "  <tbody>\n",
       "    <tr>\n",
       "      <th>0</th>\n",
       "      <td>27458</td>\n",
       "      <td>https://github.com/operate-first/continuous-de...</td>\n",
       "      <td>25443</td>\n",
       "    </tr>\n",
       "    <tr>\n",
       "      <th>1</th>\n",
       "      <td>27458</td>\n",
       "      <td>https://github.com/operate-first/continuous-de...</td>\n",
       "      <td>25465</td>\n",
       "    </tr>\n",
       "    <tr>\n",
       "      <th>2</th>\n",
       "      <td>27458</td>\n",
       "      <td>https://github.com/operate-first/continuous-de...</td>\n",
       "      <td>25444</td>\n",
       "    </tr>\n",
       "    <tr>\n",
       "      <th>3</th>\n",
       "      <td>27458</td>\n",
       "      <td>https://github.com/operate-first/continuous-de...</td>\n",
       "      <td>25465</td>\n",
       "    </tr>\n",
       "    <tr>\n",
       "      <th>4</th>\n",
       "      <td>27458</td>\n",
       "      <td>https://github.com/operate-first/continuous-de...</td>\n",
       "      <td>25433</td>\n",
       "    </tr>\n",
       "    <tr>\n",
       "      <th>...</th>\n",
       "      <td>...</td>\n",
       "      <td>...</td>\n",
       "      <td>...</td>\n",
       "    </tr>\n",
       "    <tr>\n",
       "      <th>49995</th>\n",
       "      <td>28335</td>\n",
       "      <td>https://github.com/ansible/ansible-modules-core</td>\n",
       "      <td>91339</td>\n",
       "    </tr>\n",
       "    <tr>\n",
       "      <th>49996</th>\n",
       "      <td>28335</td>\n",
       "      <td>https://github.com/ansible/ansible-modules-core</td>\n",
       "      <td>58062</td>\n",
       "    </tr>\n",
       "    <tr>\n",
       "      <th>49997</th>\n",
       "      <td>32524</td>\n",
       "      <td>https://github.com/openshift/test-pull-requests</td>\n",
       "      <td>2204263</td>\n",
       "    </tr>\n",
       "    <tr>\n",
       "      <th>49998</th>\n",
       "      <td>32524</td>\n",
       "      <td>https://github.com/openshift/test-pull-requests</td>\n",
       "      <td>2204295</td>\n",
       "    </tr>\n",
       "    <tr>\n",
       "      <th>49999</th>\n",
       "      <td>35092</td>\n",
       "      <td>https://github.com/debezium/postgres-decoderbufs</td>\n",
       "      <td>2204275</td>\n",
       "    </tr>\n",
       "  </tbody>\n",
       "</table>\n",
       "<p>50000 rows × 3 columns</p>\n",
       "</div>"
      ],
      "text/plain": [
       "       Repo ID                                                Git  PR Creators\n",
       "0        27458  https://github.com/operate-first/continuous-de...        25443\n",
       "1        27458  https://github.com/operate-first/continuous-de...        25465\n",
       "2        27458  https://github.com/operate-first/continuous-de...        25444\n",
       "3        27458  https://github.com/operate-first/continuous-de...        25465\n",
       "4        27458  https://github.com/operate-first/continuous-de...        25433\n",
       "...        ...                                                ...          ...\n",
       "49995    28335    https://github.com/ansible/ansible-modules-core        91339\n",
       "49996    28335    https://github.com/ansible/ansible-modules-core        58062\n",
       "49997    32524    https://github.com/openshift/test-pull-requests      2204263\n",
       "49998    32524    https://github.com/openshift/test-pull-requests      2204295\n",
       "49999    35092   https://github.com/debezium/postgres-decoderbufs      2204275\n",
       "\n",
       "[50000 rows x 3 columns]"
      ]
     },
     "metadata": {},
     "output_type": "display_data"
    },
    {
     "data": {
      "text/plain": [
       "Repo ID         int64\n",
       "Git            object\n",
       "PR Creators     int64\n",
       "dtype: object"
      ]
     },
     "execution_count": 6,
     "metadata": {},
     "output_type": "execute_result"
    }
   ],
   "source": [
    "pr_contrib = pd.DataFrame()\n",
    "repo_query = salc.sql.text(f\"\"\"\n",
    "            SET SCHEMA 'augur_data';\n",
    "            SELECT r.repo_id,\n",
    "            r.repo_git,\n",
    "            prm.cntrb_id\n",
    "            FROM\n",
    "            repo r, pull_request_meta prm \n",
    "             WHERE\n",
    "            prm.repo_id = r.repo_id\n",
    "            limit 50000\n",
    "    \"\"\")\n",
    "pr_contrib = pd.read_sql(repo_query, con=engine)\n",
    "pr_contrib.columns =['Repo ID', 'Git', 'PR Creators']\n",
    "\n",
    "display(pr_contrib)\n",
    "pr_contrib.dtypes"
   ]
  },
  {
   "cell_type": "code",
   "execution_count": 7,
   "metadata": {},
   "outputs": [
    {
     "data": {
      "text/plain": [
       "Repo ID         284\n",
       "Git             284\n",
       "PR Creators    2054\n",
       "dtype: int64"
      ]
     },
     "execution_count": 7,
     "metadata": {},
     "output_type": "execute_result"
    }
   ],
   "source": [
    "pr_contrib.nunique()"
   ]
  },
  {
   "cell_type": "code",
   "execution_count": 8,
   "metadata": {},
   "outputs": [
    {
     "data": {
      "text/html": [
       "<div>\n",
       "<style scoped>\n",
       "    .dataframe tbody tr th:only-of-type {\n",
       "        vertical-align: middle;\n",
       "    }\n",
       "\n",
       "    .dataframe tbody tr th {\n",
       "        vertical-align: top;\n",
       "    }\n",
       "\n",
       "    .dataframe thead th {\n",
       "        text-align: right;\n",
       "    }\n",
       "</style>\n",
       "<table border=\"1\" class=\"dataframe\">\n",
       "  <thead>\n",
       "    <tr style=\"text-align: right;\">\n",
       "      <th></th>\n",
       "      <th>Repo ID</th>\n",
       "      <th>Git</th>\n",
       "      <th>PR Reviewers</th>\n",
       "    </tr>\n",
       "  </thead>\n",
       "  <tbody>\n",
       "    <tr>\n",
       "      <th>0</th>\n",
       "      <td>27458</td>\n",
       "      <td>https://github.com/operate-first/continuous-de...</td>\n",
       "      <td>25443</td>\n",
       "    </tr>\n",
       "    <tr>\n",
       "      <th>1</th>\n",
       "      <td>27458</td>\n",
       "      <td>https://github.com/operate-first/continuous-de...</td>\n",
       "      <td>25443</td>\n",
       "    </tr>\n",
       "    <tr>\n",
       "      <th>2</th>\n",
       "      <td>27458</td>\n",
       "      <td>https://github.com/operate-first/continuous-de...</td>\n",
       "      <td>25444</td>\n",
       "    </tr>\n",
       "    <tr>\n",
       "      <th>3</th>\n",
       "      <td>27458</td>\n",
       "      <td>https://github.com/operate-first/continuous-de...</td>\n",
       "      <td>25444</td>\n",
       "    </tr>\n",
       "    <tr>\n",
       "      <th>4</th>\n",
       "      <td>27458</td>\n",
       "      <td>https://github.com/operate-first/continuous-de...</td>\n",
       "      <td>25446</td>\n",
       "    </tr>\n",
       "    <tr>\n",
       "      <th>...</th>\n",
       "      <td>...</td>\n",
       "      <td>...</td>\n",
       "      <td>...</td>\n",
       "    </tr>\n",
       "    <tr>\n",
       "      <th>26800</th>\n",
       "      <td>28308</td>\n",
       "      <td>https://github.com/ansible/lightbulb</td>\n",
       "      <td>58328</td>\n",
       "    </tr>\n",
       "    <tr>\n",
       "      <th>26801</th>\n",
       "      <td>28308</td>\n",
       "      <td>https://github.com/ansible/lightbulb</td>\n",
       "      <td>58179</td>\n",
       "    </tr>\n",
       "    <tr>\n",
       "      <th>26802</th>\n",
       "      <td>28308</td>\n",
       "      <td>https://github.com/ansible/lightbulb</td>\n",
       "      <td>58059</td>\n",
       "    </tr>\n",
       "    <tr>\n",
       "      <th>26803</th>\n",
       "      <td>28308</td>\n",
       "      <td>https://github.com/ansible/lightbulb</td>\n",
       "      <td>58232</td>\n",
       "    </tr>\n",
       "    <tr>\n",
       "      <th>26804</th>\n",
       "      <td>28308</td>\n",
       "      <td>https://github.com/ansible/lightbulb</td>\n",
       "      <td>58232</td>\n",
       "    </tr>\n",
       "  </tbody>\n",
       "</table>\n",
       "<p>26805 rows × 3 columns</p>\n",
       "</div>"
      ],
      "text/plain": [
       "       Repo ID                                                Git  \\\n",
       "0        27458  https://github.com/operate-first/continuous-de...   \n",
       "1        27458  https://github.com/operate-first/continuous-de...   \n",
       "2        27458  https://github.com/operate-first/continuous-de...   \n",
       "3        27458  https://github.com/operate-first/continuous-de...   \n",
       "4        27458  https://github.com/operate-first/continuous-de...   \n",
       "...        ...                                                ...   \n",
       "26800    28308               https://github.com/ansible/lightbulb   \n",
       "26801    28308               https://github.com/ansible/lightbulb   \n",
       "26802    28308               https://github.com/ansible/lightbulb   \n",
       "26803    28308               https://github.com/ansible/lightbulb   \n",
       "26804    28308               https://github.com/ansible/lightbulb   \n",
       "\n",
       "       PR Reviewers  \n",
       "0             25443  \n",
       "1             25443  \n",
       "2             25444  \n",
       "3             25444  \n",
       "4             25446  \n",
       "...             ...  \n",
       "26800         58328  \n",
       "26801         58179  \n",
       "26802         58059  \n",
       "26803         58232  \n",
       "26804         58232  \n",
       "\n",
       "[26805 rows x 3 columns]"
      ]
     },
     "metadata": {},
     "output_type": "display_data"
    },
    {
     "data": {
      "text/plain": [
       "Repo ID          int64\n",
       "Git             object\n",
       "PR Reviewers     int64\n",
       "dtype: object"
      ]
     },
     "execution_count": 8,
     "metadata": {},
     "output_type": "execute_result"
    }
   ],
   "source": [
    "prr_contrib = pd.DataFrame()\n",
    "repo_query = salc.sql.text(f\"\"\"\n",
    "            SET SCHEMA 'augur_data';\n",
    "            SELECT r.repo_id,\n",
    "            r.repo_git,\n",
    "            prr.cntrb_id\n",
    "            FROM\n",
    "            repo r, pull_request_reviews prr\n",
    "             WHERE\n",
    "            prr.repo_id = r.repo_id\n",
    "            limit 50000\n",
    "    \"\"\")\n",
    "prr_contrib = pd.read_sql(repo_query, con=engine)\n",
    "prr_contrib.columns =['Repo ID', 'Git', 'PR Reviewers']\n",
    "\n",
    "display(prr_contrib)\n",
    "prr_contrib.dtypes"
   ]
  },
  {
   "cell_type": "code",
   "execution_count": 9,
   "metadata": {},
   "outputs": [
    {
     "data": {
      "text/plain": [
       "Repo ID         191\n",
       "Git             191\n",
       "PR Reviewers    961\n",
       "dtype: int64"
      ]
     },
     "execution_count": 9,
     "metadata": {},
     "output_type": "execute_result"
    }
   ],
   "source": [
    "prr_contrib.nunique()"
   ]
  },
  {
   "cell_type": "code",
   "execution_count": 10,
   "metadata": {},
   "outputs": [
    {
     "data": {
      "text/html": [
       "<div>\n",
       "<style scoped>\n",
       "    .dataframe tbody tr th:only-of-type {\n",
       "        vertical-align: middle;\n",
       "    }\n",
       "\n",
       "    .dataframe tbody tr th {\n",
       "        vertical-align: top;\n",
       "    }\n",
       "\n",
       "    .dataframe thead th {\n",
       "        text-align: right;\n",
       "    }\n",
       "</style>\n",
       "<table border=\"1\" class=\"dataframe\">\n",
       "  <thead>\n",
       "    <tr style=\"text-align: right;\">\n",
       "      <th></th>\n",
       "      <th>Repo ID</th>\n",
       "      <th>Git</th>\n",
       "      <th>Commit Creators</th>\n",
       "    </tr>\n",
       "  </thead>\n",
       "  <tbody>\n",
       "    <tr>\n",
       "      <th>0</th>\n",
       "      <td>26835</td>\n",
       "      <td>https://github.com/linux-audit/audit-kernel</td>\n",
       "      <td>32680</td>\n",
       "    </tr>\n",
       "    <tr>\n",
       "      <th>1</th>\n",
       "      <td>26835</td>\n",
       "      <td>https://github.com/linux-audit/audit-kernel</td>\n",
       "      <td>32680</td>\n",
       "    </tr>\n",
       "    <tr>\n",
       "      <th>2</th>\n",
       "      <td>27938</td>\n",
       "      <td>https://github.com/coreos/linux-deprecated</td>\n",
       "      <td>32680</td>\n",
       "    </tr>\n",
       "    <tr>\n",
       "      <th>3</th>\n",
       "      <td>27938</td>\n",
       "      <td>https://github.com/coreos/linux-deprecated</td>\n",
       "      <td>32680</td>\n",
       "    </tr>\n",
       "    <tr>\n",
       "      <th>4</th>\n",
       "      <td>27938</td>\n",
       "      <td>https://github.com/coreos/linux-deprecated</td>\n",
       "      <td>32680</td>\n",
       "    </tr>\n",
       "    <tr>\n",
       "      <th>...</th>\n",
       "      <td>...</td>\n",
       "      <td>...</td>\n",
       "      <td>...</td>\n",
       "    </tr>\n",
       "    <tr>\n",
       "      <th>49995</th>\n",
       "      <td>33378</td>\n",
       "      <td>https://github.com/oracle/dtrace-linux-kernel</td>\n",
       "      <td>30918</td>\n",
       "    </tr>\n",
       "    <tr>\n",
       "      <th>49996</th>\n",
       "      <td>33378</td>\n",
       "      <td>https://github.com/oracle/dtrace-linux-kernel</td>\n",
       "      <td>30918</td>\n",
       "    </tr>\n",
       "    <tr>\n",
       "      <th>49997</th>\n",
       "      <td>33378</td>\n",
       "      <td>https://github.com/oracle/dtrace-linux-kernel</td>\n",
       "      <td>30918</td>\n",
       "    </tr>\n",
       "    <tr>\n",
       "      <th>49998</th>\n",
       "      <td>33378</td>\n",
       "      <td>https://github.com/oracle/dtrace-linux-kernel</td>\n",
       "      <td>30918</td>\n",
       "    </tr>\n",
       "    <tr>\n",
       "      <th>49999</th>\n",
       "      <td>33378</td>\n",
       "      <td>https://github.com/oracle/dtrace-linux-kernel</td>\n",
       "      <td>30918</td>\n",
       "    </tr>\n",
       "  </tbody>\n",
       "</table>\n",
       "<p>50000 rows × 3 columns</p>\n",
       "</div>"
      ],
      "text/plain": [
       "       Repo ID                                            Git  Commit Creators\n",
       "0        26835    https://github.com/linux-audit/audit-kernel            32680\n",
       "1        26835    https://github.com/linux-audit/audit-kernel            32680\n",
       "2        27938     https://github.com/coreos/linux-deprecated            32680\n",
       "3        27938     https://github.com/coreos/linux-deprecated            32680\n",
       "4        27938     https://github.com/coreos/linux-deprecated            32680\n",
       "...        ...                                            ...              ...\n",
       "49995    33378  https://github.com/oracle/dtrace-linux-kernel            30918\n",
       "49996    33378  https://github.com/oracle/dtrace-linux-kernel            30918\n",
       "49997    33378  https://github.com/oracle/dtrace-linux-kernel            30918\n",
       "49998    33378  https://github.com/oracle/dtrace-linux-kernel            30918\n",
       "49999    33378  https://github.com/oracle/dtrace-linux-kernel            30918\n",
       "\n",
       "[50000 rows x 3 columns]"
      ]
     },
     "metadata": {},
     "output_type": "display_data"
    },
    {
     "data": {
      "text/plain": [
       "Repo ID             int64\n",
       "Git                object\n",
       "Commit Creators     int64\n",
       "dtype: object"
      ]
     },
     "execution_count": 10,
     "metadata": {},
     "output_type": "execute_result"
    }
   ],
   "source": [
    "commit_contrib = pd.DataFrame()\n",
    "repo_query = salc.sql.text(f\"\"\"\n",
    "            SET SCHEMA 'augur_data';\n",
    "            SELECT r.repo_id,\n",
    "            r.repo_git,\n",
    "            ca.cntrb_id\n",
    "            FROM\n",
    "            repo r, commits c, contributors_aliases ca\n",
    "             WHERE\n",
    "            c.repo_id = r.repo_id and\n",
    "            c.cmt_committer_email = ca.alias_email\n",
    "            limit 50000\n",
    "    \"\"\")\n",
    "commit_contrib = pd.read_sql(repo_query, con=engine)\n",
    "commit_contrib.columns =['Repo ID', 'Git', 'Commit Creators']\n",
    "\n",
    "display(commit_contrib)\n",
    "commit_contrib.dtypes"
   ]
  },
  {
   "cell_type": "code",
   "execution_count": 11,
   "metadata": {},
   "outputs": [
    {
     "data": {
      "text/plain": [
       "Repo ID            83\n",
       "Git                83\n",
       "Commit Creators    42\n",
       "dtype: int64"
      ]
     },
     "execution_count": 11,
     "metadata": {},
     "output_type": "execute_result"
    }
   ],
   "source": [
    "commit_contrib.nunique()"
   ]
  },
  {
   "cell_type": "code",
   "execution_count": 85,
   "metadata": {},
   "outputs": [],
   "source": [
    "df_all_new = pd.DataFrame()"
   ]
  },
  {
   "cell_type": "code",
   "execution_count": 86,
   "metadata": {},
   "outputs": [],
   "source": [
    "df_all_new = pd.merge(commit_contrib, issue_contrib, on=['Repo ID','Git'], how='outer')"
   ]
  },
  {
   "cell_type": "code",
   "execution_count": 87,
   "metadata": {},
   "outputs": [
    {
     "data": {
      "text/plain": [
       "Repo ID            297\n",
       "Git                297\n",
       "Commit Creators     42\n",
       "Issue Authors      918\n",
       "dtype: int64"
      ]
     },
     "execution_count": 87,
     "metadata": {},
     "output_type": "execute_result"
    }
   ],
   "source": [
    "df_all_new.nunique()"
   ]
  },
  {
   "cell_type": "code",
   "execution_count": 88,
   "metadata": {},
   "outputs": [],
   "source": [
    "df_all_new = pd.merge(df_all_new, pr_contrib, on=['Repo ID', 'Git'], how='outer')"
   ]
  },
  {
   "cell_type": "code",
   "execution_count": 89,
   "metadata": {},
   "outputs": [
    {
     "data": {
      "text/plain": [
       "Repo ID             572\n",
       "Git                 572\n",
       "Commit Creators      42\n",
       "Issue Authors       918\n",
       "PR Creators        2054\n",
       "dtype: int64"
      ]
     },
     "execution_count": 89,
     "metadata": {},
     "output_type": "execute_result"
    }
   ],
   "source": [
    "df_all_new.nunique()"
   ]
  },
  {
   "cell_type": "code",
   "execution_count": 90,
   "metadata": {},
   "outputs": [],
   "source": [
    "df_all_new = pd.merge(df_all_new, prr_contrib, on=['Repo ID', 'Git'], how='outer')"
   ]
  },
  {
   "cell_type": "code",
   "execution_count": 91,
   "metadata": {},
   "outputs": [
    {
     "data": {
      "text/plain": [
       "Repo ID             572\n",
       "Git                 572\n",
       "Commit Creators      42\n",
       "Issue Authors       918\n",
       "PR Creators        2054\n",
       "PR Reviewers        961\n",
       "dtype: int64"
      ]
     },
     "execution_count": 91,
     "metadata": {},
     "output_type": "execute_result"
    }
   ],
   "source": [
    "df_all_new.nunique()"
   ]
  },
  {
   "cell_type": "code",
   "execution_count": 92,
   "metadata": {},
   "outputs": [
    {
     "data": {
      "text/html": [
       "<div>\n",
       "<style scoped>\n",
       "    .dataframe tbody tr th:only-of-type {\n",
       "        vertical-align: middle;\n",
       "    }\n",
       "\n",
       "    .dataframe tbody tr th {\n",
       "        vertical-align: top;\n",
       "    }\n",
       "\n",
       "    .dataframe thead th {\n",
       "        text-align: right;\n",
       "    }\n",
       "</style>\n",
       "<table border=\"1\" class=\"dataframe\">\n",
       "  <thead>\n",
       "    <tr style=\"text-align: right;\">\n",
       "      <th></th>\n",
       "      <th>Repo ID</th>\n",
       "      <th>Git</th>\n",
       "      <th>Commit Creators</th>\n",
       "      <th>Issue Authors</th>\n",
       "      <th>PR Creators</th>\n",
       "      <th>PR Reviewers</th>\n",
       "    </tr>\n",
       "  </thead>\n",
       "  <tbody>\n",
       "    <tr>\n",
       "      <th>0</th>\n",
       "      <td>26835</td>\n",
       "      <td>https://github.com/linux-audit/audit-kernel</td>\n",
       "      <td>32680.0</td>\n",
       "      <td>NaN</td>\n",
       "      <td>NaN</td>\n",
       "      <td>NaN</td>\n",
       "    </tr>\n",
       "    <tr>\n",
       "      <th>1</th>\n",
       "      <td>26835</td>\n",
       "      <td>https://github.com/linux-audit/audit-kernel</td>\n",
       "      <td>32680.0</td>\n",
       "      <td>NaN</td>\n",
       "      <td>NaN</td>\n",
       "      <td>NaN</td>\n",
       "    </tr>\n",
       "    <tr>\n",
       "      <th>2</th>\n",
       "      <td>26835</td>\n",
       "      <td>https://github.com/linux-audit/audit-kernel</td>\n",
       "      <td>30918.0</td>\n",
       "      <td>NaN</td>\n",
       "      <td>NaN</td>\n",
       "      <td>NaN</td>\n",
       "    </tr>\n",
       "    <tr>\n",
       "      <th>3</th>\n",
       "      <td>26835</td>\n",
       "      <td>https://github.com/linux-audit/audit-kernel</td>\n",
       "      <td>30918.0</td>\n",
       "      <td>NaN</td>\n",
       "      <td>NaN</td>\n",
       "      <td>NaN</td>\n",
       "    </tr>\n",
       "    <tr>\n",
       "      <th>4</th>\n",
       "      <td>26835</td>\n",
       "      <td>https://github.com/linux-audit/audit-kernel</td>\n",
       "      <td>30918.0</td>\n",
       "      <td>NaN</td>\n",
       "      <td>NaN</td>\n",
       "      <td>NaN</td>\n",
       "    </tr>\n",
       "  </tbody>\n",
       "</table>\n",
       "</div>"
      ],
      "text/plain": [
       "   Repo ID                                          Git  Commit Creators  \\\n",
       "0    26835  https://github.com/linux-audit/audit-kernel          32680.0   \n",
       "1    26835  https://github.com/linux-audit/audit-kernel          32680.0   \n",
       "2    26835  https://github.com/linux-audit/audit-kernel          30918.0   \n",
       "3    26835  https://github.com/linux-audit/audit-kernel          30918.0   \n",
       "4    26835  https://github.com/linux-audit/audit-kernel          30918.0   \n",
       "\n",
       "   Issue Authors  PR Creators  PR Reviewers  \n",
       "0            NaN          NaN           NaN  \n",
       "1            NaN          NaN           NaN  \n",
       "2            NaN          NaN           NaN  \n",
       "3            NaN          NaN           NaN  \n",
       "4            NaN          NaN           NaN  "
      ]
     },
     "execution_count": 92,
     "metadata": {},
     "output_type": "execute_result"
    }
   ],
   "source": [
    "df_all_new.head()"
   ]
  },
  {
   "cell_type": "code",
   "execution_count": 93,
   "metadata": {},
   "outputs": [],
   "source": [
    "df_all_new = df_all_new[0:10000]"
   ]
  },
  {
   "cell_type": "code",
   "execution_count": 94,
   "metadata": {},
   "outputs": [],
   "source": [
    "df = df_all_new.groupby(['Repo ID', 'Commit Creators']).size().unstack(fill_value=0)"
   ]
  },
  {
   "cell_type": "code",
   "execution_count": 95,
   "metadata": {},
   "outputs": [
    {
     "data": {
      "text/html": [
       "<div>\n",
       "<style scoped>\n",
       "    .dataframe tbody tr th:only-of-type {\n",
       "        vertical-align: middle;\n",
       "    }\n",
       "\n",
       "    .dataframe tbody tr th {\n",
       "        vertical-align: top;\n",
       "    }\n",
       "\n",
       "    .dataframe thead th {\n",
       "        text-align: right;\n",
       "    }\n",
       "</style>\n",
       "<table border=\"1\" class=\"dataframe\">\n",
       "  <thead>\n",
       "    <tr style=\"text-align: right;\">\n",
       "      <th>Commit Creators</th>\n",
       "      <th>29297.0</th>\n",
       "      <th>30918.0</th>\n",
       "      <th>32680.0</th>\n",
       "    </tr>\n",
       "    <tr>\n",
       "      <th>Repo ID</th>\n",
       "      <th></th>\n",
       "      <th></th>\n",
       "      <th></th>\n",
       "    </tr>\n",
       "  </thead>\n",
       "  <tbody>\n",
       "    <tr>\n",
       "      <th>26835</th>\n",
       "      <td>20</td>\n",
       "      <td>3928</td>\n",
       "      <td>4646</td>\n",
       "    </tr>\n",
       "    <tr>\n",
       "      <th>27938</th>\n",
       "      <td>0</td>\n",
       "      <td>663</td>\n",
       "      <td>743</td>\n",
       "    </tr>\n",
       "  </tbody>\n",
       "</table>\n",
       "</div>"
      ],
      "text/plain": [
       "Commit Creators  29297.0  30918.0  32680.0\n",
       "Repo ID                                   \n",
       "26835                 20     3928     4646\n",
       "27938                  0      663      743"
      ]
     },
     "execution_count": 95,
     "metadata": {},
     "output_type": "execute_result"
    }
   ],
   "source": [
    "df.head()"
   ]
  },
  {
   "cell_type": "code",
   "execution_count": 96,
   "metadata": {},
   "outputs": [
    {
     "data": {
      "text/plain": [
       "Float64Index([29297.0, 30918.0, 32680.0], dtype='float64', name='Commit Creators')"
      ]
     },
     "execution_count": 96,
     "metadata": {},
     "output_type": "execute_result"
    }
   ],
   "source": [
    "df.columns"
   ]
  },
  {
   "cell_type": "code",
   "execution_count": 97,
   "metadata": {},
   "outputs": [],
   "source": [
    "df = df.reset_index()"
   ]
  },
  {
   "cell_type": "code",
   "execution_count": 98,
   "metadata": {},
   "outputs": [
    {
     "data": {
      "text/html": [
       "<div>\n",
       "<style scoped>\n",
       "    .dataframe tbody tr th:only-of-type {\n",
       "        vertical-align: middle;\n",
       "    }\n",
       "\n",
       "    .dataframe tbody tr th {\n",
       "        vertical-align: top;\n",
       "    }\n",
       "\n",
       "    .dataframe thead th {\n",
       "        text-align: right;\n",
       "    }\n",
       "</style>\n",
       "<table border=\"1\" class=\"dataframe\">\n",
       "  <thead>\n",
       "    <tr style=\"text-align: right;\">\n",
       "      <th>Commit Creators</th>\n",
       "      <th>Repo ID</th>\n",
       "      <th>29297.0</th>\n",
       "      <th>30918.0</th>\n",
       "      <th>32680.0</th>\n",
       "    </tr>\n",
       "  </thead>\n",
       "  <tbody>\n",
       "    <tr>\n",
       "      <th>0</th>\n",
       "      <td>26835</td>\n",
       "      <td>20</td>\n",
       "      <td>3928</td>\n",
       "      <td>4646</td>\n",
       "    </tr>\n",
       "    <tr>\n",
       "      <th>1</th>\n",
       "      <td>27938</td>\n",
       "      <td>0</td>\n",
       "      <td>663</td>\n",
       "      <td>743</td>\n",
       "    </tr>\n",
       "  </tbody>\n",
       "</table>\n",
       "</div>"
      ],
      "text/plain": [
       "Commit Creators  Repo ID  29297.0  30918.0  32680.0\n",
       "0                  26835       20     3928     4646\n",
       "1                  27938        0      663      743"
      ]
     },
     "execution_count": 98,
     "metadata": {},
     "output_type": "execute_result"
    }
   ],
   "source": [
    "df.head()"
   ]
  },
  {
   "cell_type": "code",
   "execution_count": 113,
   "metadata": {},
   "outputs": [],
   "source": [
    "df_melted = df.melt(\n",
    "    ['Repo ID'],\n",
    "    var_name = 'Contributor',value_name='number')"
   ]
  },
  {
   "cell_type": "code",
   "execution_count": 114,
   "metadata": {},
   "outputs": [
    {
     "data": {
      "text/html": [
       "<div>\n",
       "<style scoped>\n",
       "    .dataframe tbody tr th:only-of-type {\n",
       "        vertical-align: middle;\n",
       "    }\n",
       "\n",
       "    .dataframe tbody tr th {\n",
       "        vertical-align: top;\n",
       "    }\n",
       "\n",
       "    .dataframe thead th {\n",
       "        text-align: right;\n",
       "    }\n",
       "</style>\n",
       "<table border=\"1\" class=\"dataframe\">\n",
       "  <thead>\n",
       "    <tr style=\"text-align: right;\">\n",
       "      <th></th>\n",
       "      <th>Repo ID</th>\n",
       "      <th>Contributor</th>\n",
       "      <th>number</th>\n",
       "    </tr>\n",
       "  </thead>\n",
       "  <tbody>\n",
       "    <tr>\n",
       "      <th>0</th>\n",
       "      <td>26835</td>\n",
       "      <td>29297.0</td>\n",
       "      <td>20</td>\n",
       "    </tr>\n",
       "    <tr>\n",
       "      <th>1</th>\n",
       "      <td>27938</td>\n",
       "      <td>29297.0</td>\n",
       "      <td>0</td>\n",
       "    </tr>\n",
       "    <tr>\n",
       "      <th>2</th>\n",
       "      <td>26835</td>\n",
       "      <td>30918.0</td>\n",
       "      <td>3928</td>\n",
       "    </tr>\n",
       "    <tr>\n",
       "      <th>3</th>\n",
       "      <td>27938</td>\n",
       "      <td>30918.0</td>\n",
       "      <td>663</td>\n",
       "    </tr>\n",
       "    <tr>\n",
       "      <th>4</th>\n",
       "      <td>26835</td>\n",
       "      <td>32680.0</td>\n",
       "      <td>4646</td>\n",
       "    </tr>\n",
       "    <tr>\n",
       "      <th>5</th>\n",
       "      <td>27938</td>\n",
       "      <td>32680.0</td>\n",
       "      <td>743</td>\n",
       "    </tr>\n",
       "  </tbody>\n",
       "</table>\n",
       "</div>"
      ],
      "text/plain": [
       "   Repo ID Contributor  number\n",
       "0    26835     29297.0      20\n",
       "1    27938     29297.0       0\n",
       "2    26835     30918.0    3928\n",
       "3    27938     30918.0     663\n",
       "4    26835     32680.0    4646\n",
       "5    27938     32680.0     743"
      ]
     },
     "execution_count": 114,
     "metadata": {},
     "output_type": "execute_result"
    }
   ],
   "source": [
    "df_melted"
   ]
  },
  {
   "cell_type": "code",
   "execution_count": 115,
   "metadata": {},
   "outputs": [
    {
     "data": {
      "text/plain": [
       "[26835, 27938, 26835, 27938, 26835, 27938]"
      ]
     },
     "execution_count": 115,
     "metadata": {},
     "output_type": "execute_result"
    }
   ],
   "source": [
    "Repo_id = df_melted['Repo ID'].to_list()\n",
    "Repo_id"
   ]
  },
  {
   "cell_type": "code",
   "execution_count": 116,
   "metadata": {},
   "outputs": [
    {
     "data": {
      "text/plain": [
       "[29297.0, 29297.0, 30918.0, 30918.0, 32680.0, 32680.0]"
      ]
     },
     "execution_count": 116,
     "metadata": {},
     "output_type": "execute_result"
    }
   ],
   "source": [
    "contributor_id = df_melted['Contributor'].to_list()\n",
    "contributor_id"
   ]
  },
  {
   "cell_type": "code",
   "execution_count": 121,
   "metadata": {},
   "outputs": [],
   "source": [
    "G = nx.from_pandas_edgelist(df_melted, \n",
    "                            source='Repo ID',\n",
    "                            target='Contributor',\n",
    "                            edge_attr='number',\n",
    "                            create_using=nx.MultiGraph())"
   ]
  },
  {
   "cell_type": "code",
   "execution_count": 126,
   "metadata": {},
   "outputs": [
    {
     "data": {
      "text/plain": [
       "NodeView((26835, 29297.0, 27938, 30918.0, 32680.0))"
      ]
     },
     "execution_count": 126,
     "metadata": {},
     "output_type": "execute_result"
    }
   ],
   "source": [
    "nodes = G.nodes()\n",
    "nodes"
   ]
  },
  {
   "cell_type": "code",
   "execution_count": 133,
   "metadata": {},
   "outputs": [
    {
     "data": {
      "text/plain": [
       "[26835, 29297.0, 27938, 30918.0, 32680.0]"
      ]
     },
     "execution_count": 133,
     "metadata": {},
     "output_type": "execute_result"
    }
   ],
   "source": [
    "nodes = list(nodes)\n",
    "nodes"
   ]
  },
  {
   "cell_type": "code",
   "execution_count": 135,
   "metadata": {},
   "outputs": [
    {
     "data": {
      "text/plain": [
       "['blue', 'yellow', 'blue', 'yellow', 'yellow']"
      ]
     },
     "execution_count": 135,
     "metadata": {},
     "output_type": "execute_result"
    }
   ],
   "source": [
    "colors = ['blue' if n in Repo_id else 'yellow' for n in nodes]\n",
    "colors"
   ]
  },
  {
   "cell_type": "code",
   "execution_count": 136,
   "metadata": {},
   "outputs": [
    {
     "data": {
      "image/png": "[encoded data removed]",
      "text/plain": [
       "<Figure size 432x288 with 1 Axes>"
      ]
     },
     "metadata": {},
     "output_type": "display_data"
    }
   ],
   "source": [
    "nx.draw_networkx(G, node_color=colors)"
   ]
  },
  {
   "cell_type": "code",
   "execution_count": 137,
   "metadata": {},
   "outputs": [
    {
     "name": "stdout",
     "output_type": "stream",
     "text": [
      "Name: \n",
      "Type: MultiGraph\n",
      "Number of nodes: 5\n",
      "Number of edges: 6\n",
      "Average degree:   2.4000\n"
     ]
    }
   ],
   "source": [
    "print(nx.info(G))"
   ]
  }
 ],
 "metadata": {
  "kernelspec": {
   "display_name": "Python 3",
   "language": "python",
   "name": "python3"
  },
  "language_info": {
   "codemirror_mode": {
    "name": "ipython",
    "version": 3
   },
   "file_extension": ".py",
   "mimetype": "text/x-python",
   "name": "python",
   "nbconvert_exporter": "python",
   "pygments_lexer": "ipython3",
   "version": "3.8.6"
  }
 },
 "nbformat": 4,
 "nbformat_minor": 4
}
