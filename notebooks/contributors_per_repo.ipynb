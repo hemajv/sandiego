{
 "cells": [
  {
   "cell_type": "markdown",
   "metadata": {},
   "source": [
    "# GitHub Ecosystem Mapping\n",
    "\n",
    "In this notebook we will explore the Augur GitHub data to generate an ecosystem mapping of open source projects and communities by studying graphs based on relations such as common contributors and project activities between different GitHub repositories."
   ]
  },
  {
   "cell_type": "markdown",
   "metadata": {},
   "source": [
    "## Connect to Augur database"
   ]
  },
  {
   "cell_type": "markdown",
   "metadata": {},
   "source": [
    "Until the Operate First enviroment can connect to the DB, use config file to access. Do not push config file to Github repo"
   ]
  },
  {
   "cell_type": "code",
   "execution_count": 1,
   "metadata": {},
   "outputs": [],
   "source": [
    "import psycopg2\n",
    "import pandas as pd \n",
    "import sqlalchemy as salc\n",
    "import json\n",
    "import os\n",
    "import networkx as nx\n",
    "import matplotlib.pyplot as plt\n",
    "\n",
    "with open(\"../comm_cage.json\") as config_file:\n",
    "    config = json.load(config_file)"
   ]
  },
  {
   "cell_type": "code",
   "execution_count": 2,
   "metadata": {},
   "outputs": [],
   "source": [
    "database_connection_string = 'postgresql+psycopg2://{}:{}@{}:{}/{}'.format(config['user'], config['password'], config['host'], config['port'], config['database'])\n",
    "\n",
    "dbschema='augur_data'\n",
    "engine = salc.create_engine(\n",
    "    database_connection_string,\n",
    "    connect_args={'options': '-csearch_path={}'.format(dbschema)})"
   ]
  },
  {
   "cell_type": "markdown",
   "metadata": {},
   "source": [
    "## Retrieve Available Respositories"
   ]
  },
  {
   "cell_type": "code",
   "execution_count": 3,
   "metadata": {},
   "outputs": [
    {
     "data": {
      "text/html": [
       "<div>\n",
       "<style scoped>\n",
       "    .dataframe tbody tr th:only-of-type {\n",
       "        vertical-align: middle;\n",
       "    }\n",
       "\n",
       "    .dataframe tbody tr th {\n",
       "        vertical-align: top;\n",
       "    }\n",
       "\n",
       "    .dataframe thead th {\n",
       "        text-align: right;\n",
       "    }\n",
       "</style>\n",
       "<table border=\"1\" class=\"dataframe\">\n",
       "  <thead>\n",
       "    <tr style=\"text-align: right;\">\n",
       "      <th></th>\n",
       "      <th>rg_name</th>\n",
       "      <th>repo_group_id</th>\n",
       "      <th>repo_name</th>\n",
       "      <th>repo_id</th>\n",
       "      <th>forked_from</th>\n",
       "      <th>repo_archived</th>\n",
       "      <th>repo_git</th>\n",
       "    </tr>\n",
       "  </thead>\n",
       "  <tbody>\n",
       "    <tr>\n",
       "      <th>0</th>\n",
       "      <td>3scale</td>\n",
       "      <td>25556</td>\n",
       "      <td>3scale</td>\n",
       "      <td>33134</td>\n",
       "      <td>Parent not available</td>\n",
       "      <td>0.0</td>\n",
       "      <td>https://github.com/3scale/3scale.github.io</td>\n",
       "    </tr>\n",
       "    <tr>\n",
       "      <th>1</th>\n",
       "      <td>3scale</td>\n",
       "      <td>25556</td>\n",
       "      <td>3scale-amp-openshift-templates</td>\n",
       "      <td>33126</td>\n",
       "      <td>Parent not available</td>\n",
       "      <td>0.0</td>\n",
       "      <td>https://github.com/3scale/3scale-amp-openshift...</td>\n",
       "    </tr>\n",
       "    <tr>\n",
       "      <th>2</th>\n",
       "      <td>3scale</td>\n",
       "      <td>25556</td>\n",
       "      <td>3scale-api-python</td>\n",
       "      <td>33130</td>\n",
       "      <td>3scale-qe/3scale-api-python</td>\n",
       "      <td>0.0</td>\n",
       "      <td>https://github.com/3scale/3scale-api-python</td>\n",
       "    </tr>\n",
       "    <tr>\n",
       "      <th>3</th>\n",
       "      <td>3scale</td>\n",
       "      <td>25556</td>\n",
       "      <td>3scale-api-ruby</td>\n",
       "      <td>33158</td>\n",
       "      <td>Parent not available</td>\n",
       "      <td>0.0</td>\n",
       "      <td>https://github.com/3scale/3scale-api-ruby</td>\n",
       "    </tr>\n",
       "    <tr>\n",
       "      <th>4</th>\n",
       "      <td>3scale</td>\n",
       "      <td>25556</td>\n",
       "      <td>3scale-go-client</td>\n",
       "      <td>33169</td>\n",
       "      <td>Parent not available</td>\n",
       "      <td>0.0</td>\n",
       "      <td>https://github.com/3scale/3scale-go-client</td>\n",
       "    </tr>\n",
       "    <tr>\n",
       "      <th>...</th>\n",
       "      <td>...</td>\n",
       "      <td>...</td>\n",
       "      <td>...</td>\n",
       "      <td>...</td>\n",
       "      <td>...</td>\n",
       "      <td>...</td>\n",
       "      <td>...</td>\n",
       "    </tr>\n",
       "    <tr>\n",
       "      <th>10956</th>\n",
       "      <td>zerodayz</td>\n",
       "      <td>25482</td>\n",
       "      <td>sosreport-operator</td>\n",
       "      <td>30872</td>\n",
       "      <td>andreaskaris/sosreport-operator</td>\n",
       "      <td>0.0</td>\n",
       "      <td>https://github.com/zerodayz/sosreport-operator</td>\n",
       "    </tr>\n",
       "    <tr>\n",
       "      <th>10957</th>\n",
       "      <td>zerodayz</td>\n",
       "      <td>25482</td>\n",
       "      <td>talos</td>\n",
       "      <td>30863</td>\n",
       "      <td>siderolabs/talos</td>\n",
       "      <td>0.0</td>\n",
       "      <td>https://github.com/zerodayz/talos</td>\n",
       "    </tr>\n",
       "    <tr>\n",
       "      <th>10958</th>\n",
       "      <td>zerodayz</td>\n",
       "      <td>25482</td>\n",
       "      <td>tests</td>\n",
       "      <td>30838</td>\n",
       "      <td>kata-containers/tests</td>\n",
       "      <td>0.0</td>\n",
       "      <td>https://github.com/zerodayz/tests</td>\n",
       "    </tr>\n",
       "    <tr>\n",
       "      <th>10959</th>\n",
       "      <td>zerodayz</td>\n",
       "      <td>25482</td>\n",
       "      <td>web</td>\n",
       "      <td>30839</td>\n",
       "      <td>openshifttips/web</td>\n",
       "      <td>0.0</td>\n",
       "      <td>https://github.com/zerodayz/web</td>\n",
       "    </tr>\n",
       "    <tr>\n",
       "      <th>10960</th>\n",
       "      <td>zerodayz</td>\n",
       "      <td>25482</td>\n",
       "      <td>zerodayz</td>\n",
       "      <td>30816</td>\n",
       "      <td>Parent not available</td>\n",
       "      <td>0.0</td>\n",
       "      <td>https://github.com/zerodayz/zerodayz.gitlab.io</td>\n",
       "    </tr>\n",
       "  </tbody>\n",
       "</table>\n",
       "<p>10961 rows × 7 columns</p>\n",
       "</div>"
      ],
      "text/plain": [
       "        rg_name  repo_group_id                       repo_name  repo_id  \\\n",
       "0        3scale          25556                          3scale    33134   \n",
       "1        3scale          25556  3scale-amp-openshift-templates    33126   \n",
       "2        3scale          25556               3scale-api-python    33130   \n",
       "3        3scale          25556                 3scale-api-ruby    33158   \n",
       "4        3scale          25556                3scale-go-client    33169   \n",
       "...         ...            ...                             ...      ...   \n",
       "10956  zerodayz          25482              sosreport-operator    30872   \n",
       "10957  zerodayz          25482                           talos    30863   \n",
       "10958  zerodayz          25482                           tests    30838   \n",
       "10959  zerodayz          25482                             web    30839   \n",
       "10960  zerodayz          25482                        zerodayz    30816   \n",
       "\n",
       "                           forked_from  repo_archived  \\\n",
       "0                 Parent not available            0.0   \n",
       "1                 Parent not available            0.0   \n",
       "2          3scale-qe/3scale-api-python            0.0   \n",
       "3                 Parent not available            0.0   \n",
       "4                 Parent not available            0.0   \n",
       "...                                ...            ...   \n",
       "10956  andreaskaris/sosreport-operator            0.0   \n",
       "10957                 siderolabs/talos            0.0   \n",
       "10958            kata-containers/tests            0.0   \n",
       "10959                openshifttips/web            0.0   \n",
       "10960             Parent not available            0.0   \n",
       "\n",
       "                                                repo_git  \n",
       "0             https://github.com/3scale/3scale.github.io  \n",
       "1      https://github.com/3scale/3scale-amp-openshift...  \n",
       "2            https://github.com/3scale/3scale-api-python  \n",
       "3              https://github.com/3scale/3scale-api-ruby  \n",
       "4             https://github.com/3scale/3scale-go-client  \n",
       "...                                                  ...  \n",
       "10956     https://github.com/zerodayz/sosreport-operator  \n",
       "10957                  https://github.com/zerodayz/talos  \n",
       "10958                  https://github.com/zerodayz/tests  \n",
       "10959                    https://github.com/zerodayz/web  \n",
       "10960     https://github.com/zerodayz/zerodayz.gitlab.io  \n",
       "\n",
       "[10961 rows x 7 columns]"
      ]
     },
     "metadata": {},
     "output_type": "display_data"
    },
    {
     "data": {
      "text/plain": [
       "rg_name           object\n",
       "repo_group_id      int64\n",
       "repo_name         object\n",
       "repo_id            int64\n",
       "forked_from       object\n",
       "repo_archived    float64\n",
       "repo_git          object\n",
       "dtype: object"
      ]
     },
     "execution_count": 3,
     "metadata": {},
     "output_type": "execute_result"
    }
   ],
   "source": [
    "aval_repos = pd.DataFrame()\n",
    "repo_query = salc.sql.text(f\"\"\"\n",
    "             SET SCHEMA 'augur_data';\n",
    "             SELECT a.rg_name,\n",
    "                a.repo_group_id,\n",
    "                b.repo_name,\n",
    "                b.repo_id,\n",
    "                b.forked_from,\n",
    "                b.repo_archived,\n",
    "                b.repo_git\n",
    "            FROM\n",
    "                repo_groups a,\n",
    "                repo b\n",
    "            WHERE\n",
    "                a.repo_group_id = b.repo_group_id\n",
    "            ORDER BY\n",
    "                rg_name,\n",
    "                repo_name;\n",
    "    \"\"\")\n",
    "aval_repos = pd.read_sql(repo_query, con=engine)\n",
    "display(aval_repos)\n",
    "aval_repos.dtypes"
   ]
  },
  {
   "cell_type": "markdown",
   "metadata": {},
   "source": [
    "## Retrieve Issue Contributors\n",
    "\n",
    "We will now fetch all Issue contributors for various repositories."
   ]
  },
  {
   "cell_type": "code",
   "execution_count": 4,
   "metadata": {},
   "outputs": [
    {
     "data": {
      "text/html": [
       "<div>\n",
       "<style scoped>\n",
       "    .dataframe tbody tr th:only-of-type {\n",
       "        vertical-align: middle;\n",
       "    }\n",
       "\n",
       "    .dataframe tbody tr th {\n",
       "        vertical-align: top;\n",
       "    }\n",
       "\n",
       "    .dataframe thead th {\n",
       "        text-align: right;\n",
       "    }\n",
       "</style>\n",
       "<table border=\"1\" class=\"dataframe\">\n",
       "  <thead>\n",
       "    <tr style=\"text-align: right;\">\n",
       "      <th></th>\n",
       "      <th>Repo ID</th>\n",
       "      <th>Git</th>\n",
       "      <th>Issue Authors</th>\n",
       "      <th>Issue ID</th>\n",
       "    </tr>\n",
       "  </thead>\n",
       "  <tbody>\n",
       "    <tr>\n",
       "      <th>0</th>\n",
       "      <td>24441</td>\n",
       "      <td>https://github.com/operate-first/operate-first...</td>\n",
       "      <td>25438.0</td>\n",
       "      <td>31034</td>\n",
       "    </tr>\n",
       "    <tr>\n",
       "      <th>1</th>\n",
       "      <td>24441</td>\n",
       "      <td>https://github.com/operate-first/operate-first...</td>\n",
       "      <td>25438.0</td>\n",
       "      <td>31033</td>\n",
       "    </tr>\n",
       "    <tr>\n",
       "      <th>2</th>\n",
       "      <td>24441</td>\n",
       "      <td>https://github.com/operate-first/operate-first...</td>\n",
       "      <td>25438.0</td>\n",
       "      <td>31036</td>\n",
       "    </tr>\n",
       "    <tr>\n",
       "      <th>3</th>\n",
       "      <td>24441</td>\n",
       "      <td>https://github.com/operate-first/operate-first...</td>\n",
       "      <td>25438.0</td>\n",
       "      <td>31035</td>\n",
       "    </tr>\n",
       "    <tr>\n",
       "      <th>4</th>\n",
       "      <td>24441</td>\n",
       "      <td>https://github.com/operate-first/operate-first...</td>\n",
       "      <td>25449.0</td>\n",
       "      <td>31029</td>\n",
       "    </tr>\n",
       "    <tr>\n",
       "      <th>...</th>\n",
       "      <td>...</td>\n",
       "      <td>...</td>\n",
       "      <td>...</td>\n",
       "      <td>...</td>\n",
       "    </tr>\n",
       "    <tr>\n",
       "      <th>49995</th>\n",
       "      <td>25795</td>\n",
       "      <td>https://github.com/eclipse/reddeer</td>\n",
       "      <td>NaN</td>\n",
       "      <td>262688</td>\n",
       "    </tr>\n",
       "    <tr>\n",
       "      <th>49996</th>\n",
       "      <td>25729</td>\n",
       "      <td>https://github.com/eclipse/omr</td>\n",
       "      <td>NaN</td>\n",
       "      <td>203837</td>\n",
       "    </tr>\n",
       "    <tr>\n",
       "      <th>49997</th>\n",
       "      <td>25729</td>\n",
       "      <td>https://github.com/eclipse/omr</td>\n",
       "      <td>NaN</td>\n",
       "      <td>203838</td>\n",
       "    </tr>\n",
       "    <tr>\n",
       "      <th>49998</th>\n",
       "      <td>25795</td>\n",
       "      <td>https://github.com/eclipse/reddeer</td>\n",
       "      <td>NaN</td>\n",
       "      <td>262689</td>\n",
       "    </tr>\n",
       "    <tr>\n",
       "      <th>49999</th>\n",
       "      <td>25729</td>\n",
       "      <td>https://github.com/eclipse/omr</td>\n",
       "      <td>NaN</td>\n",
       "      <td>203839</td>\n",
       "    </tr>\n",
       "  </tbody>\n",
       "</table>\n",
       "<p>50000 rows × 4 columns</p>\n",
       "</div>"
      ],
      "text/plain": [
       "       Repo ID                                                Git  \\\n",
       "0        24441  https://github.com/operate-first/operate-first...   \n",
       "1        24441  https://github.com/operate-first/operate-first...   \n",
       "2        24441  https://github.com/operate-first/operate-first...   \n",
       "3        24441  https://github.com/operate-first/operate-first...   \n",
       "4        24441  https://github.com/operate-first/operate-first...   \n",
       "...        ...                                                ...   \n",
       "49995    25795                 https://github.com/eclipse/reddeer   \n",
       "49996    25729                     https://github.com/eclipse/omr   \n",
       "49997    25729                     https://github.com/eclipse/omr   \n",
       "49998    25795                 https://github.com/eclipse/reddeer   \n",
       "49999    25729                     https://github.com/eclipse/omr   \n",
       "\n",
       "       Issue Authors  Issue ID  \n",
       "0            25438.0     31034  \n",
       "1            25438.0     31033  \n",
       "2            25438.0     31036  \n",
       "3            25438.0     31035  \n",
       "4            25449.0     31029  \n",
       "...              ...       ...  \n",
       "49995            NaN    262688  \n",
       "49996            NaN    203837  \n",
       "49997            NaN    203838  \n",
       "49998            NaN    262689  \n",
       "49999            NaN    203839  \n",
       "\n",
       "[50000 rows x 4 columns]"
      ]
     },
     "metadata": {},
     "output_type": "display_data"
    },
    {
     "data": {
      "text/plain": [
       "Repo ID            int64\n",
       "Git               object\n",
       "Issue Authors    float64\n",
       "Issue ID           int64\n",
       "dtype: object"
      ]
     },
     "execution_count": 4,
     "metadata": {},
     "output_type": "execute_result"
    }
   ],
   "source": [
    "issue_contrib = pd.DataFrame()\n",
    "repo_query = salc.sql.text(f\"\"\"\n",
    "            SET SCHEMA 'augur_data';\n",
    "            SELECT r.repo_id,\n",
    "            r.repo_git,\n",
    "            i.cntrb_id,\n",
    "            i.issue_id\n",
    "            FROM\n",
    "            repo r, issues i\n",
    "             WHERE\n",
    "            i.repo_id = r.repo_id\n",
    "            limit 50000\n",
    "    \"\"\")\n",
    "issue_contrib = pd.read_sql(repo_query, con=engine)\n",
    "issue_contrib.columns =['Repo ID', 'Git', 'Issue Authors', 'Issue ID']\n",
    "\n",
    "display(issue_contrib)\n",
    "issue_contrib.dtypes"
   ]
  },
  {
   "cell_type": "code",
   "execution_count": 5,
   "metadata": {},
   "outputs": [
    {
     "data": {
      "text/plain": [
       "Repo ID            216\n",
       "Git                216\n",
       "Issue Authors      846\n",
       "Issue ID         50000\n",
       "dtype: int64"
      ]
     },
     "execution_count": 5,
     "metadata": {},
     "output_type": "execute_result"
    }
   ],
   "source": [
    "issue_contrib.nunique()"
   ]
  },
  {
   "cell_type": "markdown",
   "metadata": {},
   "source": [
    "## Retrieve PR Contributors\n",
    "\n",
    "We will now fetch all the PR contributors for various repositories."
   ]
  },
  {
   "cell_type": "code",
   "execution_count": 6,
   "metadata": {},
   "outputs": [
    {
     "data": {
      "text/html": [
       "<div>\n",
       "<style scoped>\n",
       "    .dataframe tbody tr th:only-of-type {\n",
       "        vertical-align: middle;\n",
       "    }\n",
       "\n",
       "    .dataframe tbody tr th {\n",
       "        vertical-align: top;\n",
       "    }\n",
       "\n",
       "    .dataframe thead th {\n",
       "        text-align: right;\n",
       "    }\n",
       "</style>\n",
       "<table border=\"1\" class=\"dataframe\">\n",
       "  <thead>\n",
       "    <tr style=\"text-align: right;\">\n",
       "      <th></th>\n",
       "      <th>Repo ID</th>\n",
       "      <th>Git</th>\n",
       "      <th>PR Creators</th>\n",
       "      <th>PR ID</th>\n",
       "    </tr>\n",
       "  </thead>\n",
       "  <tbody>\n",
       "    <tr>\n",
       "      <th>0</th>\n",
       "      <td>27458</td>\n",
       "      <td>https://github.com/operate-first/continuous-de...</td>\n",
       "      <td>25443</td>\n",
       "      <td>25430</td>\n",
       "    </tr>\n",
       "    <tr>\n",
       "      <th>1</th>\n",
       "      <td>27458</td>\n",
       "      <td>https://github.com/operate-first/continuous-de...</td>\n",
       "      <td>25465</td>\n",
       "      <td>25430</td>\n",
       "    </tr>\n",
       "    <tr>\n",
       "      <th>2</th>\n",
       "      <td>27458</td>\n",
       "      <td>https://github.com/operate-first/continuous-de...</td>\n",
       "      <td>25444</td>\n",
       "      <td>25431</td>\n",
       "    </tr>\n",
       "    <tr>\n",
       "      <th>3</th>\n",
       "      <td>27458</td>\n",
       "      <td>https://github.com/operate-first/continuous-de...</td>\n",
       "      <td>25465</td>\n",
       "      <td>25431</td>\n",
       "    </tr>\n",
       "    <tr>\n",
       "      <th>4</th>\n",
       "      <td>27458</td>\n",
       "      <td>https://github.com/operate-first/continuous-de...</td>\n",
       "      <td>25433</td>\n",
       "      <td>25432</td>\n",
       "    </tr>\n",
       "    <tr>\n",
       "      <th>...</th>\n",
       "      <td>...</td>\n",
       "      <td>...</td>\n",
       "      <td>...</td>\n",
       "      <td>...</td>\n",
       "    </tr>\n",
       "    <tr>\n",
       "      <th>49995</th>\n",
       "      <td>28335</td>\n",
       "      <td>https://github.com/ansible/ansible-modules-core</td>\n",
       "      <td>91339</td>\n",
       "      <td>67016</td>\n",
       "    </tr>\n",
       "    <tr>\n",
       "      <th>49996</th>\n",
       "      <td>28335</td>\n",
       "      <td>https://github.com/ansible/ansible-modules-core</td>\n",
       "      <td>58062</td>\n",
       "      <td>67016</td>\n",
       "    </tr>\n",
       "    <tr>\n",
       "      <th>49997</th>\n",
       "      <td>32524</td>\n",
       "      <td>https://github.com/openshift/test-pull-requests</td>\n",
       "      <td>2204263</td>\n",
       "      <td>72431</td>\n",
       "    </tr>\n",
       "    <tr>\n",
       "      <th>49998</th>\n",
       "      <td>32524</td>\n",
       "      <td>https://github.com/openshift/test-pull-requests</td>\n",
       "      <td>2204295</td>\n",
       "      <td>72431</td>\n",
       "    </tr>\n",
       "    <tr>\n",
       "      <th>49999</th>\n",
       "      <td>35092</td>\n",
       "      <td>https://github.com/debezium/postgres-decoderbufs</td>\n",
       "      <td>2204275</td>\n",
       "      <td>72491</td>\n",
       "    </tr>\n",
       "  </tbody>\n",
       "</table>\n",
       "<p>50000 rows × 4 columns</p>\n",
       "</div>"
      ],
      "text/plain": [
       "       Repo ID                                                Git  \\\n",
       "0        27458  https://github.com/operate-first/continuous-de...   \n",
       "1        27458  https://github.com/operate-first/continuous-de...   \n",
       "2        27458  https://github.com/operate-first/continuous-de...   \n",
       "3        27458  https://github.com/operate-first/continuous-de...   \n",
       "4        27458  https://github.com/operate-first/continuous-de...   \n",
       "...        ...                                                ...   \n",
       "49995    28335    https://github.com/ansible/ansible-modules-core   \n",
       "49996    28335    https://github.com/ansible/ansible-modules-core   \n",
       "49997    32524    https://github.com/openshift/test-pull-requests   \n",
       "49998    32524    https://github.com/openshift/test-pull-requests   \n",
       "49999    35092   https://github.com/debezium/postgres-decoderbufs   \n",
       "\n",
       "       PR Creators  PR ID  \n",
       "0            25443  25430  \n",
       "1            25465  25430  \n",
       "2            25444  25431  \n",
       "3            25465  25431  \n",
       "4            25433  25432  \n",
       "...            ...    ...  \n",
       "49995        91339  67016  \n",
       "49996        58062  67016  \n",
       "49997      2204263  72431  \n",
       "49998      2204295  72431  \n",
       "49999      2204275  72491  \n",
       "\n",
       "[50000 rows x 4 columns]"
      ]
     },
     "metadata": {},
     "output_type": "display_data"
    },
    {
     "data": {
      "text/plain": [
       "Repo ID         int64\n",
       "Git            object\n",
       "PR Creators     int64\n",
       "PR ID           int64\n",
       "dtype: object"
      ]
     },
     "execution_count": 6,
     "metadata": {},
     "output_type": "execute_result"
    }
   ],
   "source": [
    "pr_contrib = pd.DataFrame()\n",
    "repo_query = salc.sql.text(f\"\"\"\n",
    "            SET SCHEMA 'augur_data';\n",
    "            SELECT r.repo_id,\n",
    "            r.repo_git,\n",
    "            prm.cntrb_id,\n",
    "            prm.pull_request_id\n",
    "            FROM\n",
    "            repo r, pull_request_meta prm \n",
    "             WHERE\n",
    "            prm.repo_id = r.repo_id\n",
    "            limit 50000\n",
    "    \"\"\")\n",
    "pr_contrib = pd.read_sql(repo_query, con=engine)\n",
    "pr_contrib.columns =['Repo ID', 'Git', 'PR Creators', 'PR ID']\n",
    "\n",
    "display(pr_contrib)\n",
    "pr_contrib.dtypes"
   ]
  },
  {
   "cell_type": "code",
   "execution_count": 7,
   "metadata": {},
   "outputs": [
    {
     "data": {
      "text/plain": [
       "Repo ID          284\n",
       "Git              284\n",
       "PR Creators     2054\n",
       "PR ID          24917\n",
       "dtype: int64"
      ]
     },
     "execution_count": 7,
     "metadata": {},
     "output_type": "execute_result"
    }
   ],
   "source": [
    "pr_contrib.nunique()"
   ]
  },
  {
   "cell_type": "markdown",
   "metadata": {},
   "source": [
    "## Retrieve PR Reviewers\n",
    "\n",
    "We will now fetch all the PR Reviewers for various repositories."
   ]
  },
  {
   "cell_type": "code",
   "execution_count": 8,
   "metadata": {},
   "outputs": [
    {
     "data": {
      "text/html": [
       "<div>\n",
       "<style scoped>\n",
       "    .dataframe tbody tr th:only-of-type {\n",
       "        vertical-align: middle;\n",
       "    }\n",
       "\n",
       "    .dataframe tbody tr th {\n",
       "        vertical-align: top;\n",
       "    }\n",
       "\n",
       "    .dataframe thead th {\n",
       "        text-align: right;\n",
       "    }\n",
       "</style>\n",
       "<table border=\"1\" class=\"dataframe\">\n",
       "  <thead>\n",
       "    <tr style=\"text-align: right;\">\n",
       "      <th></th>\n",
       "      <th>Repo ID</th>\n",
       "      <th>Git</th>\n",
       "      <th>PR Reviewers</th>\n",
       "      <th>PRR ID</th>\n",
       "    </tr>\n",
       "  </thead>\n",
       "  <tbody>\n",
       "    <tr>\n",
       "      <th>0</th>\n",
       "      <td>27458</td>\n",
       "      <td>https://github.com/operate-first/continuous-de...</td>\n",
       "      <td>25443</td>\n",
       "      <td>25431</td>\n",
       "    </tr>\n",
       "    <tr>\n",
       "      <th>1</th>\n",
       "      <td>27458</td>\n",
       "      <td>https://github.com/operate-first/continuous-de...</td>\n",
       "      <td>25443</td>\n",
       "      <td>25432</td>\n",
       "    </tr>\n",
       "    <tr>\n",
       "      <th>2</th>\n",
       "      <td>27458</td>\n",
       "      <td>https://github.com/operate-first/continuous-de...</td>\n",
       "      <td>25444</td>\n",
       "      <td>25432</td>\n",
       "    </tr>\n",
       "    <tr>\n",
       "      <th>3</th>\n",
       "      <td>27458</td>\n",
       "      <td>https://github.com/operate-first/continuous-de...</td>\n",
       "      <td>25444</td>\n",
       "      <td>25430</td>\n",
       "    </tr>\n",
       "    <tr>\n",
       "      <th>4</th>\n",
       "      <td>27458</td>\n",
       "      <td>https://github.com/operate-first/continuous-de...</td>\n",
       "      <td>25446</td>\n",
       "      <td>25430</td>\n",
       "    </tr>\n",
       "    <tr>\n",
       "      <th>...</th>\n",
       "      <td>...</td>\n",
       "      <td>...</td>\n",
       "      <td>...</td>\n",
       "      <td>...</td>\n",
       "    </tr>\n",
       "    <tr>\n",
       "      <th>26800</th>\n",
       "      <td>28308</td>\n",
       "      <td>https://github.com/ansible/lightbulb</td>\n",
       "      <td>58328</td>\n",
       "      <td>65877</td>\n",
       "    </tr>\n",
       "    <tr>\n",
       "      <th>26801</th>\n",
       "      <td>28308</td>\n",
       "      <td>https://github.com/ansible/lightbulb</td>\n",
       "      <td>58179</td>\n",
       "      <td>65877</td>\n",
       "    </tr>\n",
       "    <tr>\n",
       "      <th>26802</th>\n",
       "      <td>28308</td>\n",
       "      <td>https://github.com/ansible/lightbulb</td>\n",
       "      <td>58059</td>\n",
       "      <td>65877</td>\n",
       "    </tr>\n",
       "    <tr>\n",
       "      <th>26803</th>\n",
       "      <td>28308</td>\n",
       "      <td>https://github.com/ansible/lightbulb</td>\n",
       "      <td>58232</td>\n",
       "      <td>65877</td>\n",
       "    </tr>\n",
       "    <tr>\n",
       "      <th>26804</th>\n",
       "      <td>28308</td>\n",
       "      <td>https://github.com/ansible/lightbulb</td>\n",
       "      <td>58232</td>\n",
       "      <td>65877</td>\n",
       "    </tr>\n",
       "  </tbody>\n",
       "</table>\n",
       "<p>26805 rows × 4 columns</p>\n",
       "</div>"
      ],
      "text/plain": [
       "       Repo ID                                                Git  \\\n",
       "0        27458  https://github.com/operate-first/continuous-de...   \n",
       "1        27458  https://github.com/operate-first/continuous-de...   \n",
       "2        27458  https://github.com/operate-first/continuous-de...   \n",
       "3        27458  https://github.com/operate-first/continuous-de...   \n",
       "4        27458  https://github.com/operate-first/continuous-de...   \n",
       "...        ...                                                ...   \n",
       "26800    28308               https://github.com/ansible/lightbulb   \n",
       "26801    28308               https://github.com/ansible/lightbulb   \n",
       "26802    28308               https://github.com/ansible/lightbulb   \n",
       "26803    28308               https://github.com/ansible/lightbulb   \n",
       "26804    28308               https://github.com/ansible/lightbulb   \n",
       "\n",
       "       PR Reviewers  PRR ID  \n",
       "0             25443   25431  \n",
       "1             25443   25432  \n",
       "2             25444   25432  \n",
       "3             25444   25430  \n",
       "4             25446   25430  \n",
       "...             ...     ...  \n",
       "26800         58328   65877  \n",
       "26801         58179   65877  \n",
       "26802         58059   65877  \n",
       "26803         58232   65877  \n",
       "26804         58232   65877  \n",
       "\n",
       "[26805 rows x 4 columns]"
      ]
     },
     "metadata": {},
     "output_type": "display_data"
    },
    {
     "data": {
      "text/plain": [
       "Repo ID          int64\n",
       "Git             object\n",
       "PR Reviewers     int64\n",
       "PRR ID           int64\n",
       "dtype: object"
      ]
     },
     "execution_count": 8,
     "metadata": {},
     "output_type": "execute_result"
    }
   ],
   "source": [
    "prr_contrib = pd.DataFrame()\n",
    "repo_query = salc.sql.text(f\"\"\"\n",
    "            SET SCHEMA 'augur_data';\n",
    "            SELECT r.repo_id,\n",
    "            r.repo_git,\n",
    "            prr.cntrb_id,\n",
    "            prr.pull_request_id\n",
    "            FROM\n",
    "            repo r, pull_request_reviews prr\n",
    "             WHERE\n",
    "            prr.repo_id = r.repo_id\n",
    "            limit 50000\n",
    "    \"\"\")\n",
    "prr_contrib = pd.read_sql(repo_query, con=engine)\n",
    "prr_contrib.columns =['Repo ID', 'Git', 'PR Reviewers', 'PRR ID']\n",
    "\n",
    "display(prr_contrib)\n",
    "prr_contrib.dtypes"
   ]
  },
  {
   "cell_type": "code",
   "execution_count": 9,
   "metadata": {},
   "outputs": [
    {
     "data": {
      "text/plain": [
       "Repo ID          191\n",
       "Git              191\n",
       "PR Reviewers     961\n",
       "PRR ID          9289\n",
       "dtype: int64"
      ]
     },
     "execution_count": 9,
     "metadata": {},
     "output_type": "execute_result"
    }
   ],
   "source": [
    "prr_contrib.nunique()"
   ]
  },
  {
   "cell_type": "markdown",
   "metadata": {},
   "source": [
    "## Retrieve Commit Contributors\n",
    "\n",
    "We will now fetch all the Commit contributors for various repositories."
   ]
  },
  {
   "cell_type": "code",
   "execution_count": 10,
   "metadata": {},
   "outputs": [
    {
     "data": {
      "text/html": [
       "<div>\n",
       "<style scoped>\n",
       "    .dataframe tbody tr th:only-of-type {\n",
       "        vertical-align: middle;\n",
       "    }\n",
       "\n",
       "    .dataframe tbody tr th {\n",
       "        vertical-align: top;\n",
       "    }\n",
       "\n",
       "    .dataframe thead th {\n",
       "        text-align: right;\n",
       "    }\n",
       "</style>\n",
       "<table border=\"1\" class=\"dataframe\">\n",
       "  <thead>\n",
       "    <tr style=\"text-align: right;\">\n",
       "      <th></th>\n",
       "      <th>Repo ID</th>\n",
       "      <th>Git</th>\n",
       "      <th>Commit Creators</th>\n",
       "      <th>Commit ID</th>\n",
       "    </tr>\n",
       "  </thead>\n",
       "  <tbody>\n",
       "    <tr>\n",
       "      <th>0</th>\n",
       "      <td>26835</td>\n",
       "      <td>https://github.com/linux-audit/audit-kernel</td>\n",
       "      <td>30149</td>\n",
       "      <td>16604325</td>\n",
       "    </tr>\n",
       "    <tr>\n",
       "      <th>1</th>\n",
       "      <td>26835</td>\n",
       "      <td>https://github.com/linux-audit/audit-kernel</td>\n",
       "      <td>30149</td>\n",
       "      <td>16624574</td>\n",
       "    </tr>\n",
       "    <tr>\n",
       "      <th>2</th>\n",
       "      <td>26835</td>\n",
       "      <td>https://github.com/linux-audit/audit-kernel</td>\n",
       "      <td>30149</td>\n",
       "      <td>16640974</td>\n",
       "    </tr>\n",
       "    <tr>\n",
       "      <th>3</th>\n",
       "      <td>26835</td>\n",
       "      <td>https://github.com/linux-audit/audit-kernel</td>\n",
       "      <td>30149</td>\n",
       "      <td>16645598</td>\n",
       "    </tr>\n",
       "    <tr>\n",
       "      <th>4</th>\n",
       "      <td>32165</td>\n",
       "      <td>https://github.com/openshift/ocp-release-opera...</td>\n",
       "      <td>57896</td>\n",
       "      <td>36771608</td>\n",
       "    </tr>\n",
       "    <tr>\n",
       "      <th>...</th>\n",
       "      <td>...</td>\n",
       "      <td>...</td>\n",
       "      <td>...</td>\n",
       "      <td>...</td>\n",
       "    </tr>\n",
       "    <tr>\n",
       "      <th>49995</th>\n",
       "      <td>32057</td>\n",
       "      <td>https://github.com/openshift/coredns</td>\n",
       "      <td>170450</td>\n",
       "      <td>36938537</td>\n",
       "    </tr>\n",
       "    <tr>\n",
       "      <th>49996</th>\n",
       "      <td>32057</td>\n",
       "      <td>https://github.com/openshift/coredns</td>\n",
       "      <td>170450</td>\n",
       "      <td>36938538</td>\n",
       "    </tr>\n",
       "    <tr>\n",
       "      <th>49997</th>\n",
       "      <td>32057</td>\n",
       "      <td>https://github.com/openshift/coredns</td>\n",
       "      <td>170450</td>\n",
       "      <td>36938539</td>\n",
       "    </tr>\n",
       "    <tr>\n",
       "      <th>49998</th>\n",
       "      <td>32057</td>\n",
       "      <td>https://github.com/openshift/coredns</td>\n",
       "      <td>170450</td>\n",
       "      <td>36938540</td>\n",
       "    </tr>\n",
       "    <tr>\n",
       "      <th>49999</th>\n",
       "      <td>32057</td>\n",
       "      <td>https://github.com/openshift/coredns</td>\n",
       "      <td>170450</td>\n",
       "      <td>36938541</td>\n",
       "    </tr>\n",
       "  </tbody>\n",
       "</table>\n",
       "<p>50000 rows × 4 columns</p>\n",
       "</div>"
      ],
      "text/plain": [
       "       Repo ID                                                Git  \\\n",
       "0        26835        https://github.com/linux-audit/audit-kernel   \n",
       "1        26835        https://github.com/linux-audit/audit-kernel   \n",
       "2        26835        https://github.com/linux-audit/audit-kernel   \n",
       "3        26835        https://github.com/linux-audit/audit-kernel   \n",
       "4        32165  https://github.com/openshift/ocp-release-opera...   \n",
       "...        ...                                                ...   \n",
       "49995    32057               https://github.com/openshift/coredns   \n",
       "49996    32057               https://github.com/openshift/coredns   \n",
       "49997    32057               https://github.com/openshift/coredns   \n",
       "49998    32057               https://github.com/openshift/coredns   \n",
       "49999    32057               https://github.com/openshift/coredns   \n",
       "\n",
       "       Commit Creators  Commit ID  \n",
       "0                30149   16604325  \n",
       "1                30149   16624574  \n",
       "2                30149   16640974  \n",
       "3                30149   16645598  \n",
       "4                57896   36771608  \n",
       "...                ...        ...  \n",
       "49995           170450   36938537  \n",
       "49996           170450   36938538  \n",
       "49997           170450   36938539  \n",
       "49998           170450   36938540  \n",
       "49999           170450   36938541  \n",
       "\n",
       "[50000 rows x 4 columns]"
      ]
     },
     "metadata": {},
     "output_type": "display_data"
    },
    {
     "data": {
      "text/plain": [
       "Repo ID             int64\n",
       "Git                object\n",
       "Commit Creators     int64\n",
       "Commit ID           int64\n",
       "dtype: object"
      ]
     },
     "execution_count": 10,
     "metadata": {},
     "output_type": "execute_result"
    }
   ],
   "source": [
    "commit_contrib = pd.DataFrame()\n",
    "repo_query = salc.sql.text(f\"\"\"\n",
    "            SET SCHEMA 'augur_data';\n",
    "            SELECT r.repo_id,\n",
    "            r.repo_git,\n",
    "            ca.cntrb_id,\n",
    "            c.cmt_id\n",
    "            FROM\n",
    "            repo r, commits c, contributors_aliases ca\n",
    "             WHERE\n",
    "            c.repo_id = r.repo_id and\n",
    "            c.cmt_committer_email = ca.alias_email\n",
    "            limit 50000\n",
    "    \"\"\")\n",
    "commit_contrib = pd.read_sql(repo_query, con=engine)\n",
    "commit_contrib.columns =['Repo ID', 'Git', 'Commit Creators', 'Commit ID']\n",
    "\n",
    "display(commit_contrib)\n",
    "commit_contrib.dtypes"
   ]
  },
  {
   "cell_type": "code",
   "execution_count": 11,
   "metadata": {},
   "outputs": [
    {
     "data": {
      "text/plain": [
       "Repo ID               68\n",
       "Git                   68\n",
       "Commit Creators       54\n",
       "Commit ID          50000\n",
       "dtype: int64"
      ]
     },
     "execution_count": 11,
     "metadata": {},
     "output_type": "execute_result"
    }
   ],
   "source": [
    "commit_contrib.nunique()"
   ]
  },
  {
   "cell_type": "markdown",
   "metadata": {},
   "source": [
    "## Merge Data Sets\n",
    "\n",
    "We will now merge all the data sets into a single data frame."
   ]
  },
  {
   "cell_type": "code",
   "execution_count": 12,
   "metadata": {},
   "outputs": [],
   "source": [
    "df_all_new = pd.merge(commit_contrib, issue_contrib, on=['Repo ID','Git'], how='outer')"
   ]
  },
  {
   "cell_type": "code",
   "execution_count": 13,
   "metadata": {},
   "outputs": [
    {
     "data": {
      "text/plain": [
       "Repo ID              283\n",
       "Git                  283\n",
       "Commit Creators       54\n",
       "Commit ID          50000\n",
       "Issue Authors        846\n",
       "Issue ID           50000\n",
       "dtype: int64"
      ]
     },
     "execution_count": 13,
     "metadata": {},
     "output_type": "execute_result"
    }
   ],
   "source": [
    "df_all_new.nunique()"
   ]
  },
  {
   "cell_type": "code",
   "execution_count": 14,
   "metadata": {},
   "outputs": [],
   "source": [
    "df_all_new = pd.merge(df_all_new, pr_contrib, on=['Repo ID', 'Git'], how='outer')"
   ]
  },
  {
   "cell_type": "code",
   "execution_count": 15,
   "metadata": {},
   "outputs": [
    {
     "data": {
      "text/plain": [
       "Repo ID              560\n",
       "Git                  560\n",
       "Commit Creators       54\n",
       "Commit ID          50000\n",
       "Issue Authors        846\n",
       "Issue ID           50000\n",
       "PR Creators         2054\n",
       "PR ID              24917\n",
       "dtype: int64"
      ]
     },
     "execution_count": 15,
     "metadata": {},
     "output_type": "execute_result"
    }
   ],
   "source": [
    "df_all_new.nunique()"
   ]
  },
  {
   "cell_type": "code",
   "execution_count": 16,
   "metadata": {},
   "outputs": [],
   "source": [
    "df_all_new = pd.merge(df_all_new, prr_contrib, on=['Repo ID', 'Git'], how='outer')"
   ]
  },
  {
   "cell_type": "code",
   "execution_count": null,
   "metadata": {},
   "outputs": [],
   "source": [
    "df_all_new.nunique()"
   ]
  },
  {
   "cell_type": "code",
   "execution_count": 17,
   "metadata": {},
   "outputs": [
    {
     "data": {
      "text/plain": [
       "65513811"
      ]
     },
     "execution_count": 17,
     "metadata": {},
     "output_type": "execute_result"
    }
   ],
   "source": [
    "len(df_all_new)"
   ]
  },
  {
   "cell_type": "code",
   "execution_count": 18,
   "metadata": {},
   "outputs": [],
   "source": [
    "# Drop all duplicate records\n",
    "df_all_new.drop_duplicates(inplace=True)"
   ]
  },
  {
   "cell_type": "code",
   "execution_count": 19,
   "metadata": {},
   "outputs": [
    {
     "data": {
      "text/plain": [
       "46463136"
      ]
     },
     "execution_count": 19,
     "metadata": {},
     "output_type": "execute_result"
    }
   ],
   "source": [
    "len(df_all_new)"
   ]
  },
  {
   "cell_type": "code",
   "execution_count": 20,
   "metadata": {},
   "outputs": [],
   "source": [
    "# Lets subset the first 50000 rows\n",
    "df_all_subset = df_all_new[0:50000]"
   ]
  },
  {
   "cell_type": "markdown",
   "metadata": {},
   "source": [
    "### Commit Contributor Graph"
   ]
  },
  {
   "cell_type": "code",
   "execution_count": 21,
   "metadata": {},
   "outputs": [
    {
     "data": {
      "text/html": [
       "<div>\n",
       "<style scoped>\n",
       "    .dataframe tbody tr th:only-of-type {\n",
       "        vertical-align: middle;\n",
       "    }\n",
       "\n",
       "    .dataframe tbody tr th {\n",
       "        vertical-align: top;\n",
       "    }\n",
       "\n",
       "    .dataframe thead th {\n",
       "        text-align: right;\n",
       "    }\n",
       "</style>\n",
       "<table border=\"1\" class=\"dataframe\">\n",
       "  <thead>\n",
       "    <tr style=\"text-align: right;\">\n",
       "      <th>Commit Creators</th>\n",
       "      <th>29197.0</th>\n",
       "      <th>29297.0</th>\n",
       "      <th>30149.0</th>\n",
       "      <th>30918.0</th>\n",
       "      <th>31418.0</th>\n",
       "      <th>42199.0</th>\n",
       "      <th>57770.0</th>\n",
       "      <th>57806.0</th>\n",
       "      <th>57896.0</th>\n",
       "      <th>57929.0</th>\n",
       "      <th>2210732.0</th>\n",
       "      <th>2210733.0</th>\n",
       "      <th>2212203.0</th>\n",
       "      <th>2219385.0</th>\n",
       "      <th>2228799.0</th>\n",
       "      <th>2230241.0</th>\n",
       "    </tr>\n",
       "    <tr>\n",
       "      <th>Repo ID</th>\n",
       "      <th></th>\n",
       "      <th></th>\n",
       "      <th></th>\n",
       "      <th></th>\n",
       "      <th></th>\n",
       "      <th></th>\n",
       "      <th></th>\n",
       "      <th></th>\n",
       "      <th></th>\n",
       "      <th></th>\n",
       "      <th></th>\n",
       "      <th></th>\n",
       "      <th></th>\n",
       "      <th></th>\n",
       "      <th></th>\n",
       "      <th></th>\n",
       "    </tr>\n",
       "  </thead>\n",
       "  <tbody>\n",
       "    <tr>\n",
       "      <th>26835</th>\n",
       "      <td>155</td>\n",
       "      <td>15</td>\n",
       "      <td>92</td>\n",
       "      <td>3528</td>\n",
       "      <td>7</td>\n",
       "      <td>0</td>\n",
       "      <td>0</td>\n",
       "      <td>0</td>\n",
       "      <td>0</td>\n",
       "      <td>0</td>\n",
       "      <td>0</td>\n",
       "      <td>0</td>\n",
       "      <td>0</td>\n",
       "      <td>0</td>\n",
       "      <td>0</td>\n",
       "      <td>0</td>\n",
       "    </tr>\n",
       "    <tr>\n",
       "      <th>27572</th>\n",
       "      <td>177</td>\n",
       "      <td>17</td>\n",
       "      <td>43</td>\n",
       "      <td>3308</td>\n",
       "      <td>3</td>\n",
       "      <td>0</td>\n",
       "      <td>0</td>\n",
       "      <td>0</td>\n",
       "      <td>0</td>\n",
       "      <td>0</td>\n",
       "      <td>0</td>\n",
       "      <td>0</td>\n",
       "      <td>0</td>\n",
       "      <td>0</td>\n",
       "      <td>0</td>\n",
       "      <td>0</td>\n",
       "    </tr>\n",
       "    <tr>\n",
       "      <th>32165</th>\n",
       "      <td>0</td>\n",
       "      <td>0</td>\n",
       "      <td>0</td>\n",
       "      <td>0</td>\n",
       "      <td>0</td>\n",
       "      <td>13</td>\n",
       "      <td>47</td>\n",
       "      <td>18</td>\n",
       "      <td>69</td>\n",
       "      <td>23</td>\n",
       "      <td>5</td>\n",
       "      <td>7</td>\n",
       "      <td>1</td>\n",
       "      <td>1</td>\n",
       "      <td>1</td>\n",
       "      <td>2</td>\n",
       "    </tr>\n",
       "    <tr>\n",
       "      <th>36109</th>\n",
       "      <td>0</td>\n",
       "      <td>0</td>\n",
       "      <td>0</td>\n",
       "      <td>42468</td>\n",
       "      <td>0</td>\n",
       "      <td>0</td>\n",
       "      <td>0</td>\n",
       "      <td>0</td>\n",
       "      <td>0</td>\n",
       "      <td>0</td>\n",
       "      <td>0</td>\n",
       "      <td>0</td>\n",
       "      <td>0</td>\n",
       "      <td>0</td>\n",
       "      <td>0</td>\n",
       "      <td>0</td>\n",
       "    </tr>\n",
       "  </tbody>\n",
       "</table>\n",
       "</div>"
      ],
      "text/plain": [
       "Commit Creators  29197.0    29297.0    30149.0    30918.0    31418.0    \\\n",
       "Repo ID                                                                  \n",
       "26835                  155         15         92       3528          7   \n",
       "27572                  177         17         43       3308          3   \n",
       "32165                    0          0          0          0          0   \n",
       "36109                    0          0          0      42468          0   \n",
       "\n",
       "Commit Creators  42199.0    57770.0    57806.0    57896.0    57929.0    \\\n",
       "Repo ID                                                                  \n",
       "26835                    0          0          0          0          0   \n",
       "27572                    0          0          0          0          0   \n",
       "32165                   13         47         18         69         23   \n",
       "36109                    0          0          0          0          0   \n",
       "\n",
       "Commit Creators  2210732.0  2210733.0  2212203.0  2219385.0  2228799.0  \\\n",
       "Repo ID                                                                  \n",
       "26835                    0          0          0          0          0   \n",
       "27572                    0          0          0          0          0   \n",
       "32165                    5          7          1          1          1   \n",
       "36109                    0          0          0          0          0   \n",
       "\n",
       "Commit Creators  2230241.0  \n",
       "Repo ID                     \n",
       "26835                    0  \n",
       "27572                    0  \n",
       "32165                    2  \n",
       "36109                    0  "
      ]
     },
     "execution_count": 21,
     "metadata": {},
     "output_type": "execute_result"
    }
   ],
   "source": [
    "df_commit = df_all_subset.groupby(['Repo ID', 'Commit Creators']).size().unstack(fill_value=0)\n",
    "df_commit.head()"
   ]
  },
  {
   "cell_type": "code",
   "execution_count": 22,
   "metadata": {},
   "outputs": [
    {
     "data": {
      "text/plain": [
       "Float64Index([  29197.0,   29297.0,   30149.0,   30918.0,   31418.0,   42199.0,\n",
       "                57770.0,   57806.0,   57896.0,   57929.0, 2210732.0, 2210733.0,\n",
       "              2212203.0, 2219385.0, 2228799.0, 2230241.0],\n",
       "             dtype='float64', name='Commit Creators')"
      ]
     },
     "execution_count": 22,
     "metadata": {},
     "output_type": "execute_result"
    }
   ],
   "source": [
    "df_commit.columns"
   ]
  },
  {
   "cell_type": "code",
   "execution_count": 23,
   "metadata": {},
   "outputs": [],
   "source": [
    "df_commit = df_commit.reset_index()"
   ]
  },
  {
   "cell_type": "code",
   "execution_count": 24,
   "metadata": {},
   "outputs": [
    {
     "data": {
      "text/html": [
       "<div>\n",
       "<style scoped>\n",
       "    .dataframe tbody tr th:only-of-type {\n",
       "        vertical-align: middle;\n",
       "    }\n",
       "\n",
       "    .dataframe tbody tr th {\n",
       "        vertical-align: top;\n",
       "    }\n",
       "\n",
       "    .dataframe thead th {\n",
       "        text-align: right;\n",
       "    }\n",
       "</style>\n",
       "<table border=\"1\" class=\"dataframe\">\n",
       "  <thead>\n",
       "    <tr style=\"text-align: right;\">\n",
       "      <th>Commit Creators</th>\n",
       "      <th>Repo ID</th>\n",
       "      <th>29197.0</th>\n",
       "      <th>29297.0</th>\n",
       "      <th>30149.0</th>\n",
       "      <th>30918.0</th>\n",
       "      <th>31418.0</th>\n",
       "      <th>42199.0</th>\n",
       "      <th>57770.0</th>\n",
       "      <th>57806.0</th>\n",
       "      <th>57896.0</th>\n",
       "      <th>57929.0</th>\n",
       "      <th>2210732.0</th>\n",
       "      <th>2210733.0</th>\n",
       "      <th>2212203.0</th>\n",
       "      <th>2219385.0</th>\n",
       "      <th>2228799.0</th>\n",
       "      <th>2230241.0</th>\n",
       "    </tr>\n",
       "  </thead>\n",
       "  <tbody>\n",
       "    <tr>\n",
       "      <th>0</th>\n",
       "      <td>26835</td>\n",
       "      <td>155</td>\n",
       "      <td>15</td>\n",
       "      <td>92</td>\n",
       "      <td>3528</td>\n",
       "      <td>7</td>\n",
       "      <td>0</td>\n",
       "      <td>0</td>\n",
       "      <td>0</td>\n",
       "      <td>0</td>\n",
       "      <td>0</td>\n",
       "      <td>0</td>\n",
       "      <td>0</td>\n",
       "      <td>0</td>\n",
       "      <td>0</td>\n",
       "      <td>0</td>\n",
       "      <td>0</td>\n",
       "    </tr>\n",
       "    <tr>\n",
       "      <th>1</th>\n",
       "      <td>27572</td>\n",
       "      <td>177</td>\n",
       "      <td>17</td>\n",
       "      <td>43</td>\n",
       "      <td>3308</td>\n",
       "      <td>3</td>\n",
       "      <td>0</td>\n",
       "      <td>0</td>\n",
       "      <td>0</td>\n",
       "      <td>0</td>\n",
       "      <td>0</td>\n",
       "      <td>0</td>\n",
       "      <td>0</td>\n",
       "      <td>0</td>\n",
       "      <td>0</td>\n",
       "      <td>0</td>\n",
       "      <td>0</td>\n",
       "    </tr>\n",
       "    <tr>\n",
       "      <th>2</th>\n",
       "      <td>32165</td>\n",
       "      <td>0</td>\n",
       "      <td>0</td>\n",
       "      <td>0</td>\n",
       "      <td>0</td>\n",
       "      <td>0</td>\n",
       "      <td>13</td>\n",
       "      <td>47</td>\n",
       "      <td>18</td>\n",
       "      <td>69</td>\n",
       "      <td>23</td>\n",
       "      <td>5</td>\n",
       "      <td>7</td>\n",
       "      <td>1</td>\n",
       "      <td>1</td>\n",
       "      <td>1</td>\n",
       "      <td>2</td>\n",
       "    </tr>\n",
       "    <tr>\n",
       "      <th>3</th>\n",
       "      <td>36109</td>\n",
       "      <td>0</td>\n",
       "      <td>0</td>\n",
       "      <td>0</td>\n",
       "      <td>42468</td>\n",
       "      <td>0</td>\n",
       "      <td>0</td>\n",
       "      <td>0</td>\n",
       "      <td>0</td>\n",
       "      <td>0</td>\n",
       "      <td>0</td>\n",
       "      <td>0</td>\n",
       "      <td>0</td>\n",
       "      <td>0</td>\n",
       "      <td>0</td>\n",
       "      <td>0</td>\n",
       "      <td>0</td>\n",
       "    </tr>\n",
       "  </tbody>\n",
       "</table>\n",
       "</div>"
      ],
      "text/plain": [
       "Commit Creators  Repo ID  29197.0  29297.0  30149.0  30918.0  31418.0  \\\n",
       "0                  26835      155       15       92     3528        7   \n",
       "1                  27572      177       17       43     3308        3   \n",
       "2                  32165        0        0        0        0        0   \n",
       "3                  36109        0        0        0    42468        0   \n",
       "\n",
       "Commit Creators  42199.0  57770.0  57806.0  57896.0  57929.0  2210732.0  \\\n",
       "0                      0        0        0        0        0          0   \n",
       "1                      0        0        0        0        0          0   \n",
       "2                     13       47       18       69       23          5   \n",
       "3                      0        0        0        0        0          0   \n",
       "\n",
       "Commit Creators  2210733.0  2212203.0  2219385.0  2228799.0  2230241.0  \n",
       "0                        0          0          0          0          0  \n",
       "1                        0          0          0          0          0  \n",
       "2                        7          1          1          1          2  \n",
       "3                        0          0          0          0          0  "
      ]
     },
     "execution_count": 24,
     "metadata": {},
     "output_type": "execute_result"
    }
   ],
   "source": [
    "df_commit.head()"
   ]
  },
  {
   "cell_type": "code",
   "execution_count": 25,
   "metadata": {},
   "outputs": [],
   "source": [
    "df_melted_commit = df_commit.melt(\n",
    "    ['Repo ID'],\n",
    "    var_name = 'Contributor',value_name='number')"
   ]
  },
  {
   "cell_type": "code",
   "execution_count": 26,
   "metadata": {},
   "outputs": [
    {
     "data": {
      "text/html": [
       "<div>\n",
       "<style scoped>\n",
       "    .dataframe tbody tr th:only-of-type {\n",
       "        vertical-align: middle;\n",
       "    }\n",
       "\n",
       "    .dataframe tbody tr th {\n",
       "        vertical-align: top;\n",
       "    }\n",
       "\n",
       "    .dataframe thead th {\n",
       "        text-align: right;\n",
       "    }\n",
       "</style>\n",
       "<table border=\"1\" class=\"dataframe\">\n",
       "  <thead>\n",
       "    <tr style=\"text-align: right;\">\n",
       "      <th></th>\n",
       "      <th>Repo ID</th>\n",
       "      <th>Contributor</th>\n",
       "      <th>number</th>\n",
       "    </tr>\n",
       "  </thead>\n",
       "  <tbody>\n",
       "    <tr>\n",
       "      <th>0</th>\n",
       "      <td>26835</td>\n",
       "      <td>29197.0</td>\n",
       "      <td>155</td>\n",
       "    </tr>\n",
       "    <tr>\n",
       "      <th>1</th>\n",
       "      <td>27572</td>\n",
       "      <td>29197.0</td>\n",
       "      <td>177</td>\n",
       "    </tr>\n",
       "    <tr>\n",
       "      <th>2</th>\n",
       "      <td>32165</td>\n",
       "      <td>29197.0</td>\n",
       "      <td>0</td>\n",
       "    </tr>\n",
       "    <tr>\n",
       "      <th>3</th>\n",
       "      <td>36109</td>\n",
       "      <td>29197.0</td>\n",
       "      <td>0</td>\n",
       "    </tr>\n",
       "    <tr>\n",
       "      <th>4</th>\n",
       "      <td>26835</td>\n",
       "      <td>29297.0</td>\n",
       "      <td>15</td>\n",
       "    </tr>\n",
       "  </tbody>\n",
       "</table>\n",
       "</div>"
      ],
      "text/plain": [
       "   Repo ID Contributor  number\n",
       "0    26835     29197.0     155\n",
       "1    27572     29197.0     177\n",
       "2    32165     29197.0       0\n",
       "3    36109     29197.0       0\n",
       "4    26835     29297.0      15"
      ]
     },
     "execution_count": 26,
     "metadata": {},
     "output_type": "execute_result"
    }
   ],
   "source": [
    "df_melted_commit.head()"
   ]
  },
  {
   "cell_type": "code",
   "execution_count": 27,
   "metadata": {},
   "outputs": [
    {
     "data": {
      "text/plain": [
       "64"
      ]
     },
     "execution_count": 27,
     "metadata": {},
     "output_type": "execute_result"
    }
   ],
   "source": [
    "Repo_id = df_melted_commit['Repo ID'].to_list()\n",
    "len(Repo_id)"
   ]
  },
  {
   "cell_type": "code",
   "execution_count": 28,
   "metadata": {},
   "outputs": [
    {
     "data": {
      "text/plain": [
       "64"
      ]
     },
     "execution_count": 28,
     "metadata": {},
     "output_type": "execute_result"
    }
   ],
   "source": [
    "contributor_id = df_melted_commit['Contributor'].to_list()\n",
    "len(contributor_id)"
   ]
  },
  {
   "cell_type": "code",
   "execution_count": 29,
   "metadata": {},
   "outputs": [],
   "source": [
    "G = nx.from_pandas_edgelist(df_melted_commit, \n",
    "                            source='Repo ID',\n",
    "                            target='Contributor',\n",
    "                            edge_attr='number',\n",
    "                            create_using=nx.MultiGraph())"
   ]
  },
  {
   "cell_type": "code",
   "execution_count": 30,
   "metadata": {},
   "outputs": [
    {
     "data": {
      "text/plain": [
       "NodeView((26835, 29197.0, 27572, 32165, 36109, 29297.0, 30149.0, 30918.0, 31418.0, 42199.0, 57770.0, 57806.0, 57896.0, 57929.0, 2210732.0, 2210733.0, 2212203.0, 2219385.0, 2228799.0, 2230241.0))"
      ]
     },
     "execution_count": 30,
     "metadata": {},
     "output_type": "execute_result"
    }
   ],
   "source": [
    "nodes = G.nodes()\n",
    "nodes"
   ]
  },
  {
   "cell_type": "code",
   "execution_count": 31,
   "metadata": {},
   "outputs": [
    {
     "data": {
      "text/plain": [
       "20"
      ]
     },
     "execution_count": 31,
     "metadata": {},
     "output_type": "execute_result"
    }
   ],
   "source": [
    "nodes = list(nodes)\n",
    "len(nodes)"
   ]
  },
  {
   "cell_type": "code",
   "execution_count": 32,
   "metadata": {},
   "outputs": [],
   "source": [
    "colors = ['blue' if n in Repo_id else 'yellow' for n in nodes]"
   ]
  },
  {
   "cell_type": "code",
   "execution_count": 33,
   "metadata": {},
   "outputs": [
    {
     "data": {
      "image/png": "[encoded data removed]",
      "text/plain": [
       "<Figure size 432x288 with 1 Axes>"
      ]
     },
     "metadata": {},
     "output_type": "display_data"
    }
   ],
   "source": [
    "#fig = plt.figure(3, figsize=(500,500))\n",
    "nx.draw_networkx(G, node_color=colors, font_size=8)"
   ]
  },
  {
   "cell_type": "code",
   "execution_count": 34,
   "metadata": {},
   "outputs": [
    {
     "name": "stdout",
     "output_type": "stream",
     "text": [
      "Name: \n",
      "Type: MultiGraph\n",
      "Number of nodes: 20\n",
      "Number of edges: 64\n",
      "Average degree:   6.4000\n"
     ]
    }
   ],
   "source": [
    "print(nx.info(G))"
   ]
  },
  {
   "cell_type": "markdown",
   "metadata": {},
   "source": [
    "### Issue Contributor Graph"
   ]
  },
  {
   "cell_type": "code",
   "execution_count": 35,
   "metadata": {},
   "outputs": [
    {
     "data": {
      "text/html": [
       "<div>\n",
       "<style scoped>\n",
       "    .dataframe tbody tr th:only-of-type {\n",
       "        vertical-align: middle;\n",
       "    }\n",
       "\n",
       "    .dataframe tbody tr th {\n",
       "        vertical-align: top;\n",
       "    }\n",
       "\n",
       "    .dataframe thead th {\n",
       "        text-align: right;\n",
       "    }\n",
       "</style>\n",
       "<table border=\"1\" class=\"dataframe\">\n",
       "  <thead>\n",
       "    <tr style=\"text-align: right;\">\n",
       "      <th>Issue Authors</th>\n",
       "    </tr>\n",
       "    <tr>\n",
       "      <th>Repo ID</th>\n",
       "    </tr>\n",
       "  </thead>\n",
       "  <tbody>\n",
       "  </tbody>\n",
       "</table>\n",
       "</div>"
      ],
      "text/plain": [
       "Empty DataFrame\n",
       "Columns: []\n",
       "Index: []"
      ]
     },
     "execution_count": 35,
     "metadata": {},
     "output_type": "execute_result"
    }
   ],
   "source": [
    "df_issue = df_all_subset.groupby(['Repo ID', 'Issue Authors']).size().unstack(fill_value=0)\n",
    "df_issue.head()"
   ]
  },
  {
   "cell_type": "code",
   "execution_count": null,
   "metadata": {},
   "outputs": [],
   "source": [
    "df_issue.columns"
   ]
  },
  {
   "cell_type": "code",
   "execution_count": null,
   "metadata": {},
   "outputs": [],
   "source": [
    "df_issue = df_issue.reset_index()"
   ]
  },
  {
   "cell_type": "code",
   "execution_count": null,
   "metadata": {},
   "outputs": [],
   "source": [
    "df_issue.head()"
   ]
  },
  {
   "cell_type": "code",
   "execution_count": null,
   "metadata": {},
   "outputs": [],
   "source": [
    "df_melted_issue = df_issue.melt(\n",
    "    ['Repo ID'],\n",
    "    var_name = 'Contributor',value_name='number')"
   ]
  },
  {
   "cell_type": "code",
   "execution_count": null,
   "metadata": {},
   "outputs": [],
   "source": [
    "df_melted_issue.head()"
   ]
  },
  {
   "cell_type": "code",
   "execution_count": null,
   "metadata": {},
   "outputs": [],
   "source": [
    "Repo_id = df_melted_issue['Repo ID'].to_list()\n",
    "len(Repo_id)"
   ]
  },
  {
   "cell_type": "code",
   "execution_count": null,
   "metadata": {},
   "outputs": [],
   "source": [
    "contributor_id = df_melted_issue['Contributor'].to_list()\n",
    "len(contributor_id)"
   ]
  },
  {
   "cell_type": "code",
   "execution_count": null,
   "metadata": {},
   "outputs": [],
   "source": [
    "G = nx.from_pandas_edgelist(df_melted_issue, \n",
    "                            source='Repo ID',\n",
    "                            target='Contributor',\n",
    "                            edge_attr='number',\n",
    "                            create_using=nx.MultiGraph())"
   ]
  },
  {
   "cell_type": "code",
   "execution_count": null,
   "metadata": {},
   "outputs": [],
   "source": [
    "nodes = G.nodes()\n",
    "nodes"
   ]
  },
  {
   "cell_type": "code",
   "execution_count": null,
   "metadata": {},
   "outputs": [],
   "source": [
    "nodes = list(nodes)\n",
    "len(nodes)"
   ]
  },
  {
   "cell_type": "code",
   "execution_count": null,
   "metadata": {},
   "outputs": [],
   "source": [
    "colors = ['blue' if n in Repo_id else 'yellow' for n in nodes]"
   ]
  },
  {
   "cell_type": "code",
   "execution_count": null,
   "metadata": {},
   "outputs": [],
   "source": [
    "fig = plt.figure(3, figsize=(500,500))\n",
    "nx.draw_networkx(G, node_color=colors, font_size=8)"
   ]
  },
  {
   "cell_type": "code",
   "execution_count": null,
   "metadata": {},
   "outputs": [],
   "source": [
    "print(nx.info(G))"
   ]
  },
  {
   "cell_type": "markdown",
   "metadata": {},
   "source": [
    "### PR Contributor Graph"
   ]
  },
  {
   "cell_type": "code",
   "execution_count": 36,
   "metadata": {},
   "outputs": [
    {
     "data": {
      "text/html": [
       "<div>\n",
       "<style scoped>\n",
       "    .dataframe tbody tr th:only-of-type {\n",
       "        vertical-align: middle;\n",
       "    }\n",
       "\n",
       "    .dataframe tbody tr th {\n",
       "        vertical-align: top;\n",
       "    }\n",
       "\n",
       "    .dataframe thead th {\n",
       "        text-align: right;\n",
       "    }\n",
       "</style>\n",
       "<table border=\"1\" class=\"dataframe\">\n",
       "  <thead>\n",
       "    <tr style=\"text-align: right;\">\n",
       "      <th>PR Creators</th>\n",
       "      <th>25650.0</th>\n",
       "      <th>27010.0</th>\n",
       "      <th>30165.0</th>\n",
       "      <th>40325.0</th>\n",
       "      <th>40326.0</th>\n",
       "      <th>40327.0</th>\n",
       "      <th>40328.0</th>\n",
       "      <th>40329.0</th>\n",
       "      <th>40330.0</th>\n",
       "      <th>40331.0</th>\n",
       "    </tr>\n",
       "    <tr>\n",
       "      <th>Repo ID</th>\n",
       "      <th></th>\n",
       "      <th></th>\n",
       "      <th></th>\n",
       "      <th></th>\n",
       "      <th></th>\n",
       "      <th></th>\n",
       "      <th></th>\n",
       "      <th></th>\n",
       "      <th></th>\n",
       "      <th></th>\n",
       "    </tr>\n",
       "  </thead>\n",
       "  <tbody>\n",
       "    <tr>\n",
       "      <th>36109</th>\n",
       "      <td>21120</td>\n",
       "      <td>1920</td>\n",
       "      <td>2148</td>\n",
       "      <td>3840</td>\n",
       "      <td>1920</td>\n",
       "      <td>1920</td>\n",
       "      <td>2400</td>\n",
       "      <td>2400</td>\n",
       "      <td>2400</td>\n",
       "      <td>2400</td>\n",
       "    </tr>\n",
       "  </tbody>\n",
       "</table>\n",
       "</div>"
      ],
      "text/plain": [
       "PR Creators  25650.0  27010.0  30165.0  40325.0  40326.0  40327.0  40328.0  \\\n",
       "Repo ID                                                                      \n",
       "36109          21120     1920     2148     3840     1920     1920     2400   \n",
       "\n",
       "PR Creators  40329.0  40330.0  40331.0  \n",
       "Repo ID                                 \n",
       "36109           2400     2400     2400  "
      ]
     },
     "execution_count": 36,
     "metadata": {},
     "output_type": "execute_result"
    }
   ],
   "source": [
    "df_pr = df_all_subset.groupby(['Repo ID', 'PR Creators']).size().unstack(fill_value=0)\n",
    "df_pr.head()"
   ]
  },
  {
   "cell_type": "code",
   "execution_count": 37,
   "metadata": {},
   "outputs": [],
   "source": [
    "df_pr = df_pr.reset_index()"
   ]
  },
  {
   "cell_type": "code",
   "execution_count": 38,
   "metadata": {},
   "outputs": [],
   "source": [
    "df_melted_pr = df_pr.melt(\n",
    "    ['Repo ID'],\n",
    "    var_name = 'Contributor',value_name='number')"
   ]
  },
  {
   "cell_type": "code",
   "execution_count": 39,
   "metadata": {},
   "outputs": [],
   "source": [
    "G = nx.from_pandas_edgelist(df_melted_pr, \n",
    "                            source='Repo ID',\n",
    "                            target='Contributor',\n",
    "                            edge_attr='number',\n",
    "                            create_using=nx.MultiGraph())"
   ]
  },
  {
   "cell_type": "code",
   "execution_count": 40,
   "metadata": {},
   "outputs": [],
   "source": [
    "nodes = G.nodes()"
   ]
  },
  {
   "cell_type": "code",
   "execution_count": 41,
   "metadata": {},
   "outputs": [],
   "source": [
    "colors = ['blue' if n in Repo_id else 'yellow' for n in nodes]"
   ]
  },
  {
   "cell_type": "code",
   "execution_count": 42,
   "metadata": {},
   "outputs": [
    {
     "data": {
      "image/png": "[encoded data removed]",
      "text/plain": [
       "<Figure size 432x288 with 1 Axes>"
      ]
     },
     "metadata": {},
     "output_type": "display_data"
    }
   ],
   "source": [
    "nx.draw_networkx(G, node_color=colors, font_size=8)"
   ]
  },
  {
   "cell_type": "markdown",
   "metadata": {},
   "source": [
    "### PR Reviewers Graph"
   ]
  },
  {
   "cell_type": "code",
   "execution_count": 43,
   "metadata": {},
   "outputs": [
    {
     "data": {
      "text/html": [
       "<div>\n",
       "<style scoped>\n",
       "    .dataframe tbody tr th:only-of-type {\n",
       "        vertical-align: middle;\n",
       "    }\n",
       "\n",
       "    .dataframe tbody tr th {\n",
       "        vertical-align: top;\n",
       "    }\n",
       "\n",
       "    .dataframe thead th {\n",
       "        text-align: right;\n",
       "    }\n",
       "</style>\n",
       "<table border=\"1\" class=\"dataframe\">\n",
       "  <thead>\n",
       "    <tr style=\"text-align: right;\">\n",
       "      <th>PR Reviewers</th>\n",
       "      <th>27041.0</th>\n",
       "      <th>27211.0</th>\n",
       "      <th>27344.0</th>\n",
       "      <th>27821.0</th>\n",
       "      <th>29714.0</th>\n",
       "      <th>30475.0</th>\n",
       "      <th>31107.0</th>\n",
       "      <th>31197.0</th>\n",
       "      <th>36688.0</th>\n",
       "      <th>37958.0</th>\n",
       "      <th>...</th>\n",
       "      <th>43325.0</th>\n",
       "      <th>43326.0</th>\n",
       "      <th>43327.0</th>\n",
       "      <th>43328.0</th>\n",
       "      <th>43329.0</th>\n",
       "      <th>43330.0</th>\n",
       "      <th>43331.0</th>\n",
       "      <th>43332.0</th>\n",
       "      <th>43333.0</th>\n",
       "      <th>43335.0</th>\n",
       "    </tr>\n",
       "    <tr>\n",
       "      <th>Repo ID</th>\n",
       "      <th></th>\n",
       "      <th></th>\n",
       "      <th></th>\n",
       "      <th></th>\n",
       "      <th></th>\n",
       "      <th></th>\n",
       "      <th></th>\n",
       "      <th></th>\n",
       "      <th></th>\n",
       "      <th></th>\n",
       "      <th></th>\n",
       "      <th></th>\n",
       "      <th></th>\n",
       "      <th></th>\n",
       "      <th></th>\n",
       "      <th></th>\n",
       "      <th></th>\n",
       "      <th></th>\n",
       "      <th></th>\n",
       "      <th></th>\n",
       "      <th></th>\n",
       "    </tr>\n",
       "  </thead>\n",
       "  <tbody>\n",
       "    <tr>\n",
       "      <th>36109</th>\n",
       "      <td>89</td>\n",
       "      <td>89</td>\n",
       "      <td>88</td>\n",
       "      <td>89</td>\n",
       "      <td>89</td>\n",
       "      <td>89</td>\n",
       "      <td>89</td>\n",
       "      <td>89</td>\n",
       "      <td>89</td>\n",
       "      <td>89</td>\n",
       "      <td>...</td>\n",
       "      <td>88</td>\n",
       "      <td>88</td>\n",
       "      <td>88</td>\n",
       "      <td>88</td>\n",
       "      <td>88</td>\n",
       "      <td>88</td>\n",
       "      <td>88</td>\n",
       "      <td>88</td>\n",
       "      <td>88</td>\n",
       "      <td>88</td>\n",
       "    </tr>\n",
       "  </tbody>\n",
       "</table>\n",
       "<p>1 rows × 394 columns</p>\n",
       "</div>"
      ],
      "text/plain": [
       "PR Reviewers  27041.0  27211.0  27344.0  27821.0  29714.0  30475.0  31107.0  \\\n",
       "Repo ID                                                                       \n",
       "36109              89       89       88       89       89       89       89   \n",
       "\n",
       "PR Reviewers  31197.0  36688.0  37958.0  ...  43325.0  43326.0  43327.0  \\\n",
       "Repo ID                                  ...                              \n",
       "36109              89       89       89  ...       88       88       88   \n",
       "\n",
       "PR Reviewers  43328.0  43329.0  43330.0  43331.0  43332.0  43333.0  43335.0  \n",
       "Repo ID                                                                      \n",
       "36109              88       88       88       88       88       88       88  \n",
       "\n",
       "[1 rows x 394 columns]"
      ]
     },
     "execution_count": 43,
     "metadata": {},
     "output_type": "execute_result"
    }
   ],
   "source": [
    "df_prr = df_all_subset.groupby(['Repo ID', 'PR Reviewers']).size().unstack(fill_value=0)\n",
    "df_prr.head()"
   ]
  },
  {
   "cell_type": "code",
   "execution_count": 44,
   "metadata": {},
   "outputs": [],
   "source": [
    "df_prr = df_prr.reset_index()"
   ]
  },
  {
   "cell_type": "code",
   "execution_count": 45,
   "metadata": {},
   "outputs": [],
   "source": [
    "df_melted_prr = df_prr.melt(\n",
    "    ['Repo ID'],\n",
    "    var_name = 'Contributor',value_name='number')"
   ]
  },
  {
   "cell_type": "code",
   "execution_count": 46,
   "metadata": {},
   "outputs": [],
   "source": [
    "G = nx.from_pandas_edgelist(df_melted_prr, \n",
    "                            source='Repo ID',\n",
    "                            target='Contributor',\n",
    "                            edge_attr='number',\n",
    "                            create_using=nx.MultiGraph())"
   ]
  },
  {
   "cell_type": "code",
   "execution_count": 47,
   "metadata": {},
   "outputs": [],
   "source": [
    "nodes = G.nodes()"
   ]
  },
  {
   "cell_type": "code",
   "execution_count": 48,
   "metadata": {},
   "outputs": [],
   "source": [
    "colors = ['blue' if n in Repo_id else 'yellow' for n in nodes]"
   ]
  },
  {
   "cell_type": "code",
   "execution_count": 49,
   "metadata": {},
   "outputs": [
    {
     "data": {
      "image/png": "[encoded data removed]",
      "text/plain": [
       "<Figure size 432x288 with 1 Axes>"
      ]
     },
     "metadata": {},
     "output_type": "display_data"
    }
   ],
   "source": [
    "nx.draw_networkx(G, node_color=colors, font_size=8)"
   ]
  }
 ],
 "metadata": {
  "kernelspec": {
   "display_name": "Python 3",
   "language": "python",
   "name": "python3"
  },
  "language_info": {
   "codemirror_mode": {
    "name": "ipython",
    "version": 3
   },
   "file_extension": ".py",
   "mimetype": "text/x-python",
   "name": "python",
   "nbconvert_exporter": "python",
   "pygments_lexer": "ipython3",
   "version": "3.8.6"
  }
 },
 "nbformat": 4,
 "nbformat_minor": 4
}
