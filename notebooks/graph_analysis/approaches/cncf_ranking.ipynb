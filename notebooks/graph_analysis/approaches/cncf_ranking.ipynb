{
 "cells": [
  {
   "cell_type": "markdown",
   "id": "52c59d44-2f34-4abc-b932-4e3dc22e7414",
   "metadata": {},
   "source": [
    "# Project Ranking Over Time\n",
    "\n",
    "In this notebook, we would like to understand the project rankings and how they vary over time for different CNCF projects. Using the graphical techniques such as PageRank, Betweenness and Closeness Centrality scores we can identify the rank for each project in a given time range."
   ]
  },
  {
   "cell_type": "markdown",
   "id": "f10c71e3-71b4-4a0b-84fb-01ce30a28064",
   "metadata": {},
   "source": [
    "## Connect to Augur database\n",
    "\n",
    "We will be fetching the data from an Augur database which stores the GitHub data for a large number of open source repositories."
   ]
  },
  {
   "cell_type": "code",
   "execution_count": 1,
   "id": "7ef382ea-f6a3-491b-ba42-01a1331d9999",
   "metadata": {},
   "outputs": [],
   "source": [
    "import pandas as pd\n",
    "import psycopg2\n",
    "import itertools\n",
    "import collections\n",
    "from operator import itemgetter\n",
    "import sqlalchemy as salc\n",
    "import json\n",
    "import networkx as nx\n",
    "import matplotlib.pyplot as plt\n",
    "import matplotlib.patches as mpatches\n",
    "from sklearn.preprocessing import MinMaxScaler\n",
    "\n",
    "from ipynb.fs.defs.graph_helper_functions import (\n",
    "     get_repos,\n",
    "     get_contributors,\n",
    "     created_melted_dfs,\n",
    "     get_repos_outside,\n",
    "     get_page_ranks,\n",
    "     get_betweenness_centrality,\n",
    "     get_closeness_centrality,\n",
    "     plot_graph,\n",
    "     project_nodes_edges_contributions\n",
    ")\n",
    "\n",
    "with open(\"../copy_cage-padres.json\") as config_file:\n",
    "    config = json.load(config_file)"
   ]
  },
  {
   "cell_type": "code",
   "execution_count": 2,
   "id": "8f48d49c-aba4-4ebf-ba80-19ac78880c8f",
   "metadata": {},
   "outputs": [],
   "source": [
    "database_connection_string = 'postgresql+psycopg2://{}:{}@{}:{}/{}'.format(config['user'], config['password'], config['host'], config['port'], config['database'])\n",
    "\n",
    "dbschema='augur_data'\n",
    "engine = salc.create_engine(\n",
    "    database_connection_string,\n",
    "    connect_args={'options': '-csearch_path={}'.format(dbschema)})"
   ]
  },
  {
   "cell_type": "code",
   "execution_count": 3,
   "id": "1ab542e6-b3cb-485c-b3b0-347800e00546",
   "metadata": {},
   "outputs": [],
   "source": [
    "READ_LOCALLY = True"
   ]
  },
  {
   "cell_type": "markdown",
   "id": "2c03b18f-3166-42d9-a0d6-6ed3c4f7d6c4",
   "metadata": {},
   "source": [
    "## Retrieve Available Repositories"
   ]
  },
  {
   "cell_type": "markdown",
   "id": "01140c12-8a0a-4b23-8b9a-3bde4162c790",
   "metadata": {},
   "source": [
    "We start by feeding an initial list of CNCF projects out of which we track projects in 3 categories:\n",
    "\n",
    "1. Graduated projects - projects that are considered stable, widely adopted and production ready, attracting thousands of contributors\n",
    "2. Incubating projects - projects used successfully in production by a small number of users\n",
    "3. Sandbox projects - experimental projects not yet widely tested in production on the bleeding edge of technology"
   ]
  },
  {
   "cell_type": "code",
   "execution_count": 4,
   "id": "e8b31e03-b917-41a4-bda4-3d1855fd68f5",
   "metadata": {},
   "outputs": [],
   "source": [
    "with open('../repo_lists/sandbox_cncf_repos.txt', 'r') as f:\n",
    "    sandbox_projects = [line.strip() for line in f]"
   ]
  },
  {
   "cell_type": "code",
   "execution_count": 5,
   "id": "c100ae6e-651a-4426-8e04-232981f14999",
   "metadata": {},
   "outputs": [],
   "source": [
    "repo_set_sandbox, repo_name_set_sandbox = get_repos(sandbox_projects, engine)"
   ]
  },
  {
   "cell_type": "code",
   "execution_count": 6,
   "id": "eb6acff5-3564-48d0-8dd4-5050a99a45bf",
   "metadata": {},
   "outputs": [],
   "source": [
    "org_repo_sandbox= [x.split(\"https://github.com/\", 1)[1] for x in repo_name_set_sandbox]"
   ]
  },
  {
   "cell_type": "code",
   "execution_count": 7,
   "id": "b1b71a50-8f08-49c6-ada6-c7c1ebc93821",
   "metadata": {},
   "outputs": [],
   "source": [
    "org_repo_set = org_repo_sandbox"
   ]
  },
  {
   "cell_type": "code",
   "execution_count": 8,
   "id": "0f9f6c19-281d-4def-92d0-edb7dd8ff33e",
   "metadata": {},
   "outputs": [],
   "source": [
    "repo_set = repo_set_sandbox"
   ]
  },
  {
   "cell_type": "markdown",
   "id": "201ac68a-bfcc-466c-a543-751900f1c27e",
   "metadata": {},
   "source": [
    "## Retrieve All Contributors"
   ]
  },
  {
   "cell_type": "code",
   "execution_count": 9,
   "id": "d0fa045a-a573-4b3c-bfb0-20adb3946a11",
   "metadata": {},
   "outputs": [],
   "source": [
    "if READ_LOCALLY:\n",
    "    contrib_df = pd.read_pickle(\"ep_data/all_contrib.pkl\")\n",
    "else:\n",
    "    contrib_df = get_contributors(repo_set, engine)\n",
    "    contrib_df['created_at'] = pd.to_datetime(contrib_df['created_at'], utc=True)\n",
    "    contrib_df['created_at'] = contrib_df['created_at'].dt.strftime('%Y-%m-%d')\n",
    "    contrib_df['created_at'] = pd.to_datetime(contrib_df['created_at']).dt.normalize()\n",
    "    contrib_df.to_pickle(\"ep_data/all_contrib.pkl\")"
   ]
  },
  {
   "cell_type": "code",
   "execution_count": 10,
   "id": "bceacc6e-1e5c-4f4a-890a-62834ce6b6a5",
   "metadata": {},
   "outputs": [
    {
     "data": {
      "text/html": [
       "<div>\n",
       "<style scoped>\n",
       "    .dataframe tbody tr th:only-of-type {\n",
       "        vertical-align: middle;\n",
       "    }\n",
       "\n",
       "    .dataframe tbody tr th {\n",
       "        vertical-align: top;\n",
       "    }\n",
       "\n",
       "    .dataframe thead th {\n",
       "        text-align: right;\n",
       "    }\n",
       "</style>\n",
       "<table border=\"1\" class=\"dataframe\">\n",
       "  <thead>\n",
       "    <tr style=\"text-align: right;\">\n",
       "      <th></th>\n",
       "      <th>cntrb_id</th>\n",
       "      <th>created_at</th>\n",
       "      <th>repo_id</th>\n",
       "      <th>action</th>\n",
       "      <th>repo_name</th>\n",
       "      <th>login</th>\n",
       "      <th>rank</th>\n",
       "    </tr>\n",
       "  </thead>\n",
       "  <tbody>\n",
       "    <tr>\n",
       "      <th>0</th>\n",
       "      <td>010009da-4500-0000-0000-000000000000</td>\n",
       "      <td>2023-08-01</td>\n",
       "      <td>30910</td>\n",
       "      <td>pull_request_review_APPROVED</td>\n",
       "      <td>keylime</td>\n",
       "      <td>aplanas</td>\n",
       "      <td>663</td>\n",
       "    </tr>\n",
       "    <tr>\n",
       "      <th>1</th>\n",
       "      <td>0101563f-ff00-0000-0000-000000000000</td>\n",
       "      <td>2023-08-01</td>\n",
       "      <td>30910</td>\n",
       "      <td>pull_request_comment</td>\n",
       "      <td>keylime</td>\n",
       "      <td>codecov[bot]</td>\n",
       "      <td>65</td>\n",
       "    </tr>\n",
       "    <tr>\n",
       "      <th>2</th>\n",
       "      <td>01001edd-e300-0000-0000-000000000000</td>\n",
       "      <td>2023-08-01</td>\n",
       "      <td>30910</td>\n",
       "      <td>pull_request_open</td>\n",
       "      <td>keylime</td>\n",
       "      <td>maugustosilva</td>\n",
       "      <td>1052</td>\n",
       "    </tr>\n",
       "    <tr>\n",
       "      <th>3</th>\n",
       "      <td>01001edd-e300-0000-0000-000000000000</td>\n",
       "      <td>2023-08-01</td>\n",
       "      <td>30910</td>\n",
       "      <td>pull_request_merged</td>\n",
       "      <td>keylime</td>\n",
       "      <td>maugustosilva</td>\n",
       "      <td>1051</td>\n",
       "    </tr>\n",
       "    <tr>\n",
       "      <th>4</th>\n",
       "      <td>01001edd-e300-0000-0000-000000000000</td>\n",
       "      <td>2023-08-01</td>\n",
       "      <td>30910</td>\n",
       "      <td>pull_request_review_APPROVED</td>\n",
       "      <td>keylime</td>\n",
       "      <td>maugustosilva</td>\n",
       "      <td>1050</td>\n",
       "    </tr>\n",
       "  </tbody>\n",
       "</table>\n",
       "</div>"
      ],
      "text/plain": [
       "                               cntrb_id created_at  repo_id  \\\n",
       "0  010009da-4500-0000-0000-000000000000 2023-08-01    30910   \n",
       "1  0101563f-ff00-0000-0000-000000000000 2023-08-01    30910   \n",
       "2  01001edd-e300-0000-0000-000000000000 2023-08-01    30910   \n",
       "3  01001edd-e300-0000-0000-000000000000 2023-08-01    30910   \n",
       "4  01001edd-e300-0000-0000-000000000000 2023-08-01    30910   \n",
       "\n",
       "                         action repo_name          login  rank  \n",
       "0  pull_request_review_APPROVED   keylime        aplanas   663  \n",
       "1          pull_request_comment   keylime   codecov[bot]    65  \n",
       "2             pull_request_open   keylime  maugustosilva  1052  \n",
       "3           pull_request_merged   keylime  maugustosilva  1051  \n",
       "4  pull_request_review_APPROVED   keylime  maugustosilva  1050  "
      ]
     },
     "execution_count": 10,
     "metadata": {},
     "output_type": "execute_result"
    }
   ],
   "source": [
    "contrib_df.head()"
   ]
  },
  {
   "cell_type": "code",
   "execution_count": 11,
   "id": "d378d86f-1f5c-44bc-a8b2-8805e6b77fc7",
   "metadata": {},
   "outputs": [
    {
     "data": {
      "text/plain": [
       "24"
      ]
     },
     "execution_count": 11,
     "metadata": {},
     "output_type": "execute_result"
    }
   ],
   "source": [
    "contrib_df.repo_name.nunique()"
   ]
  },
  {
   "cell_type": "code",
   "execution_count": 12,
   "id": "d5c030b1-4911-49be-bc2e-ffefab236159",
   "metadata": {},
   "outputs": [
    {
     "name": "stdout",
     "output_type": "stream",
     "text": [
      "<class 'pandas.core.frame.DataFrame'>\n",
      "RangeIndex: 421242 entries, 0 to 421241\n",
      "Data columns (total 7 columns):\n",
      " #   Column      Non-Null Count   Dtype         \n",
      "---  ------      --------------   -----         \n",
      " 0   cntrb_id    420354 non-null  object        \n",
      " 1   created_at  421242 non-null  datetime64[ns]\n",
      " 2   repo_id     421242 non-null  int64         \n",
      " 3   action      421242 non-null  object        \n",
      " 4   repo_name   421242 non-null  object        \n",
      " 5   login       420354 non-null  object        \n",
      " 6   rank        421242 non-null  int64         \n",
      "dtypes: datetime64[ns](1), int64(2), object(4)\n",
      "memory usage: 22.5+ MB\n"
     ]
    }
   ],
   "source": [
    "contrib_df.info()"
   ]
  },
  {
   "cell_type": "markdown",
   "id": "a084a62b-0b84-4e37-9b31-d8416577b185",
   "metadata": {},
   "source": [
    "## Graph Type 1: Projects and Contributors as Nodes"
   ]
  },
  {
   "cell_type": "markdown",
   "id": "bfa3fd11-701c-46e3-9ef4-b94cbb3a9540",
   "metadata": {},
   "source": [
    "In this section, we plot projects and contributors on the same graph as nodes and color them differently to see the relationships between them."
   ]
  },
  {
   "cell_type": "code",
   "execution_count": 13,
   "id": "f5e7ea24-4798-4527-b183-997b425df354",
   "metadata": {},
   "outputs": [
    {
     "data": {
      "text/html": [
       "<div>\n",
       "<style scoped>\n",
       "    .dataframe tbody tr th:only-of-type {\n",
       "        vertical-align: middle;\n",
       "    }\n",
       "\n",
       "    .dataframe tbody tr th {\n",
       "        vertical-align: top;\n",
       "    }\n",
       "\n",
       "    .dataframe thead th {\n",
       "        text-align: right;\n",
       "    }\n",
       "</style>\n",
       "<table border=\"1\" class=\"dataframe\">\n",
       "  <thead>\n",
       "    <tr style=\"text-align: right;\">\n",
       "      <th>created_at</th>\n",
       "      <th>repo_name</th>\n",
       "      <th>cntrb_id</th>\n",
       "      <th>2022-12-15 00:00:00</th>\n",
       "      <th>2023-05-05 00:00:00</th>\n",
       "      <th>2020-06-08 00:00:00</th>\n",
       "      <th>2020-06-09 00:00:00</th>\n",
       "      <th>2021-01-11 00:00:00</th>\n",
       "      <th>2021-05-05 00:00:00</th>\n",
       "      <th>2021-05-06 00:00:00</th>\n",
       "      <th>2021-05-24 00:00:00</th>\n",
       "      <th>...</th>\n",
       "      <th>2017-11-12 00:00:00</th>\n",
       "      <th>2018-01-07 00:00:00</th>\n",
       "      <th>2018-07-06 00:00:00</th>\n",
       "      <th>2018-07-07 00:00:00</th>\n",
       "      <th>2018-04-15 00:00:00</th>\n",
       "      <th>2018-06-17 00:00:00</th>\n",
       "      <th>2018-07-14 00:00:00</th>\n",
       "      <th>2018-12-30 00:00:00</th>\n",
       "      <th>2018-06-10 00:00:00</th>\n",
       "      <th>2018-12-16 00:00:00</th>\n",
       "    </tr>\n",
       "  </thead>\n",
       "  <tbody>\n",
       "    <tr>\n",
       "      <th>0</th>\n",
       "      <td>WasmEdge</td>\n",
       "      <td>01000022-0200-0000-0000-000000000000</td>\n",
       "      <td>2</td>\n",
       "      <td>0</td>\n",
       "      <td>0</td>\n",
       "      <td>0</td>\n",
       "      <td>0</td>\n",
       "      <td>0</td>\n",
       "      <td>0</td>\n",
       "      <td>0</td>\n",
       "      <td>...</td>\n",
       "      <td>0</td>\n",
       "      <td>0</td>\n",
       "      <td>0</td>\n",
       "      <td>0</td>\n",
       "      <td>0</td>\n",
       "      <td>0</td>\n",
       "      <td>0</td>\n",
       "      <td>0</td>\n",
       "      <td>0</td>\n",
       "      <td>0</td>\n",
       "    </tr>\n",
       "    <tr>\n",
       "      <th>1</th>\n",
       "      <td>WasmEdge</td>\n",
       "      <td>01000029-9700-0000-0000-000000000000</td>\n",
       "      <td>0</td>\n",
       "      <td>1</td>\n",
       "      <td>0</td>\n",
       "      <td>0</td>\n",
       "      <td>0</td>\n",
       "      <td>0</td>\n",
       "      <td>0</td>\n",
       "      <td>0</td>\n",
       "      <td>...</td>\n",
       "      <td>0</td>\n",
       "      <td>0</td>\n",
       "      <td>0</td>\n",
       "      <td>0</td>\n",
       "      <td>0</td>\n",
       "      <td>0</td>\n",
       "      <td>0</td>\n",
       "      <td>0</td>\n",
       "      <td>0</td>\n",
       "      <td>0</td>\n",
       "    </tr>\n",
       "    <tr>\n",
       "      <th>2</th>\n",
       "      <td>WasmEdge</td>\n",
       "      <td>0100002a-3600-0000-0000-000000000000</td>\n",
       "      <td>0</td>\n",
       "      <td>6</td>\n",
       "      <td>1</td>\n",
       "      <td>1</td>\n",
       "      <td>3</td>\n",
       "      <td>1</td>\n",
       "      <td>1</td>\n",
       "      <td>4</td>\n",
       "      <td>...</td>\n",
       "      <td>0</td>\n",
       "      <td>0</td>\n",
       "      <td>0</td>\n",
       "      <td>0</td>\n",
       "      <td>0</td>\n",
       "      <td>0</td>\n",
       "      <td>0</td>\n",
       "      <td>0</td>\n",
       "      <td>0</td>\n",
       "      <td>0</td>\n",
       "    </tr>\n",
       "    <tr>\n",
       "      <th>3</th>\n",
       "      <td>WasmEdge</td>\n",
       "      <td>0100004b-6300-0000-0000-000000000000</td>\n",
       "      <td>0</td>\n",
       "      <td>0</td>\n",
       "      <td>0</td>\n",
       "      <td>0</td>\n",
       "      <td>0</td>\n",
       "      <td>0</td>\n",
       "      <td>0</td>\n",
       "      <td>0</td>\n",
       "      <td>...</td>\n",
       "      <td>0</td>\n",
       "      <td>0</td>\n",
       "      <td>0</td>\n",
       "      <td>0</td>\n",
       "      <td>0</td>\n",
       "      <td>0</td>\n",
       "      <td>0</td>\n",
       "      <td>0</td>\n",
       "      <td>0</td>\n",
       "      <td>0</td>\n",
       "    </tr>\n",
       "    <tr>\n",
       "      <th>4</th>\n",
       "      <td>WasmEdge</td>\n",
       "      <td>0100004f-7400-0000-0000-000000000000</td>\n",
       "      <td>0</td>\n",
       "      <td>0</td>\n",
       "      <td>2</td>\n",
       "      <td>0</td>\n",
       "      <td>0</td>\n",
       "      <td>0</td>\n",
       "      <td>0</td>\n",
       "      <td>0</td>\n",
       "      <td>...</td>\n",
       "      <td>0</td>\n",
       "      <td>0</td>\n",
       "      <td>0</td>\n",
       "      <td>0</td>\n",
       "      <td>0</td>\n",
       "      <td>0</td>\n",
       "      <td>0</td>\n",
       "      <td>0</td>\n",
       "      <td>0</td>\n",
       "      <td>0</td>\n",
       "    </tr>\n",
       "  </tbody>\n",
       "</table>\n",
       "<p>5 rows × 3301 columns</p>\n",
       "</div>"
      ],
      "text/plain": [
       "created_at repo_name                              cntrb_id  \\\n",
       "0           WasmEdge  01000022-0200-0000-0000-000000000000   \n",
       "1           WasmEdge  01000029-9700-0000-0000-000000000000   \n",
       "2           WasmEdge  0100002a-3600-0000-0000-000000000000   \n",
       "3           WasmEdge  0100004b-6300-0000-0000-000000000000   \n",
       "4           WasmEdge  0100004f-7400-0000-0000-000000000000   \n",
       "\n",
       "created_at  2022-12-15 00:00:00  2023-05-05 00:00:00  2020-06-08 00:00:00  \\\n",
       "0                             2                    0                    0   \n",
       "1                             0                    1                    0   \n",
       "2                             0                    6                    1   \n",
       "3                             0                    0                    0   \n",
       "4                             0                    0                    2   \n",
       "\n",
       "created_at  2020-06-09 00:00:00  2021-01-11 00:00:00  2021-05-05 00:00:00  \\\n",
       "0                             0                    0                    0   \n",
       "1                             0                    0                    0   \n",
       "2                             1                    3                    1   \n",
       "3                             0                    0                    0   \n",
       "4                             0                    0                    0   \n",
       "\n",
       "created_at  2021-05-06 00:00:00  2021-05-24 00:00:00  ...  \\\n",
       "0                             0                    0  ...   \n",
       "1                             0                    0  ...   \n",
       "2                             1                    4  ...   \n",
       "3                             0                    0  ...   \n",
       "4                             0                    0  ...   \n",
       "\n",
       "created_at  2017-11-12 00:00:00  2018-01-07 00:00:00  2018-07-06 00:00:00  \\\n",
       "0                             0                    0                    0   \n",
       "1                             0                    0                    0   \n",
       "2                             0                    0                    0   \n",
       "3                             0                    0                    0   \n",
       "4                             0                    0                    0   \n",
       "\n",
       "created_at  2018-07-07 00:00:00  2018-04-15 00:00:00  2018-06-17 00:00:00  \\\n",
       "0                             0                    0                    0   \n",
       "1                             0                    0                    0   \n",
       "2                             0                    0                    0   \n",
       "3                             0                    0                    0   \n",
       "4                             0                    0                    0   \n",
       "\n",
       "created_at  2018-07-14 00:00:00  2018-12-30 00:00:00  2018-06-10 00:00:00  \\\n",
       "0                             0                    0                    0   \n",
       "1                             0                    0                    0   \n",
       "2                             0                    0                    0   \n",
       "3                             0                    0                    0   \n",
       "4                             0                    0                    0   \n",
       "\n",
       "created_at  2018-12-16 00:00:00  \n",
       "0                             0  \n",
       "1                             0  \n",
       "2                             0  \n",
       "3                             0  \n",
       "4                             0  \n",
       "\n",
       "[5 rows x 3301 columns]"
      ]
     },
     "execution_count": 13,
     "metadata": {},
     "output_type": "execute_result"
    }
   ],
   "source": [
    "repo_contributions = contrib_df.groupby(['repo_name', 'cntrb_id', 'created_at']).size().unstack(fill_value=0)\n",
    "repo_contributions = repo_contributions.reset_index()\n",
    "repo_contributions.head()"
   ]
  },
  {
   "cell_type": "code",
   "execution_count": 14,
   "id": "85423092-a5cb-4036-97a4-8b60a4e69580",
   "metadata": {},
   "outputs": [
    {
     "data": {
      "text/html": [
       "<div>\n",
       "<style scoped>\n",
       "    .dataframe tbody tr th:only-of-type {\n",
       "        vertical-align: middle;\n",
       "    }\n",
       "\n",
       "    .dataframe tbody tr th {\n",
       "        vertical-align: top;\n",
       "    }\n",
       "\n",
       "    .dataframe thead th {\n",
       "        text-align: right;\n",
       "    }\n",
       "</style>\n",
       "<table border=\"1\" class=\"dataframe\">\n",
       "  <thead>\n",
       "    <tr style=\"text-align: right;\">\n",
       "      <th></th>\n",
       "      <th>repo_name</th>\n",
       "      <th>cntrb_id</th>\n",
       "      <th>date</th>\n",
       "      <th>number</th>\n",
       "    </tr>\n",
       "  </thead>\n",
       "  <tbody>\n",
       "    <tr>\n",
       "      <th>0</th>\n",
       "      <td>WasmEdge</td>\n",
       "      <td>01000022-0200-0000-0000-000000000000</td>\n",
       "      <td>2022-12-15</td>\n",
       "      <td>2</td>\n",
       "    </tr>\n",
       "    <tr>\n",
       "      <th>39</th>\n",
       "      <td>WasmEdge</td>\n",
       "      <td>01001078-0600-0000-0000-000000000000</td>\n",
       "      <td>2022-12-15</td>\n",
       "      <td>1</td>\n",
       "    </tr>\n",
       "    <tr>\n",
       "      <th>55</th>\n",
       "      <td>WasmEdge</td>\n",
       "      <td>01002a5e-b400-0000-0000-000000000000</td>\n",
       "      <td>2022-12-15</td>\n",
       "      <td>8</td>\n",
       "    </tr>\n",
       "    <tr>\n",
       "      <th>60</th>\n",
       "      <td>WasmEdge</td>\n",
       "      <td>01003291-1b00-0000-0000-000000000000</td>\n",
       "      <td>2022-12-15</td>\n",
       "      <td>1</td>\n",
       "    </tr>\n",
       "    <tr>\n",
       "      <th>143</th>\n",
       "      <td>WasmEdge</td>\n",
       "      <td>0101583e-5700-0000-0000-000000000000</td>\n",
       "      <td>2022-12-15</td>\n",
       "      <td>1</td>\n",
       "    </tr>\n",
       "  </tbody>\n",
       "</table>\n",
       "</div>"
      ],
      "text/plain": [
       "    repo_name                              cntrb_id       date  number\n",
       "0    WasmEdge  01000022-0200-0000-0000-000000000000 2022-12-15       2\n",
       "39   WasmEdge  01001078-0600-0000-0000-000000000000 2022-12-15       1\n",
       "55   WasmEdge  01002a5e-b400-0000-0000-000000000000 2022-12-15       8\n",
       "60   WasmEdge  01003291-1b00-0000-0000-000000000000 2022-12-15       1\n",
       "143  WasmEdge  0101583e-5700-0000-0000-000000000000 2022-12-15       1"
      ]
     },
     "execution_count": 14,
     "metadata": {},
     "output_type": "execute_result"
    }
   ],
   "source": [
    "df_melted = repo_contributions.melt(\n",
    "    id_vars=['repo_name', 'cntrb_id'],\n",
    "    var_name = 'date', value_name='number'\n",
    ")\n",
    "df_melted = df_melted[df_melted[df_melted.columns[3]] != 0]\n",
    "df_melted.head()"
   ]
  },
  {
   "cell_type": "code",
   "execution_count": 15,
   "id": "84e9ac14-8a68-48c6-99e7-3b7cdc4cc079",
   "metadata": {},
   "outputs": [],
   "source": [
    "df_melted.rename(columns = {'number':'total_contributions'}, inplace = True)"
   ]
  },
  {
   "cell_type": "code",
   "execution_count": 16,
   "id": "7b7bd0a1-14f6-4785-b369-ac97222b9832",
   "metadata": {},
   "outputs": [
    {
     "data": {
      "text/html": [
       "<div>\n",
       "<style scoped>\n",
       "    .dataframe tbody tr th:only-of-type {\n",
       "        vertical-align: middle;\n",
       "    }\n",
       "\n",
       "    .dataframe tbody tr th {\n",
       "        vertical-align: top;\n",
       "    }\n",
       "\n",
       "    .dataframe thead th {\n",
       "        text-align: right;\n",
       "    }\n",
       "</style>\n",
       "<table border=\"1\" class=\"dataframe\">\n",
       "  <thead>\n",
       "    <tr style=\"text-align: right;\">\n",
       "      <th></th>\n",
       "      <th>repo_name</th>\n",
       "      <th>cntrb_id</th>\n",
       "      <th>date</th>\n",
       "      <th>total_contributions</th>\n",
       "    </tr>\n",
       "  </thead>\n",
       "  <tbody>\n",
       "    <tr>\n",
       "      <th>0</th>\n",
       "      <td>WasmEdge</td>\n",
       "      <td>01000022-0200-0000-0000-000000000000</td>\n",
       "      <td>2022-12-15</td>\n",
       "      <td>2</td>\n",
       "    </tr>\n",
       "    <tr>\n",
       "      <th>39</th>\n",
       "      <td>WasmEdge</td>\n",
       "      <td>01001078-0600-0000-0000-000000000000</td>\n",
       "      <td>2022-12-15</td>\n",
       "      <td>1</td>\n",
       "    </tr>\n",
       "    <tr>\n",
       "      <th>55</th>\n",
       "      <td>WasmEdge</td>\n",
       "      <td>01002a5e-b400-0000-0000-000000000000</td>\n",
       "      <td>2022-12-15</td>\n",
       "      <td>8</td>\n",
       "    </tr>\n",
       "    <tr>\n",
       "      <th>60</th>\n",
       "      <td>WasmEdge</td>\n",
       "      <td>01003291-1b00-0000-0000-000000000000</td>\n",
       "      <td>2022-12-15</td>\n",
       "      <td>1</td>\n",
       "    </tr>\n",
       "    <tr>\n",
       "      <th>143</th>\n",
       "      <td>WasmEdge</td>\n",
       "      <td>0101583e-5700-0000-0000-000000000000</td>\n",
       "      <td>2022-12-15</td>\n",
       "      <td>1</td>\n",
       "    </tr>\n",
       "  </tbody>\n",
       "</table>\n",
       "</div>"
      ],
      "text/plain": [
       "    repo_name                              cntrb_id       date  \\\n",
       "0    WasmEdge  01000022-0200-0000-0000-000000000000 2022-12-15   \n",
       "39   WasmEdge  01001078-0600-0000-0000-000000000000 2022-12-15   \n",
       "55   WasmEdge  01002a5e-b400-0000-0000-000000000000 2022-12-15   \n",
       "60   WasmEdge  01003291-1b00-0000-0000-000000000000 2022-12-15   \n",
       "143  WasmEdge  0101583e-5700-0000-0000-000000000000 2022-12-15   \n",
       "\n",
       "     total_contributions  \n",
       "0                      2  \n",
       "39                     1  \n",
       "55                     8  \n",
       "60                     1  \n",
       "143                    1  "
      ]
     },
     "execution_count": 16,
     "metadata": {},
     "output_type": "execute_result"
    }
   ],
   "source": [
    "df_melted.head()"
   ]
  },
  {
   "cell_type": "code",
   "execution_count": 17,
   "id": "35102438-9e80-4d1d-af4e-0f84b0454fe5",
   "metadata": {},
   "outputs": [],
   "source": [
    "df_melted['year'] = df_melted['date'].dt.year"
   ]
  },
  {
   "cell_type": "code",
   "execution_count": 18,
   "id": "2e68ef6a-2595-4432-9d04-769f8dffac75",
   "metadata": {},
   "outputs": [
    {
     "data": {
      "text/html": [
       "<div>\n",
       "<style scoped>\n",
       "    .dataframe tbody tr th:only-of-type {\n",
       "        vertical-align: middle;\n",
       "    }\n",
       "\n",
       "    .dataframe tbody tr th {\n",
       "        vertical-align: top;\n",
       "    }\n",
       "\n",
       "    .dataframe thead th {\n",
       "        text-align: right;\n",
       "    }\n",
       "</style>\n",
       "<table border=\"1\" class=\"dataframe\">\n",
       "  <thead>\n",
       "    <tr style=\"text-align: right;\">\n",
       "      <th></th>\n",
       "      <th>repo_name</th>\n",
       "      <th>cntrb_id</th>\n",
       "      <th>date</th>\n",
       "      <th>total_contributions</th>\n",
       "      <th>year</th>\n",
       "    </tr>\n",
       "  </thead>\n",
       "  <tbody>\n",
       "    <tr>\n",
       "      <th>0</th>\n",
       "      <td>WasmEdge</td>\n",
       "      <td>01000022-0200-0000-0000-000000000000</td>\n",
       "      <td>2022-12-15</td>\n",
       "      <td>2</td>\n",
       "      <td>2022</td>\n",
       "    </tr>\n",
       "    <tr>\n",
       "      <th>39</th>\n",
       "      <td>WasmEdge</td>\n",
       "      <td>01001078-0600-0000-0000-000000000000</td>\n",
       "      <td>2022-12-15</td>\n",
       "      <td>1</td>\n",
       "      <td>2022</td>\n",
       "    </tr>\n",
       "    <tr>\n",
       "      <th>55</th>\n",
       "      <td>WasmEdge</td>\n",
       "      <td>01002a5e-b400-0000-0000-000000000000</td>\n",
       "      <td>2022-12-15</td>\n",
       "      <td>8</td>\n",
       "      <td>2022</td>\n",
       "    </tr>\n",
       "    <tr>\n",
       "      <th>60</th>\n",
       "      <td>WasmEdge</td>\n",
       "      <td>01003291-1b00-0000-0000-000000000000</td>\n",
       "      <td>2022-12-15</td>\n",
       "      <td>1</td>\n",
       "      <td>2022</td>\n",
       "    </tr>\n",
       "    <tr>\n",
       "      <th>143</th>\n",
       "      <td>WasmEdge</td>\n",
       "      <td>0101583e-5700-0000-0000-000000000000</td>\n",
       "      <td>2022-12-15</td>\n",
       "      <td>1</td>\n",
       "      <td>2022</td>\n",
       "    </tr>\n",
       "  </tbody>\n",
       "</table>\n",
       "</div>"
      ],
      "text/plain": [
       "    repo_name                              cntrb_id       date  \\\n",
       "0    WasmEdge  01000022-0200-0000-0000-000000000000 2022-12-15   \n",
       "39   WasmEdge  01001078-0600-0000-0000-000000000000 2022-12-15   \n",
       "55   WasmEdge  01002a5e-b400-0000-0000-000000000000 2022-12-15   \n",
       "60   WasmEdge  01003291-1b00-0000-0000-000000000000 2022-12-15   \n",
       "143  WasmEdge  0101583e-5700-0000-0000-000000000000 2022-12-15   \n",
       "\n",
       "     total_contributions  year  \n",
       "0                      2  2022  \n",
       "39                     1  2022  \n",
       "55                     8  2022  \n",
       "60                     1  2022  \n",
       "143                    1  2022  "
      ]
     },
     "execution_count": 18,
     "metadata": {},
     "output_type": "execute_result"
    }
   ],
   "source": [
    "df_melted.head()"
   ]
  },
  {
   "cell_type": "code",
   "execution_count": 19,
   "id": "b547cdec-a24e-4968-b882-b3b3df49a892",
   "metadata": {},
   "outputs": [
    {
     "data": {
      "text/plain": [
       "125637"
      ]
     },
     "execution_count": 19,
     "metadata": {},
     "output_type": "execute_result"
    }
   ],
   "source": [
    "len(df_melted)"
   ]
  },
  {
   "cell_type": "code",
   "execution_count": 20,
   "id": "d347045f-8797-4e53-bff6-4c11d7e8bd28",
   "metadata": {},
   "outputs": [],
   "source": [
    "# find the total number of contributions made by each contributor in that year\n",
    "grouped_contributions_year = df_melted.groupby(['repo_name', 'cntrb_id', 'year'])['total_contributions'].sum()"
   ]
  },
  {
   "cell_type": "code",
   "execution_count": 21,
   "id": "531ac0e0-7597-41a2-814a-5c8e1eec70b0",
   "metadata": {},
   "outputs": [
    {
     "data": {
      "text/html": [
       "<div>\n",
       "<style scoped>\n",
       "    .dataframe tbody tr th:only-of-type {\n",
       "        vertical-align: middle;\n",
       "    }\n",
       "\n",
       "    .dataframe tbody tr th {\n",
       "        vertical-align: top;\n",
       "    }\n",
       "\n",
       "    .dataframe thead th {\n",
       "        text-align: right;\n",
       "    }\n",
       "</style>\n",
       "<table border=\"1\" class=\"dataframe\">\n",
       "  <thead>\n",
       "    <tr style=\"text-align: right;\">\n",
       "      <th></th>\n",
       "      <th>repo_name</th>\n",
       "      <th>cntrb_id</th>\n",
       "      <th>year</th>\n",
       "      <th>total_contributions</th>\n",
       "    </tr>\n",
       "  </thead>\n",
       "  <tbody>\n",
       "    <tr>\n",
       "      <th>0</th>\n",
       "      <td>WasmEdge</td>\n",
       "      <td>01000022-0200-0000-0000-000000000000</td>\n",
       "      <td>2022</td>\n",
       "      <td>2</td>\n",
       "    </tr>\n",
       "    <tr>\n",
       "      <th>1</th>\n",
       "      <td>WasmEdge</td>\n",
       "      <td>01000029-9700-0000-0000-000000000000</td>\n",
       "      <td>2023</td>\n",
       "      <td>1</td>\n",
       "    </tr>\n",
       "    <tr>\n",
       "      <th>2</th>\n",
       "      <td>WasmEdge</td>\n",
       "      <td>0100002a-3600-0000-0000-000000000000</td>\n",
       "      <td>2020</td>\n",
       "      <td>2</td>\n",
       "    </tr>\n",
       "    <tr>\n",
       "      <th>3</th>\n",
       "      <td>WasmEdge</td>\n",
       "      <td>0100002a-3600-0000-0000-000000000000</td>\n",
       "      <td>2021</td>\n",
       "      <td>394</td>\n",
       "    </tr>\n",
       "    <tr>\n",
       "      <th>4</th>\n",
       "      <td>WasmEdge</td>\n",
       "      <td>0100002a-3600-0000-0000-000000000000</td>\n",
       "      <td>2022</td>\n",
       "      <td>166</td>\n",
       "    </tr>\n",
       "  </tbody>\n",
       "</table>\n",
       "</div>"
      ],
      "text/plain": [
       "  repo_name                              cntrb_id  year  total_contributions\n",
       "0  WasmEdge  01000022-0200-0000-0000-000000000000  2022                    2\n",
       "1  WasmEdge  01000029-9700-0000-0000-000000000000  2023                    1\n",
       "2  WasmEdge  0100002a-3600-0000-0000-000000000000  2020                    2\n",
       "3  WasmEdge  0100002a-3600-0000-0000-000000000000  2021                  394\n",
       "4  WasmEdge  0100002a-3600-0000-0000-000000000000  2022                  166"
      ]
     },
     "execution_count": 21,
     "metadata": {},
     "output_type": "execute_result"
    }
   ],
   "source": [
    "grouped_contributions_year = grouped_contributions_year.reset_index()\n",
    "grouped_contributions_year.head()"
   ]
  },
  {
   "cell_type": "code",
   "execution_count": 22,
   "id": "fe00f564-cb22-44e6-a3b6-38b3d33d5fe0",
   "metadata": {},
   "outputs": [
    {
     "data": {
      "text/plain": [
       "15520"
      ]
     },
     "execution_count": 22,
     "metadata": {},
     "output_type": "execute_result"
    }
   ],
   "source": [
    "len(grouped_contributions_year)"
   ]
  },
  {
   "cell_type": "markdown",
   "id": "eeb98b52-282a-47e3-ac16-b8a3b13ad41a",
   "metadata": {},
   "source": [
    "### Plot Graphs"
   ]
  },
  {
   "cell_type": "markdown",
   "id": "91b3854b-c517-4ccb-ba7d-b153405402c7",
   "metadata": {},
   "source": [
    "### Use PageRank and Betweenness Centrality to Subset Nodes\n",
    "\n",
    "We can now try to run the `PageRank` algorithm to compute the ranking of the nodes in the graph based on the structure of the incoming links. \n",
    "\n",
    "We will also look into the betweenness centrality in the graph to compute the shortest-path betweenness centrality for nodes. It measures how often a node occurs on all shortest paths between two nodes. Here we are trying to analyze which are the common repositories that occur on all paths in the graph. "
   ]
  },
  {
   "cell_type": "markdown",
   "id": "0b77dcb2-8e38-43f7-8803-d9fcd0997ec8",
   "metadata": {},
   "source": [
    "### Page Rank"
   ]
  },
  {
   "cell_type": "markdown",
   "id": "dd9ef93c-6dc2-4e07-985d-f2d859a47d41",
   "metadata": {},
   "source": [
    "PageRank ranks important nodes by analyzing the quantity and quality of the links that point to it. In our case, links that point to repositories come from contributors. "
   ]
  },
  {
   "cell_type": "markdown",
   "id": "afee6196-8d6d-4623-9b9a-6db8ee47a478",
   "metadata": {},
   "source": [
    "#### TO DO: Run PageRank grouped by year"
   ]
  },
  {
   "cell_type": "code",
   "execution_count": null,
   "id": "e02563c6-5239-456e-a6a9-f3c0a9dc31bb",
   "metadata": {},
   "outputs": [],
   "source": []
  }
 ],
 "metadata": {
  "kernelspec": {
   "display_name": "Python 3.9.14",
   "language": "python",
   "name": "python3"
  },
  "language_info": {
   "codemirror_mode": {
    "name": "ipython",
    "version": 3
   },
   "file_extension": ".py",
   "mimetype": "text/x-python",
   "name": "python",
   "nbconvert_exporter": "python",
   "pygments_lexer": "ipython3",
   "version": "3.9.14"
  }
 },
 "nbformat": 4,
 "nbformat_minor": 5
}
